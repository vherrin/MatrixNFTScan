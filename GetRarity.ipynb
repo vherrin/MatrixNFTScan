{
 "cells": [
  {
   "cell_type": "code",
   "execution_count": 1,
   "id": "44c87f10-f8bc-4ef5-a3ae-9c09ee64de1b",
   "metadata": {},
   "outputs": [],
   "source": [
    "import pandas as pd\n",
    "import glob\n",
    "import numpy as np\n",
    "\n",
    "pd.set_option(\"display.max_rows\", None)\n",
    "\n",
    "\n",
    "manualColumns = ['Background', \n",
    "                'Hair Style', \n",
    "                'Hair Color', \n",
    "                'Facial Hair', \n",
    "                'Top', \n",
    "                'Bottom',\n",
    "                'Footwear',\n",
    "                'Ring',\n",
    "                'Headwear',\n",
    "                'Glasses',\n",
    "                'Piercings', \n",
    "                'Accessories']\n"
   ]
  },
  {
   "cell_type": "code",
   "execution_count": 2,
   "id": "86439180-8087-4cd0-8849-95aa50d02c89",
   "metadata": {},
   "outputs": [
    {
     "name": "stdout",
     "output_type": "stream",
     "text": [
      "100000\n"
     ]
    }
   ],
   "source": [
    "#data_dictionary = pd.read_csv('Attributes_1_10000.csv',encoding = \"utf-8\")\n",
    "\n",
    "# need to load these in order so manually adding them instead of using glob\n",
    "projectFiles = ['./Attributes_1_5000.csv',\n",
    "'./Attributes_5001_10000.csv',\n",
    "'./Attributes_10001_15000.csv',\n",
    "'./Attributes_15001_20000.csv',\n",
    "'./Attributes_20001_25000.csv',\n",
    "'./Attributes_25001_30000.csv', \n",
    "'./Attributes_30001_35000.csv',\n",
    "'./Attributes_35001_40000.csv',\n",
    "'./Attributes_40001_45000.csv', \n",
    "'./Attributes_45001_50000.csv', \n",
    "'./Attributes_50001_55000.csv', \n",
    "'./Attributes_55001_60000.csv',\n",
    "'./Attributes_60001_65000.csv',\n",
    "'./Attributes_65001_70000.csv',\n",
    "'./Attributes_70001_75000.csv',\n",
    "'./Attributes_75001_80000.csv',\n",
    "'./Attributes_80001_85000.csv',\n",
    "'./Attributes_85001_90000.csv',\n",
    "'./Attributes_90001_95000.csv',\n",
    "'./Attributes_95000_100000.csv']\n",
    "\n",
    "#df = pd.concat(map(pd.read_csv, glob.glob('./Attributes_1*.csv')))\n",
    "df = pd.concat(map(pd.read_csv, projectFiles))\n",
    "\n",
    "print(len(df.index))"
   ]
  },
  {
   "cell_type": "code",
   "execution_count": 3,
   "id": "a66084a7-9144-4445-a0d5-74a063a7f9ed",
   "metadata": {},
   "outputs": [],
   "source": [
    "mci = manualColumns.copy()\n",
    "mci.insert(0,'ID')\n",
    "df.columns = mci"
   ]
  },
  {
   "cell_type": "code",
   "execution_count": 4,
   "id": "6fea5560-1fbb-46e2-8223-efb149260860",
   "metadata": {},
   "outputs": [
    {
     "name": "stdout",
     "output_type": "stream",
     "text": [
      "94870\n"
     ]
    }
   ],
   "source": [
    "# number of valid rows so still over 5000 not visible, minted or available \n",
    "validCount = len(df.index) - len(np.where(pd.isnull(df['Background']))[0])\n",
    "print(validCount)"
   ]
  },
  {
   "cell_type": "code",
   "execution_count": 5,
   "id": "6dc6edf6-d17e-4128-bdb5-e784c685db89",
   "metadata": {},
   "outputs": [],
   "source": [
    "#add the nifty ID here to pull the rarity values\n",
    "niftyID = 27035"
   ]
  },
  {
   "cell_type": "code",
   "execution_count": 6,
   "id": "2d0ffc52-e694-486a-b41c-7010fb16c217",
   "metadata": {},
   "outputs": [
    {
     "data": {
      "text/plain": [
       "ID                                                  27035\n",
       "Background                                          White\n",
       "Hair Style                                           None\n",
       "Hair Color                                    Light Brown\n",
       "Facial Hair                                          None\n",
       "Top            Brown Cardigan with Off-White Oxford Shirt\n",
       "Bottom                                              Khaki\n",
       "Footwear                   Brown Leather Shoes with Laces\n",
       "Ring                                                 None\n",
       "Headwear                                             None\n",
       "Glasses                                       Black Books\n",
       "Piercings                                            None\n",
       "Accessories                              Black Smartphone\n",
       "Name: 2034, dtype: object"
      ]
     },
     "metadata": {},
     "output_type": "display_data"
    }
   ],
   "source": [
    "display(df.iloc[niftyID - 1])\n",
    "from IPython.display import Image\n",
    "from IPython.core.display import HTML \n",
    "#Image(url= \"https://niftys.com/_next/image?url=https%3A%2F%2Fres.cloudinary.com%2Fniftys%2Fimage%2Fupload%2Fv1638312283%2Fproduction-nfts%2Fvqb3vlrk3ffbm22clwjy.png&w=640&q=75\", width=300)\n"
   ]
  },
  {
   "cell_type": "code",
   "execution_count": 7,
   "id": "85b4a935-b86f-4014-902d-88efefce9da9",
   "metadata": {},
   "outputs": [
    {
     "name": "stdout",
     "output_type": "stream",
     "text": [
      "{'Background': 1.0, 'Hair Style': 9.983163211617384, 'Hair Color': 4.550338145714423, 'Facial Hair': 1.3321257564907254, 'Top': 1664.3859649122808, 'Bottom': 20.592576514000434, 'Footwear': 4.759682921934577, 'Ring': 1.1769741331182928, 'Headwear': 1.1110460486250995, 'Glasses': 5.00712513854436, 'Piercings': 1.11109809800431, 'Accessories': 4.5531771933192555}\n"
     ]
    }
   ],
   "source": [
    "rarityDict = {}\n",
    "total = 0.0\n",
    "for count in range(0, len(manualColumns)):\n",
    "    searchFilterItem = df.iloc[niftyID - 1][count+1]\n",
    "    rarityDict[manualColumns[count]] = 1 / (df[manualColumns[count]].value_counts().filter(like = str(searchFilterItem), axis=0)[searchFilterItem] / validCount)\n",
    "    total += rarityDict[manualColumns[count]]  \n",
    "print(rarityDict)\n",
    "\n"
   ]
  },
  {
   "cell_type": "code",
   "execution_count": 8,
   "id": "dda0b72e-7d19-476f-af97-1b7e6fd46a7f",
   "metadata": {},
   "outputs": [
    {
     "name": "stdout",
     "output_type": "stream",
     "text": [
      "=============================================\n",
      "The rarity value total is 1719.5632720736498\n",
      "=============================================\n"
     ]
    }
   ],
   "source": [
    "print('=============================================')\n",
    "print('The rarity value total is', total)\n",
    "print('=============================================')"
   ]
  }
 ],
 "metadata": {
  "kernelspec": {
   "display_name": "Python 3 (ipykernel)",
   "language": "python",
   "name": "python3"
  },
  "language_info": {
   "codemirror_mode": {
    "name": "ipython",
    "version": 3
   },
   "file_extension": ".py",
   "mimetype": "text/x-python",
   "name": "python",
   "nbconvert_exporter": "python",
   "pygments_lexer": "ipython3",
   "version": "3.9.6"
  }
 },
 "nbformat": 4,
 "nbformat_minor": 5
}
