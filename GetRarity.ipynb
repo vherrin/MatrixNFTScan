{
 "cells": [
  {
   "cell_type": "code",
   "execution_count": null,
   "id": "20f30d6d-479c-404f-a619-a8dba9678720",
   "metadata": {},
   "outputs": [],
   "source": [
    "%run ./init.ipynb"
   ]
  },
  {
   "cell_type": "code",
   "execution_count": null,
   "id": "6dc6edf6-d17e-4128-bdb5-e784c685db89",
   "metadata": {},
   "outputs": [],
   "source": [
    "#add the nifty ID here to pull the rarity values\n",
    "niftyID = 27035"
   ]
  },
  {
   "cell_type": "code",
   "execution_count": null,
   "id": "2d0ffc52-e694-486a-b41c-7010fb16c217",
   "metadata": {},
   "outputs": [],
   "source": [
    "display(df.iloc[niftyID - 1])\n",
    "from IPython.display import Image\n",
    "from IPython.core.display import HTML \n",
    "#Image(url= \"https://niftys.com/_next/image?url=https%3A%2F%2Fres.cloudinary.com%2Fniftys%2Fimage%2Fupload%2Fv1638312283%2Fproduction-nfts%2Fvqb3vlrk3ffbm22clwjy.png&w=640&q=75\", width=300)\n"
   ]
  },
  {
   "cell_type": "code",
   "execution_count": null,
   "id": "85b4a935-b86f-4014-902d-88efefce9da9",
   "metadata": {},
   "outputs": [],
   "source": [
    "rarityDict = {}\n",
    "total = 0.0\n",
    "for count in range(0, len(manualColumns)):\n",
    "    searchFilterItem = df.iloc[niftyID - 1][count+1]\n",
    "    rarityDict[manualColumns[count]] = 1 / (df[manualColumns[count]].value_counts().filter(like = str(searchFilterItem), axis=0)[searchFilterItem] / validCount)\n",
    "    total += rarityDict[manualColumns[count]]  \n",
    "print(rarityDict)\n",
    "\n"
   ]
  },
  {
   "cell_type": "code",
   "execution_count": null,
   "id": "dda0b72e-7d19-476f-af97-1b7e6fd46a7f",
   "metadata": {},
   "outputs": [],
   "source": [
    "print('=============================================')\n",
    "print('The rarity value total is', total)\n",
    "print('=============================================')"
   ]
  }
 ],
 "metadata": {
  "kernelspec": {
   "display_name": "Python 3 (ipykernel)",
   "language": "python",
   "name": "python3"
  },
  "language_info": {
   "codemirror_mode": {
    "name": "ipython",
    "version": 3
   },
   "file_extension": ".py",
   "mimetype": "text/x-python",
   "name": "python",
   "nbconvert_exporter": "python",
   "pygments_lexer": "ipython3",
   "version": "3.9.6"
  }
 },
 "nbformat": 4,
 "nbformat_minor": 5
}
