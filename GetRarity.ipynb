{
 "cells": [
  {
   "cell_type": "code",
   "execution_count": 1,
   "id": "20f30d6d-479c-404f-a619-a8dba9678720",
   "metadata": {},
   "outputs": [
    {
     "name": "stdout",
     "output_type": "stream",
     "text": [
      "Length of attributes added  100000\n",
      "Number of valid rows with attributes  97040\n"
     ]
    }
   ],
   "source": [
    "%run ./init.ipynb"
   ]
  },
  {
   "cell_type": "code",
   "execution_count": 40,
   "id": "6dc6edf6-d17e-4128-bdb5-e784c685db89",
   "metadata": {},
   "outputs": [],
   "source": [
    "#add the nifty ID here to pull the rarity values\n",
    "niftyID = 67988"
   ]
  },
  {
   "cell_type": "code",
   "execution_count": 41,
   "id": "2d0ffc52-e694-486a-b41c-7010fb16c217",
   "metadata": {},
   "outputs": [
    {
     "data": {
      "text/plain": [
       "ID                                            11621\n",
       "Background                                    White\n",
       "Hair Style                                      NaN\n",
       "Hair Color                              Light Brown\n",
       "Facial Hair                                     NaN\n",
       "Top                 Navy Oxford with Tie and Pocket\n",
       "Bottom                                   Blue Denim\n",
       "Footwear       Black Leather Chelsea with Blue Sole\n",
       "Ring                                            NaN\n",
       "Headwear                      Navy Blue Workers Cap\n",
       "Glasses                                  Blue Books\n",
       "Piercings                                       NaN\n",
       "Accessories                   Light Blue Smartphone\n",
       "Name: 1620, dtype: object"
      ]
     },
     "metadata": {},
     "output_type": "display_data"
    }
   ],
   "source": [
    "display(df.iloc[niftyID - 1])\n",
    "from IPython.display import Image\n",
    "from IPython.core.display import HTML \n",
    "#Image(url= \"https://niftys.com/_next/image?url=https%3A%2F%2Fres.cloudinary.com%2Fniftys%2Fimage%2Fupload%2Fv1638312283%2Fproduction-nfts%2Fvqb3vlrk3ffbm22clwjy.png&w=640&q=75\", width=300)\n"
   ]
  },
  {
   "cell_type": "code",
   "execution_count": 42,
   "id": "85b4a935-b86f-4014-902d-88efefce9da9",
   "metadata": {},
   "outputs": [
    {
     "name": "stdout",
     "output_type": "stream",
     "text": [
      "White\n",
      "1\n",
      "Light Brown\n",
      "3\n",
      "Navy Oxford with Tie and Pocket\n",
      "5\n",
      "Blue Denim\n",
      "6\n",
      "Black Leather Chelsea with Blue Sole\n",
      "7\n",
      "Navy Blue Workers Cap\n",
      "9\n",
      "Blue Books\n",
      "10\n",
      "Light Blue Smartphone\n",
      "12\n",
      "{'Background': 1.0, 'Hair Color': 4.547902786900629, 'Top': 54.79592990390051, 'Bottom': 15.361965134706814, 'Footwear': 6462.266666666666, 'Headwear': 39.89053497942387, 'Glasses': 4846.7, 'Accessories': 102.03578947368422}\n"
     ]
    }
   ],
   "source": [
    "rarityDict = {}\n",
    "aTotal = 0.0\n",
    "mTotal = 1\n",
    "for count in range(0, len(manualColumns)):\n",
    "    searchFilterItem = df.iloc[niftyID - 1][count+1]\n",
    "    if (str(searchFilterItem) == 'nan'):\n",
    "        continue        \n",
    "    print(searchFilterItem)\n",
    "    rarityDict[manualColumns[count]] = 1 / (df[manualColumns[count]].value_counts().filter(like = str(searchFilterItem), axis=0)[searchFilterItem] / validCount)\n",
    "    aTotal += rarityDict[manualColumns[count]]  \n",
    "    mTotal *= math.sqrt(math.sqrt(rarityDict[manualColumns[count]]))\n",
    "    print(count+1)\n",
    "print(rarityDict)"
   ]
  },
  {
   "cell_type": "code",
   "execution_count": 43,
   "id": "dda0b72e-7d19-476f-af97-1b7e6fd46a7f",
   "metadata": {},
   "outputs": [
    {
     "name": "stdout",
     "output_type": "stream",
     "text": [
      "=============================================\n",
      "The addition rarity total is 11526.598788945283\n",
      "=============================================\n",
      "=============================================\n",
      "The multiplication rarity total is 4700.18457949562\n",
      "=============================================\n"
     ]
    }
   ],
   "source": [
    "print('=============================================')\n",
    "print('The addition rarity total is', aTotal)\n",
    "print('=============================================')\n",
    "print('=============================================')\n",
    "print('The multiplication rarity total is', mTotal)\n",
    "print('=============================================')"
   ]
  },
  {
   "cell_type": "code",
   "execution_count": null,
   "id": "af6d7cc4-4918-4f07-8476-ec81f76801bc",
   "metadata": {},
   "outputs": [],
   "source": [
    "# attempt to find the 1 unique avatar with all blue... looks like it is 11621\n",
    "array = ['Blue Denim']\n",
    "filterDBottomDF = df.loc[df['Bottom'].isin(array)]\n",
    "len(filterDBottomDF)\n",
    "array = ['Blue Lunchbox', 'Light Blue Smartphone']\n",
    "filterAccesoriesDF = filterDBottomDF.loc[filterDBottomDF['Accessories'].isin(array)]\n",
    "len(filterAccesoriesDF)\n",
    "array = ['Black Leather Chelsea with Blue Sole']\n",
    "filterfootwearDF = filterAccesoriesDF.loc[filterAccesoriesDF['Footwear'].isin(array)]\n",
    "filterfootwearDF"
   ]
  },
  {
   "cell_type": "code",
   "execution_count": null,
   "id": "fce7d1d6-02c4-4838-8827-d11d7568bfcb",
   "metadata": {},
   "outputs": [],
   "source": [
    "# attempt to find the 1 unique avatar with all blue... looks like it is 11621\n",
    "array = ['Blue Denim']\n",
    "filterDBottomDF = df.loc[df['Bottom'].isin(array)]\n",
    "len(filterDBottomDF)\n",
    "array = ['Blue Lunchbox', 'Light Blue Smartphone']\n",
    "filterAccesoriesDF = filterDBottomDF.loc[filterDBottomDF['Accessories'].isin(array)]\n",
    "len(filterAccesoriesDF)\n",
    "array = ['Black Leather Chelsea with Blue Sole']\n",
    "filterfootwearDF = filterAccesoriesDF.loc[filterAccesoriesDF['Footwear'].isin(array)]\n",
    "filterfootwearDF"
   ]
  },
  {
   "cell_type": "code",
   "execution_count": null,
   "id": "5b4f39e6-00fd-4875-8b57-19241868a433",
   "metadata": {},
   "outputs": [],
   "source": [
    "#rarityDict[manualColumns[count]] = 1 / (df[manualColumns[count]].value_counts().filter(like = str(searchFilterItem), axis=0)[searchFilterItem] / validCount)\n",
    "\n",
    "# df[manualColumns[2]].filter(like = 'black', axis=0).head(1000)\n",
    "\n",
    "array = ['Black']\n",
    "firstFilterDF = df.loc[df['Hair Color'].isin(array)]\n",
    "print(len(firstFilterDF))\n",
    "\n",
    "array = ['Black Books']\n",
    "secondFilterDF = firstFilterDF.loc[firstFilterDF['Glasses'].isin(array)]\n",
    "print(len(secondFilterDF))\n",
    "\n",
    "array = ['Charcoal Blazer with Light Blue Shirt and Black Tie', 'Gray Blazer with Black Shirt and No Tie', 'Gray Blazer with Black Shirt and Gray Tie']\n",
    "thirdFilterDF = secondFilterDF.loc[secondFilterDF['Top'].isin(array)]\n",
    "print(len(thirdFilterDF))\n",
    "\n",
    "array = ['Charcoal Slacks']\n",
    "fourthFilterDF = thirdFilterDF.loc[thirdFilterDF['Bottom'].isin(array)]\n",
    "print(len(fourthFilterDF))\n",
    "\n",
    "array = ['Black Suede Chelseas with Brown Sole', 'Black Leather Shoes with Laces', 'Black Leather Chelsea with Blue Sole']\n",
    "fifthFilterDF = fourthFilterDF.loc[fourthFilterDF['Footwear'].isin(array)]\n",
    "fifthFilterDF\n",
    "\n",
    "array = ['Black Leather Briefcase', 'Black Smartphone']\n",
    "sixFilterDF = fifthFilterDF.loc[fifthFilterDF['Accessories'].isin(array)]\n",
    "sixFilterDF\n"
   ]
  },
  {
   "cell_type": "code",
   "execution_count": null,
   "id": "76b09dd0-5f53-493f-af63-521bf491d6a4",
   "metadata": {},
   "outputs": [],
   "source": [
    "new_df = df[df['Hair Color'].str.contains('Black', na=False)]"
   ]
  },
  {
   "cell_type": "code",
   "execution_count": null,
   "id": "882f725f-868d-462c-bead-1c178d27b925",
   "metadata": {},
   "outputs": [],
   "source": [
    "len(new_df)"
   ]
  },
  {
   "cell_type": "code",
   "execution_count": null,
   "id": "6009effe-d75c-42a3-b583-0ffed57ea2db",
   "metadata": {},
   "outputs": [],
   "source": [
    "df[manualColumns[4]].str.contains('olive', na=False).head(100)"
   ]
  },
  {
   "cell_type": "code",
   "execution_count": null,
   "id": "45f5eab7-2ead-408c-bdca-70cf3a95713d",
   "metadata": {},
   "outputs": [],
   "source": [
    "df[manualColumns[4]].value_counts().filter(like = 'Olive Oxford', axis=0)"
   ]
  },
  {
   "cell_type": "code",
   "execution_count": null,
   "id": "236de9ca-2d9f-4d51-9e77-e980df0f078e",
   "metadata": {},
   "outputs": [],
   "source": [
    "df.columns"
   ]
  },
  {
   "cell_type": "code",
   "execution_count": null,
   "id": "482cf719-a6b9-4db4-8146-bb15af083803",
   "metadata": {},
   "outputs": [],
   "source": [
    "len(df.loc[(df['Hair Style'] == 'None')])"
   ]
  },
  {
   "cell_type": "code",
   "execution_count": null,
   "id": "11108e73-1903-4b41-a96b-c7f4f7d61efc",
   "metadata": {},
   "outputs": [],
   "source": [
    "len(df.loc[(df['Hair Style'] == 'None') & (df['Headwear'] != 'None')])\n"
   ]
  },
  {
   "cell_type": "code",
   "execution_count": null,
   "id": "ec173857-ab12-40b0-999a-71742e264562",
   "metadata": {},
   "outputs": [],
   "source": [
    "len(df.loc[(df['Hair Style'] == 'None') & (df['Headwear'] == 'None')])"
   ]
  },
  {
   "cell_type": "code",
   "execution_count": null,
   "id": "6bb185df-d5a0-414f-9077-0b4034ee7d2a",
   "metadata": {},
   "outputs": [],
   "source": [
    "df.loc[(df['Glasses'] == 'Blue Books')].dropna().sort_values(by=['Hair Style', 'Piercings'])"
   ]
  },
  {
   "cell_type": "code",
   "execution_count": null,
   "id": "9e13f03b-5e7b-42c9-a0b4-50555efd64cd",
   "metadata": {},
   "outputs": [],
   "source": [
    "len(df.loc[(df[manualColumns[0]] != 'None') &\n",
    "           (df[manualColumns[1]] != 'None') &\n",
    "           (df[manualColumns[2]] != 'None') &\n",
    "           (df[manualColumns[3]] != 'None') &\n",
    "           (df[manualColumns[4]] != 'None') &\n",
    "           (df[manualColumns[5]] != 'None') &\n",
    "           (df[manualColumns[6]] != 'None') &\n",
    "           (df[manualColumns[7]] != 'None') &\n",
    "           (df[manualColumns[8]] != 'None') &\n",
    "           (df[manualColumns[9]] != 'None') & \n",
    "           (df[manualColumns[10]] != 'None') &\n",
    "           (df[manualColumns[11]] != 'None')\n",
    "          ].dropna())"
   ]
  },
  {
   "cell_type": "code",
   "execution_count": null,
   "id": "494f4d32-96fe-4471-888c-c9f11ea0f80f",
   "metadata": {},
   "outputs": [],
   "source": [
    "dfrarity = df.copy()\n",
    "for x in range(0, 12):\n",
    "    dfrarity = dfrarity.loc[(dfrarity[manualColumns[x]] != 'None')].dropna().copy()\n",
    "    print('length of current trait count of at least',x+1,'items', len(dfrarity))\n",
    "    if x == 10:\n",
    "        dfrarity11 = dfrarity"
   ]
  },
  {
   "cell_type": "code",
   "execution_count": null,
   "id": "fc902183-2ea1-4315-97f1-2b4488d35239",
   "metadata": {},
   "outputs": [],
   "source": [
    "\n",
    "print('------ Trait Count of 10 or more ------')\n",
    "dfrarity11.head(20)"
   ]
  },
  {
   "cell_type": "code",
   "execution_count": null,
   "id": "3455caaa-33d1-4553-a51f-b9e29f258903",
   "metadata": {},
   "outputs": [],
   "source": [
    "print('===============================')\n",
    "print('------ Trait Count of 11 or more ------')\n",
    "dfrarity.head(20)"
   ]
  },
  {
   "cell_type": "code",
   "execution_count": null,
   "id": "fcd661d0-5043-40c7-a95c-42319b1ad17e",
   "metadata": {},
   "outputs": [],
   "source": []
  }
 ],
 "metadata": {
  "kernelspec": {
   "display_name": "Python 3 (ipykernel)",
   "language": "python",
   "name": "python3"
  },
  "language_info": {
   "codemirror_mode": {
    "name": "ipython",
    "version": 3
   },
   "file_extension": ".py",
   "mimetype": "text/x-python",
   "name": "python",
   "nbconvert_exporter": "python",
   "pygments_lexer": "ipython3",
   "version": "3.9.6"
  }
 },
 "nbformat": 4,
 "nbformat_minor": 5
}
