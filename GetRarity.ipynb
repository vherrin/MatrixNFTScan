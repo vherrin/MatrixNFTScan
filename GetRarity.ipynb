{
 "cells": [
  {
   "cell_type": "code",
   "execution_count": 1,
   "id": "20f30d6d-479c-404f-a619-a8dba9678720",
   "metadata": {},
   "outputs": [
    {
     "name": "stdout",
     "output_type": "stream",
     "text": [
      "Length of ckw5j7pqf0011g4731pvaj6gm/ attributes added  100000\n",
      "Number of valid rows with ckw5j7pqf0011g4731pvaj6gm/ attributes  97619\n",
      "\n",
      "\n",
      "Length of matrix-red-contract/ attributes added  100000\n",
      "Number of valid rows with matrix-red-contract/ attributes  40588\n",
      "\n",
      "\n",
      "Length of matrix-blue-contract/ attributes added  100000\n",
      "Number of valid rows with matrix-blue-contract/ attributes  10442\n",
      "\n",
      "\n"
     ]
    }
   ],
   "source": [
    "%run ./init.ipynb"
   ]
  },
  {
   "cell_type": "code",
   "execution_count": 14,
   "id": "6dc6edf6-d17e-4128-bdb5-e784c685db89",
   "metadata": {},
   "outputs": [],
   "source": [
    "#add the nifty ID here to pull the rarity values\n",
    "niftyID = 133"
   ]
  },
  {
   "cell_type": "code",
   "execution_count": 3,
   "id": "2d0ffc52-e694-486a-b41c-7010fb16c217",
   "metadata": {},
   "outputs": [
    {
     "ename": "NameError",
     "evalue": "name 'df' is not defined",
     "output_type": "error",
     "traceback": [
      "\u001b[0;31m---------------------------------------------------------------------------\u001b[0m",
      "\u001b[0;31mNameError\u001b[0m                                 Traceback (most recent call last)",
      "\u001b[0;32m/var/folders/42/p406j8k97nndnq50j_k1yw700000gp/T/ipykernel_20736/3941951925.py\u001b[0m in \u001b[0;36m<module>\u001b[0;34m\u001b[0m\n\u001b[0;32m----> 1\u001b[0;31m \u001b[0mdisplay\u001b[0m\u001b[0;34m(\u001b[0m\u001b[0mdf\u001b[0m\u001b[0;34m.\u001b[0m\u001b[0miloc\u001b[0m\u001b[0;34m[\u001b[0m\u001b[0mniftyID\u001b[0m \u001b[0;34m-\u001b[0m \u001b[0;36m1\u001b[0m\u001b[0;34m]\u001b[0m\u001b[0;34m)\u001b[0m\u001b[0;34m\u001b[0m\u001b[0;34m\u001b[0m\u001b[0m\n\u001b[0m\u001b[1;32m      2\u001b[0m \u001b[0;32mfrom\u001b[0m \u001b[0mIPython\u001b[0m\u001b[0;34m.\u001b[0m\u001b[0mdisplay\u001b[0m \u001b[0;32mimport\u001b[0m \u001b[0mImage\u001b[0m\u001b[0;34m\u001b[0m\u001b[0;34m\u001b[0m\u001b[0m\n\u001b[1;32m      3\u001b[0m \u001b[0;32mfrom\u001b[0m \u001b[0mIPython\u001b[0m\u001b[0;34m.\u001b[0m\u001b[0mcore\u001b[0m\u001b[0;34m.\u001b[0m\u001b[0mdisplay\u001b[0m \u001b[0;32mimport\u001b[0m \u001b[0mHTML\u001b[0m\u001b[0;34m\u001b[0m\u001b[0;34m\u001b[0m\u001b[0m\n\u001b[1;32m      4\u001b[0m \u001b[0;31m#Image(url= \"https://niftys.com/_next/image?url=https%3A%2F%2Fres.cloudinary.com%2Fniftys%2Fimage%2Fupload%2Fv1638312283%2Fproduction-nfts%2Fvqb3vlrk3ffbm22clwjy.png&w=640&q=75\", width=300)\u001b[0m\u001b[0;34m\u001b[0m\u001b[0;34m\u001b[0m\u001b[0;34m\u001b[0m\u001b[0m\n",
      "\u001b[0;31mNameError\u001b[0m: name 'df' is not defined"
     ]
    }
   ],
   "source": [
    "display(df.iloc[niftyID - 1])\n",
    "from IPython.display import Image\n",
    "from IPython.core.display import HTML \n",
    "#Image(url= \"https://niftys.com/_next/image?url=https%3A%2F%2Fres.cloudinary.com%2Fniftys%2Fimage%2Fupload%2Fv1638312283%2Fproduction-nfts%2Fvqb3vlrk3ffbm22clwjy.png&w=640&q=75\", width=300)\n"
   ]
  },
  {
   "cell_type": "code",
   "execution_count": 15,
   "id": "85b4a935-b86f-4014-902d-88efefce9da9",
   "metadata": {},
   "outputs": [
    {
     "name": "stdout",
     "output_type": "stream",
     "text": [
      "ID                                                          133\n",
      "Perception                               Can hear a bee's wings\n",
      "Headjack                                                    Yes\n",
      "Will                                           Quiet confidence\n",
      "Movement                                        Sleep paralysis\n",
      "Name                                                       None\n",
      "Persuasion                             People smile back at you\n",
      "Top                               Black Cotton Martial Arts Top\n",
      "Awareness                             Laughing at your mistakes\n",
      "Glasses                                                     NaN\n",
      "Footwear                                                    NaN\n",
      "Power                   Your grandma beats you at arm-wrestling\n",
      "Charisma                                                    6.0\n",
      "Wisdom                                                     10.0\n",
      "Intelligence                                               10.0\n",
      "Dexterity                                                   2.0\n",
      "Constitution                                               10.0\n",
      "Strength                                                    2.0\n",
      "Votes                                                       1.0\n",
      "Generation                                                  1.0\n",
      "Right Hand Accessory                                        NaN\n",
      "Left Hand Accessory                                         NaN\n",
      "Front Neck Tattoo                                           NaN\n",
      "Side Neck Tattoo                                            NaN\n",
      "Forearm Tattoo                                              NaN\n",
      "Bicep Tattoo                                                NaN\n",
      "Piercings                                                   NaN\n",
      "Neckwear                                                    NaN\n",
      "Wristwear                                                   NaN\n",
      "Facial Expression                                         Scowl\n",
      "Facial Hair                                                 NaN\n",
      "Hair Dye                                                Natural\n",
      "Hair Color                                           Dark Brown\n",
      "Hair Style                                                  NaN\n",
      "Background                                           Light Rain\n",
      "Bottom                          Black Cotton Martial Arts Pants\n",
      "Name: 132, dtype: object\n",
      "Can hear a bee's wings\n",
      "Yes\n",
      "Quiet confidence\n",
      "Sleep paralysis\n",
      "None\n",
      "People smile back at you\n",
      "Black Cotton Martial Arts Top\n",
      "Laughing at your mistakes\n",
      "Your grandma beats you at arm-wrestling\n",
      "6.0\n",
      "10.0\n",
      "10.0\n",
      "2.0\n",
      "10.0\n",
      "2.0\n",
      "1.0\n",
      "1.0\n",
      "Scowl\n",
      "Natural\n",
      "Dark Brown\n",
      "Light Rain\n",
      "Black Cotton Martial Arts Pants\n",
      "{'Perception': 1.0260391077920803, 'Headjack': 0.25726815807627873, 'Will': 1.0276547583899223, 'Movement': 1.7112422156669942, 'Name': 0.25726815807627873, 'Persuasion': 1.6126640926640927, 'Top': 8.407407407407408, 'Awareness': 1.03550178500595, 'Power': 1.7259504132231405, 'Charisma': 1.6126640926640927, 'Wisdom': 1.03550178500595, 'Intelligence': 1.0260391077920803, 'Dexterity': 1.7112422156669942, 'Constitution': 1.0276547583899223, 'Strength': 1.7259504132231405, 'Votes': 0.25726815807627873, 'Generation': 0.25726815807627873, 'Facial Expression': 1.1382166993677785, 'Hair Dye': 0.3520091693635383, 'Hair Color': 1.4361160775684223, 'Background': 0.5168027715911903, 'Bottom': 4.277755018435068}\n",
      "33.43548452152289\n",
      "1.06096663020376\n"
     ]
    }
   ],
   "source": [
    "df = dfDict['matrix-red-contract/']\n",
    "manualColumns = contractColumnDict['matrix-red-contract/']\n",
    "rarityDict = {}\n",
    "aTotal = 0.0\n",
    "mTotal = 1\n",
    "print(df.iloc[niftyID - 1])\n",
    "for count in range(0, len(manualColumns)):\n",
    "    searchFilterItem = df.iloc[niftyID - 1][count+1]\n",
    "    if (str(searchFilterItem) == 'nan'):\n",
    "        continue        \n",
    "    print(searchFilterItem)\n",
    "    rarityDict[manualColumns[count]] = 1 / (df[manualColumns[count]].value_counts().filter(like = str(searchFilterItem), axis=0)[searchFilterItem] / validCount)\n",
    "    aTotal += rarityDict[manualColumns[count]]  \n",
    "    mTotal *= math.sqrt(math.sqrt(rarityDict[manualColumns[count]]))\n",
    "    #print(count+1)\n",
    "print(rarityDict)\n",
    "print(aTotal)\n",
    "print(mTotal)"
   ]
  },
  {
   "cell_type": "code",
   "execution_count": 16,
   "id": "dda0b72e-7d19-476f-af97-1b7e6fd46a7f",
   "metadata": {},
   "outputs": [
    {
     "name": "stdout",
     "output_type": "stream",
     "text": [
      "=============================================\n",
      "The addition rarity total is 33.43548452152289\n",
      "=============================================\n",
      "=============================================\n",
      "The multiplication rarity total is 1.06096663020376\n",
      "=============================================\n"
     ]
    }
   ],
   "source": [
    "print('=============================================')\n",
    "print('The addition rarity total is', aTotal)\n",
    "print('=============================================')\n",
    "print('=============================================')\n",
    "print('The multiplication rarity total is', mTotal)\n",
    "print('=============================================')"
   ]
  },
  {
   "cell_type": "code",
   "execution_count": null,
   "id": "af6d7cc4-4918-4f07-8476-ec81f76801bc",
   "metadata": {},
   "outputs": [],
   "source": [
    "# attempt to find the 1 unique avatar with all blue... looks like it is 11621\n",
    "array = ['Blue Denim']\n",
    "filterDBottomDF = df.loc[df['Bottom'].isin(array)]\n",
    "len(filterDBottomDF)\n",
    "array = ['Blue Lunchbox', 'Light Blue Smartphone']\n",
    "filterAccesoriesDF = filterDBottomDF.loc[filterDBottomDF['Accessories'].isin(array)]\n",
    "len(filterAccesoriesDF)\n",
    "array = ['Black Leather Chelsea with Blue Sole']\n",
    "filterfootwearDF = filterAccesoriesDF.loc[filterAccesoriesDF['Footwear'].isin(array)]\n",
    "filterfootwearDF"
   ]
  },
  {
   "cell_type": "code",
   "execution_count": null,
   "id": "fce7d1d6-02c4-4838-8827-d11d7568bfcb",
   "metadata": {},
   "outputs": [],
   "source": [
    "# attempt to find the 1 unique avatar with all blue... looks like it is 11621\n",
    "array = ['Blue Denim']\n",
    "filterDBottomDF = df.loc[df['Bottom'].isin(array)]\n",
    "len(filterDBottomDF)\n",
    "array = ['Blue Lunchbox', 'Light Blue Smartphone']\n",
    "filterAccesoriesDF = filterDBottomDF.loc[filterDBottomDF['Accessories'].isin(array)]\n",
    "len(filterAccesoriesDF)\n",
    "array = ['Black Leather Chelsea with Blue Sole']\n",
    "filterfootwearDF = filterAccesoriesDF.loc[filterAccesoriesDF['Footwear'].isin(array)]\n",
    "filterfootwearDF"
   ]
  },
  {
   "cell_type": "code",
   "execution_count": null,
   "id": "5b4f39e6-00fd-4875-8b57-19241868a433",
   "metadata": {},
   "outputs": [],
   "source": [
    "#rarityDict[manualColumns[count]] = 1 / (df[manualColumns[count]].value_counts().filter(like = str(searchFilterItem), axis=0)[searchFilterItem] / validCount)\n",
    "\n",
    "# df[manualColumns[2]].filter(like = 'black', axis=0).head(1000)\n",
    "\n",
    "array = ['Black']\n",
    "firstFilterDF = df.loc[df['Hair Color'].isin(array)]\n",
    "print(len(firstFilterDF))\n",
    "\n",
    "array = ['Black Books']\n",
    "secondFilterDF = firstFilterDF.loc[firstFilterDF['Glasses'].isin(array)]\n",
    "print(len(secondFilterDF))\n",
    "\n",
    "array = ['Charcoal Blazer with Light Blue Shirt and Black Tie', 'Gray Blazer with Black Shirt and No Tie', 'Gray Blazer with Black Shirt and Gray Tie']\n",
    "thirdFilterDF = secondFilterDF.loc[secondFilterDF['Top'].isin(array)]\n",
    "print(len(thirdFilterDF))\n",
    "\n",
    "array = ['Charcoal Slacks']\n",
    "fourthFilterDF = thirdFilterDF.loc[thirdFilterDF['Bottom'].isin(array)]\n",
    "print(len(fourthFilterDF))\n",
    "\n",
    "array = ['Black Suede Chelseas with Brown Sole', 'Black Leather Shoes with Laces', 'Black Leather Chelsea with Blue Sole']\n",
    "fifthFilterDF = fourthFilterDF.loc[fourthFilterDF['Footwear'].isin(array)]\n",
    "fifthFilterDF\n",
    "\n",
    "array = ['Black Leather Briefcase', 'Black Smartphone']\n",
    "sixFilterDF = fifthFilterDF.loc[fifthFilterDF['Accessories'].isin(array)]\n",
    "sixFilterDF\n"
   ]
  },
  {
   "cell_type": "code",
   "execution_count": null,
   "id": "76b09dd0-5f53-493f-af63-521bf491d6a4",
   "metadata": {},
   "outputs": [],
   "source": [
    "new_df = df[df['Hair Color'].str.contains('Black', na=False)]"
   ]
  },
  {
   "cell_type": "code",
   "execution_count": null,
   "id": "882f725f-868d-462c-bead-1c178d27b925",
   "metadata": {},
   "outputs": [],
   "source": [
    "len(new_df)"
   ]
  },
  {
   "cell_type": "code",
   "execution_count": null,
   "id": "6009effe-d75c-42a3-b583-0ffed57ea2db",
   "metadata": {},
   "outputs": [],
   "source": [
    "df[manualColumns[4]].str.contains('olive', na=False).head(100)"
   ]
  },
  {
   "cell_type": "code",
   "execution_count": null,
   "id": "45f5eab7-2ead-408c-bdca-70cf3a95713d",
   "metadata": {},
   "outputs": [],
   "source": [
    "df[manualColumns[4]].value_counts().filter(like = 'Olive Oxford', axis=0)"
   ]
  },
  {
   "cell_type": "code",
   "execution_count": null,
   "id": "236de9ca-2d9f-4d51-9e77-e980df0f078e",
   "metadata": {},
   "outputs": [],
   "source": [
    "df.columns"
   ]
  },
  {
   "cell_type": "code",
   "execution_count": null,
   "id": "482cf719-a6b9-4db4-8146-bb15af083803",
   "metadata": {},
   "outputs": [],
   "source": [
    "len(df.loc[(df['Hair Style'] == 'None')])"
   ]
  },
  {
   "cell_type": "code",
   "execution_count": null,
   "id": "11108e73-1903-4b41-a96b-c7f4f7d61efc",
   "metadata": {},
   "outputs": [],
   "source": [
    "len(df.loc[(df['Hair Style'] == 'None') & (df['Headwear'] != 'None')])\n"
   ]
  },
  {
   "cell_type": "code",
   "execution_count": null,
   "id": "ec173857-ab12-40b0-999a-71742e264562",
   "metadata": {},
   "outputs": [],
   "source": [
    "len(df.loc[(df['Hair Style'] == 'None') & (df['Headwear'] == 'None')])"
   ]
  },
  {
   "cell_type": "code",
   "execution_count": null,
   "id": "6bb185df-d5a0-414f-9077-0b4034ee7d2a",
   "metadata": {},
   "outputs": [],
   "source": [
    "df.loc[(df['Glasses'] == 'Blue Books')].dropna().sort_values(by=['Hair Style', 'Piercings'])"
   ]
  },
  {
   "cell_type": "code",
   "execution_count": null,
   "id": "9e13f03b-5e7b-42c9-a0b4-50555efd64cd",
   "metadata": {},
   "outputs": [],
   "source": [
    "len(df.loc[(df[manualColumns[0]] != 'None') &\n",
    "           (df[manualColumns[1]] != 'None') &\n",
    "           (df[manualColumns[2]] != 'None') &\n",
    "           (df[manualColumns[3]] != 'None') &\n",
    "           (df[manualColumns[4]] != 'None') &\n",
    "           (df[manualColumns[5]] != 'None') &\n",
    "           (df[manualColumns[6]] != 'None') &\n",
    "           (df[manualColumns[7]] != 'None') &\n",
    "           (df[manualColumns[8]] != 'None') &\n",
    "           (df[manualColumns[9]] != 'None') & \n",
    "           (df[manualColumns[10]] != 'None') &\n",
    "           (df[manualColumns[11]] != 'None')\n",
    "          ].dropna())"
   ]
  },
  {
   "cell_type": "code",
   "execution_count": null,
   "id": "494f4d32-96fe-4471-888c-c9f11ea0f80f",
   "metadata": {},
   "outputs": [],
   "source": [
    "dfrarity = df.copy()\n",
    "for x in range(0, 12):\n",
    "    dfrarity = dfrarity.loc[(dfrarity[manualColumns[x]] != 'None')].dropna().copy()\n",
    "    print('length of current trait count of at least',x+1,'items', len(dfrarity))\n",
    "    if x == 10:\n",
    "        dfrarity11 = dfrarity"
   ]
  },
  {
   "cell_type": "code",
   "execution_count": null,
   "id": "fc902183-2ea1-4315-97f1-2b4488d35239",
   "metadata": {},
   "outputs": [],
   "source": [
    "\n",
    "print('------ Trait Count of 10 or more ------')\n",
    "dfrarity11.head(20)"
   ]
  },
  {
   "cell_type": "code",
   "execution_count": null,
   "id": "3455caaa-33d1-4553-a51f-b9e29f258903",
   "metadata": {},
   "outputs": [],
   "source": [
    "print('===============================')\n",
    "print('------ Trait Count of 11 or more ------')\n",
    "dfrarity.head(20)"
   ]
  },
  {
   "cell_type": "code",
   "execution_count": null,
   "id": "fcd661d0-5043-40c7-a95c-42319b1ad17e",
   "metadata": {},
   "outputs": [],
   "source": []
  }
 ],
 "metadata": {
  "kernelspec": {
   "display_name": "Python 3 (ipykernel)",
   "language": "python",
   "name": "python3"
  },
  "language_info": {
   "codemirror_mode": {
    "name": "ipython",
    "version": 3
   },
   "file_extension": ".py",
   "mimetype": "text/x-python",
   "name": "python",
   "nbconvert_exporter": "python",
   "pygments_lexer": "ipython3",
   "version": "3.9.6"
  }
 },
 "nbformat": 4,
 "nbformat_minor": 5
}
