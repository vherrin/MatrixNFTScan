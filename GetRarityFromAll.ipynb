{
 "cells": [
  {
   "cell_type": "code",
   "execution_count": 1,
   "id": "6fea5560-1fbb-46e2-8223-efb149260860",
   "metadata": {},
   "outputs": [
    {
     "name": "stdout",
     "output_type": "stream",
     "text": [
      "Length of ckw5j7pqf0011g4731pvaj6gm/ attributes added  100000\n",
      "Number of valid rows with ckw5j7pqf0011g4731pvaj6gm/ attributes  97210\n",
      "\n",
      "\n",
      "Length of matrix-red-contract/ attributes added  100000\n",
      "Number of valid rows with matrix-red-contract/ attributes  37756\n",
      "\n",
      "\n",
      "Length of matrix-blue-contract/ attributes added  100000\n",
      "Number of valid rows with matrix-blue-contract/ attributes  9669\n",
      "\n",
      "\n"
     ]
    }
   ],
   "source": [
    "%run ./init.ipynb"
   ]
  },
  {
   "cell_type": "code",
   "execution_count": 2,
   "id": "dde05563-17f0-4e19-abc2-8c155f41ec1f",
   "metadata": {},
   "outputs": [
    {
     "data": {
      "text/plain": [
       "array([97040, 97041, 97042, ..., 99997, 99998, 99999])"
      ]
     },
     "execution_count": 2,
     "metadata": {},
     "output_type": "execute_result"
    }
   ],
   "source": [
    "#index in the file of where there is an empty Avatar.  The actual Nifty ID will be one off since index starts at zero\n",
    "np.where(pd.isnull(df['Background']))[0]"
   ]
  },
  {
   "cell_type": "code",
   "execution_count": 3,
   "id": "9a225e2d-1a67-4bd4-a7cf-0f1405af6ccb",
   "metadata": {},
   "outputs": [],
   "source": [
    "# assumes that \n",
    "def create_file():\n",
    "    data_dictionary =  pd.DataFrame.from_dict(aListing, orient='index', columns=['aRarity'])  \n",
    "    data_dictionary['mRarity'] = xListing\n",
    "    data_dictionary.to_csv('Rarities_' + str(x - modulo + 1) + '_' + str(x) + '.csv')"
   ]
  },
  {
   "cell_type": "code",
   "execution_count": null,
   "id": "85b4a935-b86f-4014-902d-88efefce9da9",
   "metadata": {},
   "outputs": [],
   "source": [
    "%%time\n",
    "startRange = 1\n",
    "stopRange = 100001\n",
    "modulo = 25000\n",
    "aListing = {}  #addition listing\n",
    "xListing = [] #multiply listing\n",
    "for x in range(startRange, stopRange):\n",
    "    if (x-1) in (np.where(pd.isnull(df['Background']))[0]):\n",
    "        continue\n",
    "    rarityDict = {}\n",
    "    rarityListMultiplied = []\n",
    "    totalByAdd = 0.0\n",
    "    totalByMultiply = 1\n",
    "    for count in range(0, len(manualColumns)):\n",
    "        if (x-1) in (np.where(pd.isnull(df[manualColumns[count]]))[0]):\n",
    "            continue\n",
    "        searchFilterItem = df.iloc[x-1][count+1]\n",
    "        rarityDict[manualColumns[count]] = 1 / (df[manualColumns[count]].value_counts().filter(like=str(searchFilterItem), axis=0)[searchFilterItem] / validCount)\n",
    "        totalByAdd += rarityDict[manualColumns[count]]\n",
    "        totalByMultiply *= math.sqrt(math.sqrt(rarityDict[manualColumns[count]]))\n",
    "    aListing[x] = round(totalByAdd, 2)\n",
    "    xListing.append(round(totalByMultiply,2))\n",
    "    clear_output(wait=True)\n",
    "    print(x)\n",
    "    if(x % modulo == 0):\n",
    "        create_file()\n",
    "        aListing = {}\n",
    "        xListing.clear()\n",
    "create_file() # this is needed in case the last valid pull does not fall into modulo == 0 code\n"
   ]
  },
  {
   "cell_type": "code",
   "execution_count": 4,
   "id": "de48b6a6-f468-4adf-99e6-eac627d7ab04",
   "metadata": {},
   "outputs": [],
   "source": [
    "df = pd.concat(map(pd.read_csv, ['./Rarities_1_25000.csv', './Rarities_25001_50000.csv', './Rarities_50001_75000.csv', './Rarities_75001_100000.csv']))"
   ]
  },
  {
   "cell_type": "code",
   "execution_count": 5,
   "id": "aa75314e-8749-45b8-ba0b-7975f9cb4b42",
   "metadata": {},
   "outputs": [
    {
     "data": {
      "text/plain": [
       "Index(['Unnamed: 0', 'aRarity', 'mRarity'], dtype='object')"
      ]
     },
     "execution_count": 5,
     "metadata": {},
     "output_type": "execute_result"
    }
   ],
   "source": [
    "df.columns"
   ]
  },
  {
   "cell_type": "code",
   "execution_count": 6,
   "id": "50b71ba0-bcfc-4721-91c6-9140ff38d661",
   "metadata": {},
   "outputs": [],
   "source": [
    "letters = 'am'\n",
    "shutil.copyfile('README_template.md','README.md')\n",
    "\n",
    "# sort by ranking\n",
    "for letter in letters:\n",
    "   # print('\\n')\n",
    "   # print(letter, end=' ')\n",
    "   # print('\\n')\n",
    "    sorted_df = df.sort_values(by=[(letter + 'Rarity')], ascending=False)\n",
    "    sorted_df['rankingID'] = np.arange(sorted_df.shape[0])\n",
    "    sorted_df['rankingID'] = sorted_df['rankingID'] + 1\n",
    "    renamed_sorted_df = sorted_df.rename(columns={\"Unnamed: 0\": \"niftyID\"})\n",
    "\n",
    "    top = renamed_sorted_df[['rankingID','niftyID',(letter + 'Rarity')]].head(25).to_html(index=None, col_space=80)\n",
    "    bottom = renamed_sorted_df[['rankingID','niftyID',(letter + 'Rarity')]].iloc[::-1].head(25).to_html(index=None, col_space=80)\n",
    "\n",
    "    readme = open('README.md', 'a')\n",
    "    readme.write('</br>\\n')\n",
    "    readme.write('Updated on ' + str(date.today()))\n",
    "    readme.write('</br>\\n')\n",
    "    readme.write('</br>\\n')\n",
    "    if letter == 'a':\n",
    "        rarityText = '(rarity using addition)\\n'\n",
    "    else:\n",
    "        rarityText = '(rarity using multiplication)\\n'\n",
    "\n",
    "    readme.write('\\n ### Top 25 ' + rarityText)\n",
    "    readme.write(top)\n",
    "    readme.write('</br>\\n')\n",
    "    readme.write('\\n### Bottom 25 ' + rarityText)\n",
    "    readme.write('\\nPlease notice the reverse order  ')\n",
    "    readme.write(bottom)\n",
    "    readme.write('</br>  ')\n",
    "    readme.close()\n",
    "    \n",
    "    fully_sorted = renamed_sorted_df.sort_values(by=['niftyID'], ascending=True)\n",
    "    fully_sorted[['niftyID', 'rankingID', (letter + 'Rarity')]].head(len(renamed_sorted_df)).to_html('full_' + letter + '_sorted_niftyID.html', index=None, col_space=100)\n",
    "    \n",
    "    fully_sorted = renamed_sorted_df.sort_values(by=['rankingID'], ascending=True)\n",
    "    fully_sorted[['niftyID', 'rankingID', (letter + 'Rarity')]].head(len(renamed_sorted_df)).to_html('full_' + letter + '_sorted_rankingID.html', index=None, col_space=100)\n",
    "    #print(renamed_aSorted_df[renamed_aSorted_df[\"niftyID\"].between(25082, 25086)])\n",
    "    #print(renamed_mSorted_df[renamed_mSorted_df[\"niftyID\"].between(25082, 25086)])"
   ]
  },
  {
   "cell_type": "code",
   "execution_count": null,
   "id": "d0624adb-209c-4516-bdce-cec2e950ef1c",
   "metadata": {},
   "outputs": [],
   "source": [
    "renamed_df = df.rename(columns={\"Unnamed: 0\": \"niftyID\"})\n",
    "#renamed_df['rankingID'] = np.arange(renamed_df.shape[0])\n",
    "#renamed_df['rankingID'] = renamed_df['rankingID'] + 1\n",
    "sorted_df = renamed_df.sort_values(by=['niftyID'], ascending=True)\n",
    "\n",
    "                                                           \n",
    "sorted_df.head(25).to_html('test.html', index=None, col_space=80)"
   ]
  },
  {
   "cell_type": "code",
   "execution_count": null,
   "id": "4cf2c77e-0b23-4a4f-9e91-ff5e0a2cb6cf",
   "metadata": {},
   "outputs": [],
   "source": [
    "# Iterate over the string\n",
    "# letters to iterate over\n",
    "letters = 'am'\n",
    "for letter in letters:\n",
    "    print(letter, end=' ')\n",
    "    sorted_df = df.sort_values(by=[('a' + 'Rarity')], ascending=False)\n",
    "    sorted_df['rankingID'] = np.arange(Sorted_df.shape[0])\n",
    "\n",
    "\n",
    "\n",
    "aSorted_df = df.sort_values(by=['aRarity'], ascending=False)\n",
    "mSorted_df = df.sort_values(by=['mRarity'], ascending=False)\n",
    "\n",
    "aSorted_df['rankingID'] = np.arange(aSorted_df.shape[0])\n",
    "mSorted_df['rankingID'] = np.arange(mSorted_df.shape[0])\n",
    "\n",
    "aSorted_df['rankingID'] = aSorted_df['rankingID'] + 1\n",
    "mSorted_df['rankingID'] = mSorted_df['rankingID'] + 1\n",
    "\n",
    "mSorted_df.columns\n",
    "\n",
    "renamed_aSorted_df = aSorted_df.rename(columns={\"Unnamed: 0\": \"niftyID\"})\n",
    "renamed_mSorted_df = mSorted_df.rename(columns={\"Unnamed: 0\": \"niftyID\"})\n",
    "\n",
    "print(renamed_aSorted_df.columns)\n",
    "print(renamed_mSorted_df.columns)\n",
    "\n",
    "print(renamed_aSorted_df[renamed_aSorted_df[\"niftyID\"].between(25082, 25086)])\n",
    "print(renamed_mSorted_df[renamed_mSorted_df[\"niftyID\"].between(25082, 25086)])\n",
    "\n",
    "print(renamed_aSorted_df[['rankingID','niftyID','aRarity']].head(5).to_string(index=False))\n",
    "print(renamed_mSorted_df[['rankingID','niftyID','mRarity']].head(5).to_string(index=False))\n",
    "\n",
    "# reversed order\n",
    "print(renamed_aSorted_df[['rankingID','niftyID','aRarity']].iloc[::-1].head(5).to_string(index=False))\n",
    "print(renamed_mSorted_df[['rankingID','niftyID','mRarity']].iloc[::-1].head(5).to_string(index=False))\n",
    "\n",
    "print(renamed_aSorted_df[['rankingID','niftyID','aRarity']].tail(5).to_string(index=False))\n",
    "print(renamed_mSorted_df[['rankingID','niftyID','mRarity']].tail(5).to_string(index=False))\n",
    "\n",
    "test = renamed_aSorted_df[['rankingID','niftyID','aRarity']].iloc[::-1].head(25).to_html('asorted.html', index=None, col_space=65)\n",
    "test = pd.read_html('./asorted.html')[0]\n",
    "test = test.style.hide_index()\n",
    "test"
   ]
  },
  {
   "cell_type": "code",
   "execution_count": null,
   "id": "4d612be5-6ef6-460b-904b-b746eb8e9912",
   "metadata": {},
   "outputs": [],
   "source": []
  }
 ],
 "metadata": {
  "kernelspec": {
   "display_name": "Python 3 (ipykernel)",
   "language": "python",
   "name": "python3"
  },
  "language_info": {
   "codemirror_mode": {
    "name": "ipython",
    "version": 3
   },
   "file_extension": ".py",
   "mimetype": "text/x-python",
   "name": "python",
   "nbconvert_exporter": "python",
   "pygments_lexer": "ipython3",
   "version": "3.9.6"
  }
 },
 "nbformat": 4,
 "nbformat_minor": 5
}
