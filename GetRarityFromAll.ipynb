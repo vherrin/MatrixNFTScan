{
 "cells": [
  {
   "cell_type": "code",
   "execution_count": 1,
   "id": "6fea5560-1fbb-46e2-8223-efb149260860",
   "metadata": {},
   "outputs": [
    {
     "name": "stdout",
     "output_type": "stream",
     "text": [
      "Length of attributes added  100000\n",
      "Number of valid rows with attributes  96697\n"
     ]
    }
   ],
   "source": [
    "%run ./init.ipynb"
   ]
  },
  {
   "cell_type": "code",
   "execution_count": 2,
   "id": "dde05563-17f0-4e19-abc2-8c155f41ec1f",
   "metadata": {},
   "outputs": [
    {
     "data": {
      "text/plain": [
       "array([96697, 96698, 96699, ..., 99997, 99998, 99999])"
      ]
     },
     "execution_count": 2,
     "metadata": {},
     "output_type": "execute_result"
    }
   ],
   "source": [
    "#index in the file of where the empty NFT.  The actual Nifty ID will be one off since index starts at zero\n",
    "np.where(pd.isnull(df['Background']))[0]"
   ]
  },
  {
   "cell_type": "code",
   "execution_count": 3,
   "id": "6dc6edf6-d17e-4128-bdb5-e784c685db89",
   "metadata": {},
   "outputs": [],
   "source": [
    "#add the nifty ID here to pull the rarity values\n",
    "niftyID = 25086"
   ]
  },
  {
   "cell_type": "code",
   "execution_count": 4,
   "id": "85b4a935-b86f-4014-902d-88efefce9da9",
   "metadata": {},
   "outputs": [
    {
     "name": "stdout",
     "output_type": "stream",
     "text": [
      "42\n"
     ]
    },
    {
     "ename": "KeyboardInterrupt",
     "evalue": "",
     "output_type": "error",
     "traceback": [
      "\u001b[0;31m---------------------------------------------------------------------------\u001b[0m",
      "\u001b[0;31mKeyboardInterrupt\u001b[0m                         Traceback (most recent call last)",
      "\u001b[0;32m<timed exec>\u001b[0m in \u001b[0;36m<module>\u001b[0;34m\u001b[0m\n",
      "\u001b[0;32m/usr/local/lib/python3.9/site-packages/pandas/core/dtypes/missing.py\u001b[0m in \u001b[0;36misna\u001b[0;34m(obj)\u001b[0m\n\u001b[1;32m    136\u001b[0m     \u001b[0mName\u001b[0m\u001b[0;34m:\u001b[0m \u001b[0;36m1\u001b[0m\u001b[0;34m,\u001b[0m \u001b[0mdtype\u001b[0m\u001b[0;34m:\u001b[0m \u001b[0mbool\u001b[0m\u001b[0;34m\u001b[0m\u001b[0;34m\u001b[0m\u001b[0m\n\u001b[1;32m    137\u001b[0m     \"\"\"\n\u001b[0;32m--> 138\u001b[0;31m     \u001b[0;32mreturn\u001b[0m \u001b[0m_isna\u001b[0m\u001b[0;34m(\u001b[0m\u001b[0mobj\u001b[0m\u001b[0;34m)\u001b[0m\u001b[0;34m\u001b[0m\u001b[0;34m\u001b[0m\u001b[0m\n\u001b[0m\u001b[1;32m    139\u001b[0m \u001b[0;34m\u001b[0m\u001b[0m\n\u001b[1;32m    140\u001b[0m \u001b[0;34m\u001b[0m\u001b[0m\n",
      "\u001b[0;32m/usr/local/lib/python3.9/site-packages/pandas/core/dtypes/missing.py\u001b[0m in \u001b[0;36m_isna\u001b[0;34m(obj, inf_as_na)\u001b[0m\n\u001b[1;32m    171\u001b[0m         \u001b[0;32mreturn\u001b[0m \u001b[0m_isna_array\u001b[0m\u001b[0;34m(\u001b[0m\u001b[0mobj\u001b[0m\u001b[0;34m,\u001b[0m \u001b[0minf_as_na\u001b[0m\u001b[0;34m=\u001b[0m\u001b[0minf_as_na\u001b[0m\u001b[0;34m)\u001b[0m\u001b[0;34m\u001b[0m\u001b[0;34m\u001b[0m\u001b[0m\n\u001b[1;32m    172\u001b[0m     \u001b[0;32melif\u001b[0m \u001b[0misinstance\u001b[0m\u001b[0;34m(\u001b[0m\u001b[0mobj\u001b[0m\u001b[0;34m,\u001b[0m \u001b[0;34m(\u001b[0m\u001b[0mABCSeries\u001b[0m\u001b[0;34m,\u001b[0m \u001b[0mABCIndex\u001b[0m\u001b[0;34m)\u001b[0m\u001b[0;34m)\u001b[0m\u001b[0;34m:\u001b[0m\u001b[0;34m\u001b[0m\u001b[0;34m\u001b[0m\u001b[0m\n\u001b[0;32m--> 173\u001b[0;31m         \u001b[0mresult\u001b[0m \u001b[0;34m=\u001b[0m \u001b[0m_isna_array\u001b[0m\u001b[0;34m(\u001b[0m\u001b[0mobj\u001b[0m\u001b[0;34m.\u001b[0m\u001b[0m_values\u001b[0m\u001b[0;34m,\u001b[0m \u001b[0minf_as_na\u001b[0m\u001b[0;34m=\u001b[0m\u001b[0minf_as_na\u001b[0m\u001b[0;34m)\u001b[0m\u001b[0;34m\u001b[0m\u001b[0;34m\u001b[0m\u001b[0m\n\u001b[0m\u001b[1;32m    174\u001b[0m         \u001b[0;31m# box\u001b[0m\u001b[0;34m\u001b[0m\u001b[0;34m\u001b[0m\u001b[0;34m\u001b[0m\u001b[0m\n\u001b[1;32m    175\u001b[0m         \u001b[0;32mif\u001b[0m \u001b[0misinstance\u001b[0m\u001b[0;34m(\u001b[0m\u001b[0mobj\u001b[0m\u001b[0;34m,\u001b[0m \u001b[0mABCSeries\u001b[0m\u001b[0;34m)\u001b[0m\u001b[0;34m:\u001b[0m\u001b[0;34m\u001b[0m\u001b[0;34m\u001b[0m\u001b[0m\n",
      "\u001b[0;32m/usr/local/lib/python3.9/site-packages/pandas/core/dtypes/missing.py\u001b[0m in \u001b[0;36m_isna_array\u001b[0;34m(values, inf_as_na)\u001b[0m\n\u001b[1;32m    244\u001b[0m             \u001b[0mresult\u001b[0m \u001b[0;34m=\u001b[0m \u001b[0mvalues\u001b[0m\u001b[0;34m.\u001b[0m\u001b[0misna\u001b[0m\u001b[0;34m(\u001b[0m\u001b[0;34m)\u001b[0m\u001b[0;34m\u001b[0m\u001b[0;34m\u001b[0m\u001b[0m\n\u001b[1;32m    245\u001b[0m     \u001b[0;32melif\u001b[0m \u001b[0mis_string_dtype\u001b[0m\u001b[0;34m(\u001b[0m\u001b[0mdtype\u001b[0m\u001b[0;34m)\u001b[0m\u001b[0;34m:\u001b[0m\u001b[0;34m\u001b[0m\u001b[0;34m\u001b[0m\u001b[0m\n\u001b[0;32m--> 246\u001b[0;31m         \u001b[0mresult\u001b[0m \u001b[0;34m=\u001b[0m \u001b[0m_isna_string_dtype\u001b[0m\u001b[0;34m(\u001b[0m\u001b[0mvalues\u001b[0m\u001b[0;34m,\u001b[0m \u001b[0minf_as_na\u001b[0m\u001b[0;34m=\u001b[0m\u001b[0minf_as_na\u001b[0m\u001b[0;34m)\u001b[0m\u001b[0;34m\u001b[0m\u001b[0;34m\u001b[0m\u001b[0m\n\u001b[0m\u001b[1;32m    247\u001b[0m     \u001b[0;32melif\u001b[0m \u001b[0mneeds_i8_conversion\u001b[0m\u001b[0;34m(\u001b[0m\u001b[0mdtype\u001b[0m\u001b[0;34m)\u001b[0m\u001b[0;34m:\u001b[0m\u001b[0;34m\u001b[0m\u001b[0;34m\u001b[0m\u001b[0m\n\u001b[1;32m    248\u001b[0m         \u001b[0;31m# this is the NaT pattern\u001b[0m\u001b[0;34m\u001b[0m\u001b[0;34m\u001b[0m\u001b[0;34m\u001b[0m\u001b[0m\n",
      "\u001b[0;32m/usr/local/lib/python3.9/site-packages/pandas/core/dtypes/missing.py\u001b[0m in \u001b[0;36m_isna_string_dtype\u001b[0;34m(values, inf_as_na)\u001b[0m\n\u001b[1;32m    269\u001b[0m             \u001b[0mvec\u001b[0m \u001b[0;34m=\u001b[0m \u001b[0mlibmissing\u001b[0m\u001b[0;34m.\u001b[0m\u001b[0misnaobj_old\u001b[0m\u001b[0;34m(\u001b[0m\u001b[0mvalues\u001b[0m\u001b[0;34m.\u001b[0m\u001b[0mravel\u001b[0m\u001b[0;34m(\u001b[0m\u001b[0;34m)\u001b[0m\u001b[0;34m)\u001b[0m\u001b[0;34m\u001b[0m\u001b[0;34m\u001b[0m\u001b[0m\n\u001b[1;32m    270\u001b[0m         \u001b[0;32melse\u001b[0m\u001b[0;34m:\u001b[0m\u001b[0;34m\u001b[0m\u001b[0;34m\u001b[0m\u001b[0m\n\u001b[0;32m--> 271\u001b[0;31m             \u001b[0mvec\u001b[0m \u001b[0;34m=\u001b[0m \u001b[0mlibmissing\u001b[0m\u001b[0;34m.\u001b[0m\u001b[0misnaobj\u001b[0m\u001b[0;34m(\u001b[0m\u001b[0mvalues\u001b[0m\u001b[0;34m.\u001b[0m\u001b[0mravel\u001b[0m\u001b[0;34m(\u001b[0m\u001b[0;34m)\u001b[0m\u001b[0;34m)\u001b[0m\u001b[0;34m\u001b[0m\u001b[0;34m\u001b[0m\u001b[0m\n\u001b[0m\u001b[1;32m    272\u001b[0m \u001b[0;34m\u001b[0m\u001b[0m\n\u001b[1;32m    273\u001b[0m         \u001b[0mresult\u001b[0m\u001b[0;34m[\u001b[0m\u001b[0;34m...\u001b[0m\u001b[0;34m]\u001b[0m \u001b[0;34m=\u001b[0m \u001b[0mvec\u001b[0m\u001b[0;34m.\u001b[0m\u001b[0mreshape\u001b[0m\u001b[0;34m(\u001b[0m\u001b[0mshape\u001b[0m\u001b[0;34m)\u001b[0m\u001b[0;34m\u001b[0m\u001b[0;34m\u001b[0m\u001b[0m\n",
      "\u001b[0;31mKeyboardInterrupt\u001b[0m: "
     ]
    }
   ],
   "source": [
    "%%time\n",
    "startRange = 1\n",
    "stopRange = 100001\n",
    "modulo = 25000\n",
    "listing = {}\n",
    "for x in range(startRange, stopRange):\n",
    "    if (x-1) in (np.where(pd.isnull(df['Background']))[0]):\n",
    "        continue\n",
    "    rarityDict = {}\n",
    "    total = 0.0\n",
    "    for count in range(0, len(manualColumns)):\n",
    "        if (x-1) in (np.where(pd.isnull(df[manualColumns[count]]))[0]):\n",
    "            continue\n",
    "        searchFilterItem = df.iloc[x-1][count+1]\n",
    "        rarityDict[manualColumns[count]] = 1 / (df[manualColumns[count]].value_counts().filter(like=str(searchFilterItem), axis=0)[searchFilterItem] / validCount)\n",
    "        total += rarityDict[manualColumns[count]]\n",
    "    listing[x] = round(total, 3)\n",
    "    clear_output(wait=True)\n",
    "    print(x)\n",
    "    if(x % modulo == 0):\n",
    "        data_dictionary =  pd.DataFrame.from_dict(listing, orient='index', columns=['rarity'])  \n",
    "        data_dictionary.to_csv('Rarities_' + str(x - modulo + 1) + '_' + str(x) + '.csv')\n",
    "        listing = {}\n",
    "#print(rarityDict)\n"
   ]
  },
  {
   "cell_type": "code",
   "execution_count": 23,
   "id": "efac36fd-aadb-4bce-a0ed-a144137637f6",
   "metadata": {},
   "outputs": [],
   "source": [
    "data_dictionary =  pd.DataFrame.from_dict(listing, orient='index', columns=['rarity'])  #pd.DataFrame(listing, orient='index')\n",
    "data_dictionary.to_csv('Rarities_' + str(x - modulo + 1) + '_' + str(x) + '.csv')"
   ]
  },
  {
   "cell_type": "code",
   "execution_count": 18,
   "id": "de48b6a6-f468-4adf-99e6-eac627d7ab04",
   "metadata": {},
   "outputs": [],
   "source": [
    "df = pd.concat(map(pd.read_csv, ['./Rarities_1_25000.csv', './Rarities_25001_50000.csv', './Rarities_50001_75000.csv', './Rarities_75001_100000.csv']))"
   ]
  },
  {
   "cell_type": "code",
   "execution_count": 32,
   "id": "ebb64930-17a2-41bd-a7ad-7ebdc4267808",
   "metadata": {},
   "outputs": [
    {
     "name": "stdout",
     "output_type": "stream",
     "text": [
      "       Unnamed: 0  rarity\n",
      "13554       38555  33.720\n",
      "9462        59463  33.710\n",
      "14746       89747  33.517\n",
      "16764       16765  33.342\n",
      "9019        84020  33.219\n",
      "5385        30386  33.180\n",
      "3826        53827  33.029\n",
      "2653         2654  32.905\n",
      "17247       17248  32.791\n",
      "19639       94640  32.791\n",
      "19079       94080  32.388\n",
      "12196       12197  32.301\n",
      "7197        57198  32.263\n",
      "22941       22942  32.176\n",
      "17862       67863  32.138\n",
      "19173       69174  31.795\n",
      "6020        31021  31.579\n",
      "470           471  31.534\n",
      "12839       12840  31.495\n",
      "1188         1189  31.476\n",
      "23441       23442  30.813\n",
      "13332       88333  30.279\n",
      "20645       70646  29.937\n",
      "4478        29479  29.895\n",
      "15503       15504  29.487\n"
     ]
    }
   ],
   "source": [
    "df.tail(25)\n",
    "sorted_df = df.sort_values(by=['rarity'], ascending=False)\n",
    "print(sorted_df.tail(25))"
   ]
  },
  {
   "cell_type": "code",
   "execution_count": 33,
   "id": "7a4d465e-b624-4e6b-ad15-df6e61407c4c",
   "metadata": {},
   "outputs": [
    {
     "name": "stdout",
     "output_type": "stream",
     "text": [
      "       Unnamed: 0  rarity  rankingID\n",
      "13554       38555  33.720      96672\n",
      "9462        59463  33.710      96673\n",
      "14746       89747  33.517      96674\n",
      "16764       16765  33.342      96675\n",
      "9019        84020  33.219      96676\n",
      "5385        30386  33.180      96677\n",
      "3826        53827  33.029      96678\n",
      "2653         2654  32.905      96679\n",
      "17247       17248  32.791      96680\n",
      "19639       94640  32.791      96681\n",
      "19079       94080  32.388      96682\n",
      "12196       12197  32.301      96683\n",
      "7197        57198  32.263      96684\n",
      "22941       22942  32.176      96685\n",
      "17862       67863  32.138      96686\n",
      "19173       69174  31.795      96687\n",
      "6020        31021  31.579      96688\n",
      "470           471  31.534      96689\n",
      "12839       12840  31.495      96690\n",
      "1188         1189  31.476      96691\n",
      "23441       23442  30.813      96692\n",
      "13332       88333  30.279      96693\n",
      "20645       70646  29.937      96694\n",
      "4478        29479  29.895      96695\n",
      "15503       15504  29.487      96696\n"
     ]
    }
   ],
   "source": [
    "sorted_df['rankingID'] = np.arange(df.shape[0])\n",
    "print(sorted_df.tail(25))"
   ]
  },
  {
   "cell_type": "code",
   "execution_count": 34,
   "id": "48a082a9-1f24-4d73-b5c8-0dc744834281",
   "metadata": {},
   "outputs": [
    {
     "name": "stdout",
     "output_type": "stream",
     "text": [
      "       Unnamed: 0  rarity  rankingID\n",
      "13554       38555  33.720      96673\n",
      "9462        59463  33.710      96674\n",
      "14746       89747  33.517      96675\n",
      "16764       16765  33.342      96676\n",
      "9019        84020  33.219      96677\n",
      "5385        30386  33.180      96678\n",
      "3826        53827  33.029      96679\n",
      "2653         2654  32.905      96680\n",
      "17247       17248  32.791      96681\n",
      "19639       94640  32.791      96682\n",
      "19079       94080  32.388      96683\n",
      "12196       12197  32.301      96684\n",
      "7197        57198  32.263      96685\n",
      "22941       22942  32.176      96686\n",
      "17862       67863  32.138      96687\n",
      "19173       69174  31.795      96688\n",
      "6020        31021  31.579      96689\n",
      "470           471  31.534      96690\n",
      "12839       12840  31.495      96691\n",
      "1188         1189  31.476      96692\n",
      "23441       23442  30.813      96693\n",
      "13332       88333  30.279      96694\n",
      "20645       70646  29.937      96695\n",
      "4478        29479  29.895      96696\n",
      "15503       15504  29.487      96697\n"
     ]
    }
   ],
   "source": [
    "sorted_df['rankingID'] = sorted_df['rankingID'] + 1\n",
    "print(sorted_df.tail(25))"
   ]
  },
  {
   "cell_type": "code",
   "execution_count": 35,
   "id": "9736235d-9d29-447e-97cd-9e4c582eccff",
   "metadata": {},
   "outputs": [
    {
     "data": {
      "text/plain": [
       "Index(['Unnamed: 0', 'rarity', 'rankingID'], dtype='object')"
      ]
     },
     "execution_count": 35,
     "metadata": {},
     "output_type": "execute_result"
    }
   ],
   "source": [
    "sorted_df.columns"
   ]
  },
  {
   "cell_type": "code",
   "execution_count": 37,
   "id": "0f1da611-1bfa-4424-9441-f45e1d3c752f",
   "metadata": {},
   "outputs": [
    {
     "name": "stdout",
     "output_type": "stream",
     "text": [
      "       niftyID  rarity  rankingID\n",
      "13554    38555  33.720      96673\n",
      "9462     59463  33.710      96674\n",
      "14746    89747  33.517      96675\n",
      "16764    16765  33.342      96676\n",
      "9019     84020  33.219      96677\n",
      "5385     30386  33.180      96678\n",
      "3826     53827  33.029      96679\n",
      "2653      2654  32.905      96680\n",
      "17247    17248  32.791      96681\n",
      "19639    94640  32.791      96682\n",
      "19079    94080  32.388      96683\n",
      "12196    12197  32.301      96684\n",
      "7197     57198  32.263      96685\n",
      "22941    22942  32.176      96686\n",
      "17862    67863  32.138      96687\n",
      "19173    69174  31.795      96688\n",
      "6020     31021  31.579      96689\n",
      "470        471  31.534      96690\n",
      "12839    12840  31.495      96691\n",
      "1188      1189  31.476      96692\n",
      "23441    23442  30.813      96693\n",
      "13332    88333  30.279      96694\n",
      "20645    70646  29.937      96695\n",
      "4478     29479  29.895      96696\n",
      "15503    15504  29.487      96697\n"
     ]
    }
   ],
   "source": [
    "renamed_df = sorted_df.rename(columns={\"Unnamed: 0\": \"niftyID\"})\n",
    "print(renamed_df.tail(25))"
   ]
  },
  {
   "cell_type": "code",
   "execution_count": 38,
   "id": "eb237fc0-f484-468d-857a-102397c68de4",
   "metadata": {
    "tags": []
   },
   "outputs": [
    {
     "data": {
      "text/plain": [
       "Index(['niftyID', 'rarity', 'rankingID'], dtype='object')"
      ]
     },
     "execution_count": 38,
     "metadata": {},
     "output_type": "execute_result"
    }
   ],
   "source": [
    "renamed_df.columns"
   ]
  },
  {
   "cell_type": "code",
   "execution_count": 17,
   "id": "6a1f0a84-dfb0-4265-8fa2-ceb7d0bec172",
   "metadata": {},
   "outputs": [
    {
     "data": {
      "text/html": [
       "<div>\n",
       "<style scoped>\n",
       "    .dataframe tbody tr th:only-of-type {\n",
       "        vertical-align: middle;\n",
       "    }\n",
       "\n",
       "    .dataframe tbody tr th {\n",
       "        vertical-align: top;\n",
       "    }\n",
       "\n",
       "    .dataframe thead th {\n",
       "        text-align: right;\n",
       "    }\n",
       "</style>\n",
       "<table border=\"1\" class=\"dataframe\">\n",
       "  <thead>\n",
       "    <tr style=\"text-align: right;\">\n",
       "      <th></th>\n",
       "      <th>niftyID</th>\n",
       "      <th>rarity</th>\n",
       "      <th>rankingID</th>\n",
       "    </tr>\n",
       "  </thead>\n",
       "  <tbody>\n",
       "    <tr>\n",
       "      <th>21696</th>\n",
       "      <td>96697</td>\n",
       "      <td>192.419</td>\n",
       "      <td>10303</td>\n",
       "    </tr>\n",
       "  </tbody>\n",
       "</table>\n",
       "</div>"
      ],
      "text/plain": [
       "       niftyID   rarity  rankingID\n",
       "21696    96697  192.419      10303"
      ]
     },
     "execution_count": 17,
     "metadata": {},
     "output_type": "execute_result"
    }
   ],
   "source": [
    "renamed_df.loc[renamed_df['niftyID'] == 96697]"
   ]
  },
  {
   "cell_type": "code",
   "execution_count": 14,
   "id": "97dd409f-de84-4e86-950b-f655c4c801e0",
   "metadata": {},
   "outputs": [
    {
     "name": "stdout",
     "output_type": "stream",
     "text": [
      "       rankingID  niftyID     rarity\n",
      "11620          1    11621  11753.500\n",
      "4794           2    29795   6971.444\n",
      "13466          3    63467   6745.087\n",
      "11372          4    86373   6663.687\n",
      "3835           5    53836   6616.759\n",
      "24109          6    49110   6605.011\n",
      "8100           7    83101   6597.546\n",
      "18769          8    68770   6582.487\n",
      "5134           9     5135   6553.885\n",
      "22888         10    22889   6517.527\n",
      "2941          11     2942   6512.232\n",
      "18727         12    93728   6506.497\n",
      "13378         13    38379   6505.447\n",
      "13774         14    63775   6500.603\n",
      "749           15      750   6488.856\n",
      "17312         16    17313   5614.408\n",
      "14590         17    39591   5272.704\n",
      "6746          18    81747   5254.856\n",
      "2343          19    52344   5216.025\n",
      "24824         20    74825   5211.553\n",
      "23222         21    48223   5207.643\n",
      "1366          22     1367   5198.539\n",
      "1796          23    26797   5184.565\n",
      "8944          24    58945   5172.361\n",
      "18678         25    93679   5166.613\n"
     ]
    }
   ],
   "source": [
    "print(renamed_df[['rankingID','niftyID','rarity']].head(25))"
   ]
  },
  {
   "cell_type": "code",
   "execution_count": 45,
   "id": "9b0548e6-d754-49fa-a76f-065178c68c2f",
   "metadata": {},
   "outputs": [
    {
     "name": "stdout",
     "output_type": "stream",
     "text": [
      "       rankingID  niftyID  rarity\n",
      "15503      96697    15504  29.487\n",
      "4478       96696    29479  29.895\n",
      "20645      96695    70646  29.937\n",
      "13332      96694    88333  30.279\n",
      "23441      96693    23442  30.813\n",
      "1188       96692     1189  31.476\n",
      "12839      96691    12840  31.495\n",
      "470        96690      471  31.534\n",
      "6020       96689    31021  31.579\n",
      "19173      96688    69174  31.795\n",
      "17862      96687    67863  32.138\n",
      "22941      96686    22942  32.176\n",
      "7197       96685    57198  32.263\n",
      "12196      96684    12197  32.301\n",
      "19079      96683    94080  32.388\n",
      "19639      96682    94640  32.791\n",
      "17247      96681    17248  32.791\n",
      "2653       96680     2654  32.905\n",
      "3826       96679    53827  33.029\n",
      "5385       96678    30386  33.180\n",
      "9019       96677    84020  33.219\n",
      "16764      96676    16765  33.342\n",
      "14746      96675    89747  33.517\n",
      "9462       96674    59463  33.710\n",
      "13554      96673    38555  33.720\n"
     ]
    }
   ],
   "source": [
    "# reversed order\n",
    "print(renamed_df[['rankingID','niftyID','rarity']].iloc[::-1].head(25))"
   ]
  },
  {
   "cell_type": "code",
   "execution_count": 46,
   "id": "8299fa42-ceb2-4fe3-89af-e8ceb8ce45a7",
   "metadata": {},
   "outputs": [
    {
     "name": "stdout",
     "output_type": "stream",
     "text": [
      "       rankingID  niftyID  rarity\n",
      "13554      96673    38555  33.720\n",
      "9462       96674    59463  33.710\n",
      "14746      96675    89747  33.517\n",
      "16764      96676    16765  33.342\n",
      "9019       96677    84020  33.219\n",
      "5385       96678    30386  33.180\n",
      "3826       96679    53827  33.029\n",
      "2653       96680     2654  32.905\n",
      "17247      96681    17248  32.791\n",
      "19639      96682    94640  32.791\n",
      "19079      96683    94080  32.388\n",
      "12196      96684    12197  32.301\n",
      "7197       96685    57198  32.263\n",
      "22941      96686    22942  32.176\n",
      "17862      96687    67863  32.138\n",
      "19173      96688    69174  31.795\n",
      "6020       96689    31021  31.579\n",
      "470        96690      471  31.534\n",
      "12839      96691    12840  31.495\n",
      "1188       96692     1189  31.476\n",
      "23441      96693    23442  30.813\n",
      "13332      96694    88333  30.279\n",
      "20645      96695    70646  29.937\n",
      "4478       96696    29479  29.895\n",
      "15503      96697    15504  29.487\n"
     ]
    }
   ],
   "source": [
    "print(renamed_df[['rankingID','niftyID','rarity']].tail(25))"
   ]
  },
  {
   "cell_type": "code",
   "execution_count": null,
   "id": "f3e1b09e-7a6e-402f-95cb-1342f1b97905",
   "metadata": {},
   "outputs": [],
   "source": []
  },
  {
   "cell_type": "code",
   "execution_count": null,
   "id": "31db0b6d-4959-48e1-abdc-800e843799bc",
   "metadata": {},
   "outputs": [],
   "source": []
  }
 ],
 "metadata": {
  "kernelspec": {
   "display_name": "Python 3 (ipykernel)",
   "language": "python",
   "name": "python3"
  },
  "language_info": {
   "codemirror_mode": {
    "name": "ipython",
    "version": 3
   },
   "file_extension": ".py",
   "mimetype": "text/x-python",
   "name": "python",
   "nbconvert_exporter": "python",
   "pygments_lexer": "ipython3",
   "version": "3.9.6"
  }
 },
 "nbformat": 4,
 "nbformat_minor": 5
}
