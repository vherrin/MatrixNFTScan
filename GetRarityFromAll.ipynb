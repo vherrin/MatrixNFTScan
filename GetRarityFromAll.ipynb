{
 "cells": [
  {
   "cell_type": "code",
   "execution_count": 18,
   "id": "6fea5560-1fbb-46e2-8223-efb149260860",
   "metadata": {},
   "outputs": [
    {
     "name": "stdout",
     "output_type": "stream",
     "text": [
      "Length of attributes added  100000\n",
      "Number of valid rows with attributes  96406\n"
     ]
    }
   ],
   "source": [
    "%run ./init.ipynb"
   ]
  },
  {
   "cell_type": "code",
   "execution_count": 19,
   "id": "dde05563-17f0-4e19-abc2-8c155f41ec1f",
   "metadata": {},
   "outputs": [
    {
     "data": {
      "text/plain": [
       "array([96406, 96407, 96408, ..., 99997, 99998, 99999])"
      ]
     },
     "execution_count": 19,
     "metadata": {},
     "output_type": "execute_result"
    }
   ],
   "source": [
    "#index in the file of where the empty NFT.  The actual Nifty ID will be one off since index starts at zero\n",
    "np.where(pd.isnull(df['Background']))[0]"
   ]
  },
  {
   "cell_type": "code",
   "execution_count": 20,
   "id": "6dc6edf6-d17e-4128-bdb5-e784c685db89",
   "metadata": {},
   "outputs": [],
   "source": [
    "#add the nifty ID here to pull the rarity values\n",
    "niftyID = 25086"
   ]
  },
  {
   "cell_type": "code",
   "execution_count": null,
   "id": "85b4a935-b86f-4014-902d-88efefce9da9",
   "metadata": {},
   "outputs": [],
   "source": [
    "%%time\n",
    "startRange = 1\n",
    "stopRange = 100001\n",
    "modulo = 1\n",
    "listing = {}\n",
    "for x in range(startRange, stopRange):\n",
    "    if (x-1) in (np.where(pd.isnull(df['Background']))[0]):\n",
    "        continue\n",
    "    rarityDict = {}\n",
    "    total = 0.0\n",
    "    for count in range(0, len(manualColumns)):\n",
    "        searchFilterItem = df.iloc[x-1][count+1]\n",
    "        rarityDict[manualColumns[count]] = 1 / (df[manualColumns[count]].value_counts().filter(like=str(searchFilterItem), axis=0)[searchFilterItem] / validCount)\n",
    "        total += rarityDict[manualColumns[count]]\n",
    "    listing[x] = round(total, 3)\n",
    "    clear_output(wait=True)\n",
    "    print(x)\n",
    "    if(x % modulo == 0):\n",
    "        data_dictionary =  pd.DataFrame.from_dict(listing, orient='index', columns=['rarity'])  \n",
    "        data_dictionary.to_csv('RaritiesTemp_' + str(x - modulo + 1) + '_' + str(x) + '.csv')\n",
    "        listing = {}\n",
    "#print(rarityDict)\n"
   ]
  },
  {
   "cell_type": "code",
   "execution_count": null,
   "id": "efac36fd-aadb-4bce-a0ed-a144137637f6",
   "metadata": {},
   "outputs": [],
   "source": [
    "data_dictionary =  pd.DataFrame.from_dict(listing, orient='index', columns=['rarity'])  #pd.DataFrame(listing, orient='index')\n",
    "data_dictionary.to_csv('Rarities_' + str(x - modulo + 1) + '_' + str(x) + '.csv')"
   ]
  },
  {
   "cell_type": "code",
   "execution_count": 4,
   "id": "de48b6a6-f468-4adf-99e6-eac627d7ab04",
   "metadata": {},
   "outputs": [],
   "source": [
    "df = pd.concat(map(pd.read_csv, ['./Rarities_1_25000.csv', './Rarities_25001_50000.csv', './Rarities_50001_75000.csv', './Rarities_75001_100000.csv']))"
   ]
  },
  {
   "cell_type": "code",
   "execution_count": 5,
   "id": "ebb64930-17a2-41bd-a7ad-7ebdc4267808",
   "metadata": {},
   "outputs": [],
   "source": [
    "#print(df)\n",
    "sorted_df = df.sort_values(by=['rarity'], ascending=False)"
   ]
  },
  {
   "cell_type": "code",
   "execution_count": 6,
   "id": "7a4d465e-b624-4e6b-ad15-df6e61407c4c",
   "metadata": {},
   "outputs": [],
   "source": [
    "sorted_df['rankingID'] = np.arange(df.shape[0])"
   ]
  },
  {
   "cell_type": "code",
   "execution_count": 7,
   "id": "48a082a9-1f24-4d73-b5c8-0dc744834281",
   "metadata": {},
   "outputs": [],
   "source": [
    "sorted_df['rankingID'] = sorted_df['rankingID'] + 1"
   ]
  },
  {
   "cell_type": "code",
   "execution_count": 8,
   "id": "9736235d-9d29-447e-97cd-9e4c582eccff",
   "metadata": {},
   "outputs": [
    {
     "data": {
      "text/plain": [
       "Index(['Unnamed: 0', 'rarity', 'rankingID'], dtype='object')"
      ]
     },
     "execution_count": 8,
     "metadata": {},
     "output_type": "execute_result"
    }
   ],
   "source": [
    "sorted_df.columns"
   ]
  },
  {
   "cell_type": "code",
   "execution_count": 9,
   "id": "0f1da611-1bfa-4424-9441-f45e1d3c752f",
   "metadata": {},
   "outputs": [],
   "source": [
    "renamed_df = sorted_df.rename(columns={\"Unnamed: 0\": \"niftyID\"})"
   ]
  },
  {
   "cell_type": "code",
   "execution_count": 10,
   "id": "eb237fc0-f484-468d-857a-102397c68de4",
   "metadata": {
    "tags": []
   },
   "outputs": [
    {
     "data": {
      "text/plain": [
       "Index(['niftyID', 'rarity', 'rankingID'], dtype='object')"
      ]
     },
     "execution_count": 10,
     "metadata": {},
     "output_type": "execute_result"
    }
   ],
   "source": [
    "renamed_df.columns"
   ]
  },
  {
   "cell_type": "code",
   "execution_count": 11,
   "id": "6a1f0a84-dfb0-4265-8fa2-ceb7d0bec172",
   "metadata": {},
   "outputs": [
    {
     "data": {
      "text/html": [
       "<div>\n",
       "<style scoped>\n",
       "    .dataframe tbody tr th:only-of-type {\n",
       "        vertical-align: middle;\n",
       "    }\n",
       "\n",
       "    .dataframe tbody tr th {\n",
       "        vertical-align: top;\n",
       "    }\n",
       "\n",
       "    .dataframe thead th {\n",
       "        text-align: right;\n",
       "    }\n",
       "</style>\n",
       "<table border=\"1\" class=\"dataframe\">\n",
       "  <thead>\n",
       "    <tr style=\"text-align: right;\">\n",
       "      <th></th>\n",
       "      <th>niftyID</th>\n",
       "      <th>rarity</th>\n",
       "      <th>rankingID</th>\n",
       "    </tr>\n",
       "  </thead>\n",
       "  <tbody>\n",
       "    <tr>\n",
       "      <th>2034</th>\n",
       "      <td>27035</td>\n",
       "      <td>1689.176</td>\n",
       "      <td>83</td>\n",
       "    </tr>\n",
       "  </tbody>\n",
       "</table>\n",
       "</div>"
      ],
      "text/plain": [
       "      niftyID    rarity  rankingID\n",
       "2034    27035  1689.176         83"
      ]
     },
     "execution_count": 11,
     "metadata": {},
     "output_type": "execute_result"
    }
   ],
   "source": [
    "renamed_df.loc[renamed_df['niftyID'] == 27035]"
   ]
  },
  {
   "cell_type": "code",
   "execution_count": 21,
   "id": "97dd409f-de84-4e86-950b-f655c4c801e0",
   "metadata": {},
   "outputs": [
    {
     "name": "stdout",
     "output_type": "stream",
     "text": [
      "       rankingID  niftyID     rarity\n",
      "11620          1    11621  11732.100\n",
      "4794           2    29795   6955.348\n",
      "13466          3    63467   6733.812\n",
      "11372          4    86373   6653.388\n",
      "3835           5    53836   6603.381\n",
      "24109          6    49110   6589.774\n",
      "8100           7    83101   6584.488\n",
      "18769          8    68770   6569.332\n",
      "5134           9     5135   6540.719\n",
      "22888         10    22889   6503.229\n",
      "2941          11     2942   6497.533\n",
      "18727         12    93728   6494.860\n",
      "13378         13    38379   6492.310\n",
      "13774         14    63775   6490.522\n",
      "749           15      750   6478.754\n",
      "17312         16    17313   5601.065\n",
      "14590         17    39591   5271.307\n",
      "6746          18    81747   5242.183\n",
      "2343          19    52344   5228.305\n",
      "24824         20    74825   5201.598\n",
      "23222         21    48223   5198.745\n",
      "1366          22     1367   5188.549\n",
      "1796          23    26797   5176.901\n",
      "1136          24    76137   5163.262\n",
      "8944          25    58945   5161.794\n"
     ]
    }
   ],
   "source": [
    "print(renamed_df[['rankingID','niftyID','rarity']].head(25))"
   ]
  },
  {
   "cell_type": "code",
   "execution_count": 22,
   "id": "9b0548e6-d754-49fa-a76f-065178c68c2f",
   "metadata": {},
   "outputs": [
    {
     "name": "stdout",
     "output_type": "stream",
     "text": [
      "       rankingID  niftyID  rarity\n",
      "8434       96406    83435  47.211\n",
      "5704       96405    55705  47.211\n",
      "4952       96404    79953  48.017\n",
      "22535      96403    47536  48.057\n",
      "21033      96402    96034  48.306\n",
      "16252      96401    16253  48.426\n",
      "9986       96400    84987  48.426\n",
      "10938      96399    10939  48.465\n",
      "12542      96398    87543  48.739\n",
      "18274      96397    18275  48.739\n",
      "11362      96396    86363  48.739\n",
      "12647      96395    62648  48.778\n",
      "15503      96394    15504  48.780\n",
      "15135      96393    90136  48.785\n",
      "15595      96392    15596  48.785\n",
      "10782      96391    85783  48.825\n",
      "6082       96390    81083  48.885\n",
      "13060      96389    13061  48.925\n",
      "6035       96388    81036  49.073\n",
      "24700      96387    74701  49.073\n",
      "14041      96386    14042  49.107\n",
      "9767       96385    84768  49.107\n",
      "3741       96384    28742  49.107\n",
      "16085      96383    66086  49.112\n",
      "14423      96382    39424  49.146\n"
     ]
    }
   ],
   "source": [
    "# reversed order\n",
    "print(renamed_df[['rankingID','niftyID','rarity']].iloc[::-1].head(25))"
   ]
  },
  {
   "cell_type": "code",
   "execution_count": null,
   "id": "8299fa42-ceb2-4fe3-89af-e8ceb8ce45a7",
   "metadata": {},
   "outputs": [],
   "source": [
    "print(renamed_df.tail(20))"
   ]
  },
  {
   "cell_type": "code",
   "execution_count": null,
   "id": "f3e1b09e-7a6e-402f-95cb-1342f1b97905",
   "metadata": {},
   "outputs": [],
   "source": []
  }
 ],
 "metadata": {
  "kernelspec": {
   "display_name": "Python 3 (ipykernel)",
   "language": "python",
   "name": "python3"
  },
  "language_info": {
   "codemirror_mode": {
    "name": "ipython",
    "version": 3
   },
   "file_extension": ".py",
   "mimetype": "text/x-python",
   "name": "python",
   "nbconvert_exporter": "python",
   "pygments_lexer": "ipython3",
   "version": "3.9.6"
  }
 },
 "nbformat": 4,
 "nbformat_minor": 5
}
