{
 "cells": [
  {
   "cell_type": "code",
   "execution_count": 1,
   "id": "6fea5560-1fbb-46e2-8223-efb149260860",
   "metadata": {},
   "outputs": [
    {
     "name": "stdout",
     "output_type": "stream",
     "text": [
      "Length of ckw5j7pqf0011g4731pvaj6gm/ attributes added  100000\n",
      "Number of valid rows with ckw5j7pqf0011g4731pvaj6gm/ attributes  97619\n",
      "\n",
      "\n",
      "Length of matrix-red-contract/ attributes added  100000\n",
      "Number of valid rows with matrix-red-contract/ attributes  40779\n",
      "\n",
      "\n",
      "Length of matrix-blue-contract/ attributes added  100000\n",
      "Number of valid rows with matrix-blue-contract/ attributes  10499\n",
      "\n",
      "\n"
     ]
    }
   ],
   "source": [
    "%run ./init.ipynb"
   ]
  },
  {
   "cell_type": "code",
   "execution_count": 2,
   "id": "874a90cd-5871-47cd-89c2-b9f534f88a6e",
   "metadata": {},
   "outputs": [
    {
     "name": "stdout",
     "output_type": "stream",
     "text": [
      "matrix-red-contract\n"
     ]
    }
   ],
   "source": [
    "print( contractURLs[0][:-1] )"
   ]
  },
  {
   "cell_type": "code",
   "execution_count": 3,
   "id": "8e737a5d-e1d9-4e8e-9450-9c7b3cd65ce4",
   "metadata": {},
   "outputs": [],
   "source": [
    "#missingIDs = np.where(pd.isnull(df['Background']))[0]\n",
    "#print(missingIDs)\n",
    "#filledIDs = {}"
   ]
  },
  {
   "cell_type": "code",
   "execution_count": 2,
   "id": "9a225e2d-1a67-4bd4-a7cf-0f1405af6ccb",
   "metadata": {},
   "outputs": [],
   "source": [
    "startRange = 1\n",
    "stopRange = 100001\n",
    "rarityDataFiles={}\n",
    "\n",
    "for contractURL in contractURLs:   \n",
    "    file = dataDir + contractURL + 'Rarities_' + contractURL[:-1] + '_' + str(startRange) + '_' + str(stopRange - 1) + '.csv'\n",
    "    rarityDataFiles[contractURL] = file\n",
    "\n",
    "# assumes that \n",
    "def create_file(contract, file):\n",
    "    data_dictionary =  pd.DataFrame.from_dict(aListing, orient='index', columns=['aRarity'])  \n",
    "    data_dictionary['mRarity'] = xListing\n",
    "    data_dictionary.to_csv(file)"
   ]
  },
  {
   "cell_type": "code",
   "execution_count": 5,
   "id": "85b4a935-b86f-4014-902d-88efefce9da9",
   "metadata": {},
   "outputs": [
    {
     "name": "stdout",
     "output_type": "stream",
     "text": [
      "matrix-blue-contract/  97534\n",
      "CPU times: user 2h 3min 57s, sys: 28.2 s, total: 2h 4min 26s\n",
      "Wall time: 2h 4min 1s\n"
     ]
    }
   ],
   "source": [
    "%%time\n",
    "\n",
    "for contractURL in contractURLs:\n",
    "\n",
    "    df = dfDict[contractURL]\n",
    "    \n",
    "    IDs = np.where(pd.notnull(df['Background']))[0]\n",
    "    print(IDs)\n",
    "    contractColumns = contractColumnDict[contractURL]\n",
    "    file = dataDir + contractURL + 'Rarities_' + contractURL[:-1] + '_' + str(startRange) + '_' + str(stopRange - 1) + '.csv'\n",
    "    rarityDataFiles[contractURL] = file\n",
    "    aListing = {}  #addition listing\n",
    "    xListing = [] #multiply listing\n",
    "    for x in (IDs):\n",
    "        print(df.iloc[x])\n",
    "        # if (x-1) in (np.where(pd.isnull(df['Background']))[0]):\n",
    "        #     continue\n",
    "        rarityDict = {}\n",
    "        rarityListMultiplied = []\n",
    "        totalByAdd = 0.0\n",
    "        totalByMultiply = 1\n",
    "        for count in range(0, len(contractColumns)):\n",
    "            if (x) in (np.where(pd.isnull(df[contractColumns[count]]))[0]):\n",
    "                continue\n",
    "            searchFilterItem = df.iloc[x][count+1]\n",
    "            rarityDict[contractColumns[count]] = 1 / (df[contractColumns[count]].value_counts().filter(like=str(searchFilterItem), axis=0)[searchFilterItem] / validCount)\n",
    "            totalByAdd += rarityDict[contractColumns[count]]\n",
    "            totalByMultiply *= math.sqrt(math.sqrt(rarityDict[contractColumns[count]]))\n",
    "        aListing[x+1] = round(totalByAdd, 2)\n",
    "        xListing.append(round(totalByMultiply,2))\n",
    "        clear_output(wait=True)\n",
    "        print(contractURL + '  ' + str(x))\n",
    "\n",
    "    create_file(contractURL, file)\n",
    "    aListing = {}\n",
    "    xListing.clear()    \n"
   ]
  },
  {
   "cell_type": "code",
   "execution_count": null,
   "id": "de48b6a6-f468-4adf-99e6-eac627d7ab04",
   "metadata": {},
   "outputs": [],
   "source": [
    "#df = pd.concat(map(pd.read_csv, ['./Rarities_1_25000.csv', './Rarities_25001_50000.csv', './Rarities_50001_75000.csv', './Rarities_75001_100000.csv']))\n",
    "\n",
    "df = pd.concat(map(pd.read_csv, ['Rarities_1_100000.csv']))\n"
   ]
  },
  {
   "cell_type": "code",
   "execution_count": null,
   "id": "aa75314e-8749-45b8-ba0b-7975f9cb4b42",
   "metadata": {},
   "outputs": [],
   "source": [
    "df.columns"
   ]
  },
  {
   "cell_type": "code",
   "execution_count": 4,
   "id": "50b71ba0-bcfc-4721-91c6-9140ff38d661",
   "metadata": {},
   "outputs": [],
   "source": [
    "letters = 'am'\n",
    "shutil.copyfile('README_template.md','README.md')\n",
    "\n",
    "for contractURL in contractURLs:\n",
    "    \n",
    "    df = pd.concat(map(pd.read_csv, [rarityDataFiles[contractURL]]))\n",
    "    \n",
    "    readme = open('README.md', 'a')  \n",
    "    readme.write('</br>\\n')\n",
    "    readme.write('\\n # Contract: ' + contractURL[:-1] )\n",
    "    readme.write('</br>\\n')\n",
    "    readme.write('## Updated on ' + str(date.today()))\n",
    "    readme.write('</br>\\n')\n",
    "    \n",
    "    ## Full listings from last retreive \n",
    "    readme.write('- [Sorted by Nifty ID using addition method](' + dataDir + contractURL + 'full_a_sorted_niftyID.html) </br>\\n ')\n",
    "    readme.write('- [Sorted by Ranking ID using addition method](' + dataDir + contractURL + 'full_a_sorted_rankingID.html) </br>\\n ')\n",
    "    readme.write('- [Sorted by Nifty ID using multiplication method](' + dataDir + contractURL + 'full_m_sorted_niftyID.html) </br>\\n ')\n",
    "    readme.write('- [Sorted by Ranking ID using multiplication method](' + dataDir + contractURL + 'full_m_sorted_rankingID.html) </br>\\n ')\n",
    "    \n",
    "    # sort by ranking\n",
    "    for letter in letters:\n",
    "       # print('\\n')\n",
    "       # print(letter, end=' ')\n",
    "       # print('\\n')\n",
    "        sorted_df = df.sort_values(by=[(letter + 'Rarity')], ascending=False)\n",
    "        sorted_df['rankingID'] = np.arange(sorted_df.shape[0])\n",
    "        sorted_df['rankingID'] = sorted_df['rankingID'] + 1\n",
    "        renamed_sorted_df = sorted_df.rename(columns={\"Unnamed: 0\": \"niftyID\"})\n",
    "\n",
    "        top = renamed_sorted_df[['rankingID','niftyID',(letter + 'Rarity')]].head(25).to_html(index=None, col_space=80)\n",
    "        bottom = renamed_sorted_df[['rankingID','niftyID',(letter + 'Rarity')]].iloc[::-1].head(25).to_html(index=None, col_space=80)\n",
    "        \n",
    "        readme.write('</br>\\n')\n",
    "        if letter == 'a':\n",
    "            rarityText = '(rarity using addition)\\n'\n",
    "        else:\n",
    "            rarityText = '(rarity using multiplication)\\n'\n",
    "\n",
    "        readme.write('\\n ### Top 25 ' + rarityText)\n",
    "        readme.write(top)\n",
    "        readme.write('</br>\\n')\n",
    "        readme.write('\\n### Bottom 25 ' + rarityText)\n",
    "        readme.write('\\nPlease notice the reverse order  ')\n",
    "        readme.write(bottom)\n",
    "        readme.write('</br>  ')\n",
    "\n",
    "        fully_sorted = renamed_sorted_df.sort_values(by=['niftyID'], ascending=True)\n",
    "        fully_sorted[['niftyID', 'rankingID', (letter + 'Rarity')]].head(len(renamed_sorted_df)).to_html(dataDir + contractURL + 'full_' + letter + '_sorted_niftyID.html', index=None, col_space=100)\n",
    "\n",
    "        fully_sorted = renamed_sorted_df.sort_values(by=['rankingID'], ascending=True)\n",
    "        fully_sorted[['niftyID', 'rankingID', (letter + 'Rarity')]].head(len(renamed_sorted_df)).to_html(dataDir + contractURL + 'full_' + letter + '_sorted_rankingID.html', index=None, col_space=100)\n",
    "        #print(renamed_aSorted_df[renamed_aSorted_df[\"niftyID\"].between(25082, 25086)])\n",
    "        #print(renamed_mSorted_df[renamed_mSorted_df[\"niftyID\"].between(25082, 25086)])\n",
    "        \n",
    "    readme.close()"
   ]
  },
  {
   "cell_type": "code",
   "execution_count": null,
   "id": "d0624adb-209c-4516-bdce-cec2e950ef1c",
   "metadata": {},
   "outputs": [],
   "source": [
    "renamed_df = df.rename(columns={\"Unnamed: 0\": \"niftyID\"})\n",
    "#renamed_df['rankingID'] = np.arange(renamed_df.shape[0])\n",
    "#renamed_df['rankingID'] = renamed_df['rankingID'] + 1\n",
    "sorted_df = renamed_df.sort_values(by=['niftyID'], ascending=True)\n",
    "\n",
    "                                                           \n",
    "sorted_df.head(25).to_html('test.html', index=None, col_space=80)"
   ]
  },
  {
   "cell_type": "code",
   "execution_count": null,
   "id": "4cf2c77e-0b23-4a4f-9e91-ff5e0a2cb6cf",
   "metadata": {},
   "outputs": [],
   "source": [
    "# Iterate over the string\n",
    "# letters to iterate over\n",
    "letters = 'am'\n",
    "for letter in letters:\n",
    "    print(letter, end=' ')\n",
    "    sorted_df = df.sort_values(by=[('a' + 'Rarity')], ascending=False)\n",
    "    sorted_df['rankingID'] = np.arange(Sorted_df.shape[0])\n",
    "\n",
    "\n",
    "\n",
    "aSorted_df = df.sort_values(by=['aRarity'], ascending=False)\n",
    "mSorted_df = df.sort_values(by=['mRarity'], ascending=False)\n",
    "\n",
    "aSorted_df['rankingID'] = np.arange(aSorted_df.shape[0])\n",
    "mSorted_df['rankingID'] = np.arange(mSorted_df.shape[0])\n",
    "\n",
    "aSorted_df['rankingID'] = aSorted_df['rankingID'] + 1\n",
    "mSorted_df['rankingID'] = mSorted_df['rankingID'] + 1\n",
    "\n",
    "mSorted_df.columns\n",
    "\n",
    "renamed_aSorted_df = aSorted_df.rename(columns={\"Unnamed: 0\": \"niftyID\"})\n",
    "renamed_mSorted_df = mSorted_df.rename(columns={\"Unnamed: 0\": \"niftyID\"})\n",
    "\n",
    "print(renamed_aSorted_df.columns)\n",
    "print(renamed_mSorted_df.columns)\n",
    "\n",
    "print(renamed_aSorted_df[renamed_aSorted_df[\"niftyID\"].between(25082, 25086)])\n",
    "print(renamed_mSorted_df[renamed_mSorted_df[\"niftyID\"].between(25082, 25086)])\n",
    "\n",
    "print(renamed_aSorted_df[['rankingID','niftyID','aRarity']].head(5).to_string(index=False))\n",
    "print(renamed_mSorted_df[['rankingID','niftyID','mRarity']].head(5).to_string(index=False))\n",
    "\n",
    "# reversed order\n",
    "print(renamed_aSorted_df[['rankingID','niftyID','aRarity']].iloc[::-1].head(5).to_string(index=False))\n",
    "print(renamed_mSorted_df[['rankingID','niftyID','mRarity']].iloc[::-1].head(5).to_string(index=False))\n",
    "\n",
    "print(renamed_aSorted_df[['rankingID','niftyID','aRarity']].tail(5).to_string(index=False))\n",
    "print(renamed_mSorted_df[['rankingID','niftyID','mRarity']].tail(5).to_string(index=False))\n",
    "\n",
    "test = renamed_aSorted_df[['rankingID','niftyID','aRarity']].iloc[::-1].head(25).to_html('asorted.html', index=None, col_space=65)\n",
    "test = pd.read_html('./asorted.html')[0]\n",
    "test = test.style.hide_index()\n",
    "test"
   ]
  },
  {
   "cell_type": "code",
   "execution_count": null,
   "id": "4d612be5-6ef6-460b-904b-b746eb8e9912",
   "metadata": {},
   "outputs": [],
   "source": []
  }
 ],
 "metadata": {
  "kernelspec": {
   "display_name": "Python 3 (ipykernel)",
   "language": "python",
   "name": "python3"
  },
  "language_info": {
   "codemirror_mode": {
    "name": "ipython",
    "version": 3
   },
   "file_extension": ".py",
   "mimetype": "text/x-python",
   "name": "python",
   "nbconvert_exporter": "python",
   "pygments_lexer": "ipython3",
   "version": "3.9.6"
  }
 },
 "nbformat": 4,
 "nbformat_minor": 5
}
