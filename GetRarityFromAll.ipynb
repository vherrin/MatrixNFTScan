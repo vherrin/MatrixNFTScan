{
 "cells": [
  {
   "cell_type": "code",
   "execution_count": 1,
   "id": "6fea5560-1fbb-46e2-8223-efb149260860",
   "metadata": {},
   "outputs": [
    {
     "name": "stdout",
     "output_type": "stream",
     "text": [
      "Length of attributes added  100000\n",
      "Number of valid rows with attributes  94871\n"
     ]
    }
   ],
   "source": [
    "%run ./init.ipynb"
   ]
  },
  {
   "cell_type": "code",
   "execution_count": 2,
   "id": "dde05563-17f0-4e19-abc2-8c155f41ec1f",
   "metadata": {},
   "outputs": [
    {
     "data": {
      "text/plain": [
       "array([29784, 33922, 33923, ..., 99997, 99998, 99999])"
      ]
     },
     "execution_count": 2,
     "metadata": {},
     "output_type": "execute_result"
    }
   ],
   "source": [
    "#index in the file of where the empty NFT.  The actual Nifty ID will be one off since index starts at zero\n",
    "np.where(pd.isnull(df['Background']))[0]"
   ]
  },
  {
   "cell_type": "code",
   "execution_count": 3,
   "id": "6dc6edf6-d17e-4128-bdb5-e784c685db89",
   "metadata": {},
   "outputs": [],
   "source": [
    "#add the nifty ID here to pull the rarity values\n",
    "niftyID = 25086"
   ]
  },
  {
   "cell_type": "code",
   "execution_count": 4,
   "id": "85b4a935-b86f-4014-902d-88efefce9da9",
   "metadata": {},
   "outputs": [
    {
     "name": "stdout",
     "output_type": "stream",
     "text": [
      "39\n",
      "CPU times: user 2.1 s, sys: 14.8 ms, total: 2.11 s\n",
      "Wall time: 2.11 s\n"
     ]
    }
   ],
   "source": [
    "%%time\n",
    "startRange = 10\n",
    "stopRange = 40\n",
    "listing = {}\n",
    "for x in range(startRange, stopRange):\n",
    "    if (x-1) in (np.where(pd.isnull(df['Background']))[0]):\n",
    "        continue\n",
    "    rarityDict = {}\n",
    "    total = 0.0\n",
    "    for count in range(0, len(manualColumns)):\n",
    "        searchFilterItem = df.iloc[x-1][count+1]\n",
    "        rarityDict[manualColumns[count]] = 1 / (df[manualColumns[count]].value_counts().filter(like=str(searchFilterItem), axis=0)[searchFilterItem] / validCount)\n",
    "        total += rarityDict[manualColumns[count]]\n",
    "        #print(total)\n",
    "    listing[x] = round(total, 3)\n",
    "    clear_output(wait=True)\n",
    "    print(x)\n",
    "data_dictionary =  pd.DataFrame.from_dict(listing, orient='index', columns=['rarity'])  #pd.DataFrame(listing, orient='index')\n",
    "data_dictionary.to_csv('RaritiesTemp' + '.csv')\n",
    "#print(rarityDict)\n"
   ]
  },
  {
   "cell_type": "code",
   "execution_count": 5,
   "id": "de48b6a6-f468-4adf-99e6-eac627d7ab04",
   "metadata": {},
   "outputs": [],
   "source": [
    "df = pd.concat(map(pd.read_csv, ['./Rarities_1_25000.csv', './Rarities_25001_50000.csv', './Rarities_50001_75000.csv', './Rarities_75001_100000.csv']))"
   ]
  },
  {
   "cell_type": "code",
   "execution_count": 6,
   "id": "ebb64930-17a2-41bd-a7ad-7ebdc4267808",
   "metadata": {},
   "outputs": [],
   "source": [
    "#print(df)\n",
    "sorted_df = df.sort_values(by=['rarity'], ascending=False)"
   ]
  },
  {
   "cell_type": "code",
   "execution_count": 7,
   "id": "7a4d465e-b624-4e6b-ad15-df6e61407c4c",
   "metadata": {},
   "outputs": [],
   "source": [
    "sorted_df['rankingID'] = np.arange(df.shape[0])"
   ]
  },
  {
   "cell_type": "code",
   "execution_count": 8,
   "id": "48a082a9-1f24-4d73-b5c8-0dc744834281",
   "metadata": {},
   "outputs": [],
   "source": [
    "sorted_df['rankingID'] = sorted_df['rankingID'] + 1"
   ]
  },
  {
   "cell_type": "code",
   "execution_count": 9,
   "id": "9736235d-9d29-447e-97cd-9e4c582eccff",
   "metadata": {},
   "outputs": [
    {
     "data": {
      "text/plain": [
       "Index(['Unnamed: 0', 'rarity', 'rankingID'], dtype='object')"
      ]
     },
     "execution_count": 9,
     "metadata": {},
     "output_type": "execute_result"
    }
   ],
   "source": [
    "sorted_df.columns"
   ]
  },
  {
   "cell_type": "code",
   "execution_count": 10,
   "id": "0f1da611-1bfa-4424-9441-f45e1d3c752f",
   "metadata": {},
   "outputs": [],
   "source": [
    "renamed_df = sorted_df.rename(columns={\"Unnamed: 0\": \"niftyID\"})"
   ]
  },
  {
   "cell_type": "code",
   "execution_count": 11,
   "id": "eb237fc0-f484-468d-857a-102397c68de4",
   "metadata": {
    "tags": []
   },
   "outputs": [
    {
     "data": {
      "text/plain": [
       "Index(['niftyID', 'rarity', 'rankingID'], dtype='object')"
      ]
     },
     "execution_count": 11,
     "metadata": {},
     "output_type": "execute_result"
    }
   ],
   "source": [
    "renamed_df.columns"
   ]
  },
  {
   "cell_type": "code",
   "execution_count": 12,
   "id": "6a1f0a84-dfb0-4265-8fa2-ceb7d0bec172",
   "metadata": {},
   "outputs": [
    {
     "data": {
      "text/html": [
       "<div>\n",
       "<style scoped>\n",
       "    .dataframe tbody tr th:only-of-type {\n",
       "        vertical-align: middle;\n",
       "    }\n",
       "\n",
       "    .dataframe tbody tr th {\n",
       "        vertical-align: top;\n",
       "    }\n",
       "\n",
       "    .dataframe thead th {\n",
       "        text-align: right;\n",
       "    }\n",
       "</style>\n",
       "<table border=\"1\" class=\"dataframe\">\n",
       "  <thead>\n",
       "    <tr style=\"text-align: right;\">\n",
       "      <th></th>\n",
       "      <th>niftyID</th>\n",
       "      <th>rarity</th>\n",
       "      <th>rankingID</th>\n",
       "    </tr>\n",
       "  </thead>\n",
       "  <tbody>\n",
       "    <tr>\n",
       "      <th>2034</th>\n",
       "      <td>27035</td>\n",
       "      <td>1719.563</td>\n",
       "      <td>81</td>\n",
       "    </tr>\n",
       "  </tbody>\n",
       "</table>\n",
       "</div>"
      ],
      "text/plain": [
       "      niftyID    rarity  rankingID\n",
       "2034    27035  1719.563         81"
      ]
     },
     "execution_count": 12,
     "metadata": {},
     "output_type": "execute_result"
    }
   ],
   "source": [
    "renamed_df.loc[renamed_df['niftyID'] == 27035]"
   ]
  },
  {
   "cell_type": "code",
   "execution_count": 18,
   "id": "97dd409f-de84-4e86-950b-f655c4c801e0",
   "metadata": {},
   "outputs": [
    {
     "name": "stdout",
     "output_type": "stream",
     "text": [
      "       rankingID  niftyID     rarity\n",
      "11620          1    11621  11548.439\n",
      "4792           2    29795   6850.029\n",
      "13460          3    63467   6632.865\n",
      "11372          4    86373   6549.796\n",
      "3829           5    53836   6500.820\n",
      "23975          6    49110   6487.452\n",
      "8100           7    83101   6482.198\n",
      "18763          8    68770   6466.792\n",
      "5134           9     5135   6438.346\n",
      "22888         10    22889   6400.769\n",
      "2941          11     2942   6395.136\n",
      "18727         12    93728   6392.459\n",
      "13291         13    38379   6389.899\n",
      "13768         14    63775   6388.078\n",
      "749           15      750   6376.370\n",
      "17312         16    17313   5517.343\n",
      "14495         17    39591   5190.552\n",
      "6746          18    81747   5165.441\n",
      "2337          19    52344   5147.739\n",
      "24818         20    74825   5120.849\n"
     ]
    }
   ],
   "source": [
    "print(renamed_df[['rankingID','niftyID','rarity']].head(20))"
   ]
  },
  {
   "cell_type": "code",
   "execution_count": 23,
   "id": "9b0548e6-d754-49fa-a76f-065178c68c2f",
   "metadata": {},
   "outputs": [
    {
     "name": "stdout",
     "output_type": "stream",
     "text": [
      "       rankingID  niftyID  rarity\n",
      "8434       94870    83435  47.188\n",
      "5698       94869    55705  47.188\n",
      "4952       94868    79953  47.997\n",
      "22403      94867    47536  48.015\n",
      "16252      94866    16253  48.405\n",
      "9986       94865    84987  48.405\n",
      "10938      94864    10939  48.423\n",
      "18274      94863    18275  48.719\n",
      "12542      94862    87543  48.719\n",
      "11362      94861    86363  48.719\n",
      "12641      94860    62648  48.737\n",
      "15503      94859    15504  48.744\n",
      "15595      94858    15596  48.760\n",
      "15135      94857    90136  48.760\n",
      "10782      94856    85783  48.778\n",
      "6082       94855    81083  48.881\n",
      "13060      94854    13061  48.898\n",
      "9767       94853    84768  49.061\n",
      "14041      94852    14042  49.061\n",
      "3740       94851    28742  49.061\n"
     ]
    }
   ],
   "source": [
    "# reversed order\n",
    "print(renamed_df[['rankingID','niftyID','rarity']].iloc[::-1].head(20))"
   ]
  },
  {
   "cell_type": "code",
   "execution_count": 22,
   "id": "8299fa42-ceb2-4fe3-89af-e8ceb8ce45a7",
   "metadata": {},
   "outputs": [
    {
     "name": "stdout",
     "output_type": "stream",
     "text": [
      "       niftyID  rarity  rankingID\n",
      "3740     28742  49.061      94851\n",
      "14041    14042  49.061      94852\n",
      "9767     84768  49.061      94853\n",
      "13060    13061  48.898      94854\n",
      "6082     81083  48.881      94855\n",
      "10782    85783  48.778      94856\n",
      "15135    90136  48.760      94857\n",
      "15595    15596  48.760      94858\n",
      "15503    15504  48.744      94859\n",
      "12641    62648  48.737      94860\n",
      "11362    86363  48.719      94861\n",
      "12542    87543  48.719      94862\n",
      "18274    18275  48.719      94863\n",
      "10938    10939  48.423      94864\n",
      "9986     84987  48.405      94865\n",
      "16252    16253  48.405      94866\n",
      "22403    47536  48.015      94867\n",
      "4952     79953  47.997      94868\n",
      "5698     55705  47.188      94869\n",
      "8434     83435  47.188      94870\n"
     ]
    }
   ],
   "source": [
    "print(renamed_df.tail(20))"
   ]
  },
  {
   "cell_type": "code",
   "execution_count": null,
   "id": "f3e1b09e-7a6e-402f-95cb-1342f1b97905",
   "metadata": {},
   "outputs": [],
   "source": []
  }
 ],
 "metadata": {
  "kernelspec": {
   "display_name": "Python 3 (ipykernel)",
   "language": "python",
   "name": "python3"
  },
  "language_info": {
   "codemirror_mode": {
    "name": "ipython",
    "version": 3
   },
   "file_extension": ".py",
   "mimetype": "text/x-python",
   "name": "python",
   "nbconvert_exporter": "python",
   "pygments_lexer": "ipython3",
   "version": "3.9.6"
  }
 },
 "nbformat": 4,
 "nbformat_minor": 5
}
