{
 "cells": [
  {
   "cell_type": "code",
   "execution_count": null,
   "id": "b6d35774-0e02-4371-a4e2-412b0fda8472",
   "metadata": {},
   "outputs": [],
   "source": [
    "import pandas as pd\n",
    "import glob\n",
    "import numpy as np\n",
    "import cloudscraper\n",
    "from urllib.request import urlopen\n",
    "from bs4 import BeautifulSoup\n",
    "from IPython.display import clear_output\n",
    "\n",
    "manualColumns = ['Background', \n",
    "                'Hair Style', \n",
    "                'Hair Color', \n",
    "                'Facial Hair', \n",
    "                'Top', \n",
    "                'Bottom',\n",
    "                'Footwear',\n",
    "                'Ring',\n",
    "                'Headwear',\n",
    "                'Glasses',\n",
    "                'Piercings', \n",
    "                'Accessories']"
   ]
  },
  {
   "cell_type": "code",
   "execution_count": null,
   "id": "f2da3590-28a4-4ab0-9ff7-c74230293a27",
   "metadata": {},
   "outputs": [],
   "source": [
    "projectFiles = ['./Attributes_1_5000.csv',\n",
    "'./Attributes_5001_10000.csv',\n",
    "'./Attributes_10001_15000.csv',\n",
    "'./Attributes_15001_20000.csv',\n",
    "'./Attributes_20001_25000.csv',\n",
    "'./Attributes_25001_30000.csv', \n",
    "'./Attributes_30001_35000.csv',\n",
    "'./Attributes_35001_40000.csv',\n",
    "'./Attributes_40001_45000.csv', \n",
    "'./Attributes_45001_50000.csv', \n",
    "'./Attributes_50001_55000.csv', \n",
    "'./Attributes_55001_60000.csv',\n",
    "'./Attributes_60001_65000.csv',\n",
    "'./Attributes_65001_70000.csv',\n",
    "'./Attributes_70001_75000.csv',\n",
    "'./Attributes_75001_80000.csv',\n",
    "'./Attributes_80001_85000.csv',\n",
    "'./Attributes_85001_90000.csv',\n",
    "'./Attributes_90001_95000.csv',\n",
    "'./Attributes_95000_100000.csv']\n",
    "\n",
    "#df = pd.concat(map(pd.read_csv, glob.glob('./Attributes_1*.csv')))\n",
    "df = pd.concat(map(pd.read_csv, projectFiles))"
   ]
  },
  {
   "cell_type": "code",
   "execution_count": null,
   "id": "5dd9eb65-5e08-4880-b46f-b47b7862c06d",
   "metadata": {},
   "outputs": [],
   "source": [
    "mci = manualColumns.copy()\n",
    "mci.insert(0,'ID')\n",
    "df.columns = mci"
   ]
  },
  {
   "cell_type": "code",
   "execution_count": null,
   "id": "b7d8da5f-2263-4461-862e-778e2ab7090b",
   "metadata": {},
   "outputs": [],
   "source": [
    "validCount = len(df.index) - len(np.where(pd.isnull(df['Background']))[0])\n",
    "print(validCount)"
   ]
  },
  {
   "cell_type": "code",
   "execution_count": null,
   "id": "24b419eb-7f4e-4311-882e-331a90e18dad",
   "metadata": {},
   "outputs": [],
   "source": [
    "missingIDs = np.where(pd.isnull(df['Background']))[0]\n",
    "print(missingIDs)"
   ]
  },
  {
   "cell_type": "code",
   "execution_count": null,
   "id": "1a9e2d21-3c17-41c8-ba6c-c32a933770ee",
   "metadata": {},
   "outputs": [],
   "source": [
    "listing = {}"
   ]
  },
  {
   "cell_type": "code",
   "execution_count": null,
   "id": "b2c7f47a-d490-4a38-8bf2-27b002df7618",
   "metadata": {},
   "outputs": [],
   "source": [
    "%%time\n",
    "startRange = 1\n",
    "stopRange = 100000\n",
    "\n",
    "manualColums = ['Background', \n",
    "                'Hair Style', \n",
    "                'Hair Color', \n",
    "                'Facial Hair', \n",
    "                'Top', \n",
    "                'Bottom',\n",
    "                'Footwear',\n",
    "                'Ring',\n",
    "                'Headwear',\n",
    "                'Glasses',\n",
    "                'Piercings', \n",
    "                'Accessories']\n",
    "\n",
    "refStartx = startRange\n",
    "\n",
    "#for x in range(startRange, stopRange):\n",
    "for x in (missingIDs):\n",
    "    scraper = cloudscraper.create_scraper(\n",
    "        delay=1,\n",
    "        browser={\n",
    "            'browser': 'firefox',\n",
    "            'platform': 'windows',\n",
    "            'mobile': False\n",
    "        })\n",
    "    html = scraper.get(\"https://niftys.com/nft/0x39ceaa47306381b6d79ad46af0f36bc5332386f2/\" + str(x + 1)).text\n",
    "\n",
    "    soup = BeautifulSoup(html, 'lxml')\n",
    "\n",
    "    rows = soup.find_all('div', 'label')\n",
    "\n",
    "    rowAttributes = {}\n",
    "    for row in rows:\n",
    "        cells = row\n",
    "        str_row = str(row)\n",
    "        value = str_row.split('!-- -->')\n",
    "        cleanTextAttribute = BeautifulSoup(value[0], \"lxml\").get_text()\n",
    "        if cleanTextAttribute == 'Available on PALM':\n",
    "            continue\n",
    "        if (len(value) > 1):\n",
    "            cleanTextValue = BeautifulSoup(value[1], \"lxml\").get_text().strip()\n",
    "        else:\n",
    "            cleanTextValue = \"None\"\n",
    "        \n",
    "        rowAttributes[cleanTextAttribute] = cleanTextValue\n",
    "    \n",
    "    output_list = [(rowAttributes[key]) for key in (manualColums) if key in rowAttributes]\n",
    "\n",
    "    \n",
    "    listing[str(x+1)] = output_list\n",
    "    clear_output(wait=True)\n",
    "    print(x+1)\n",
    "print(listing)\n",
    "data_dictionary =  pd.DataFrame.from_dict(listing, orient='index', columns=manualColums)  #pd.DataFrame(listing, orient='index')\n",
    "data_dictionary.to_csv('Attributes_' + str(missingIDs[0]) + '_' + str(missingIDs[len(missingIDs)-1]) + '.csv')\n",
    "refStartx = x+1\n",
    "listing.clear()"
   ]
  },
  {
   "cell_type": "code",
   "execution_count": null,
   "id": "c035e1ae-55b9-4019-9f0a-4b5cb9bb9993",
   "metadata": {},
   "outputs": [],
   "source": [
    "data_dictionary =  pd.DataFrame.from_dict(listing, orient='index')  #pd.DataFrame(listing, orient='index')"
   ]
  },
  {
   "cell_type": "code",
   "execution_count": null,
   "id": "b771a37e-5fca-4186-8eb1-9deee7834e0e",
   "metadata": {},
   "outputs": [],
   "source": [
    "data_dictionary"
   ]
  },
  {
   "cell_type": "code",
   "execution_count": null,
   "id": "b0e5a3ad-0a1c-4c2c-b870-ab7f395663ca",
   "metadata": {},
   "outputs": [],
   "source": [
    "for count in range(0, len(manualColums)):\n",
    "    print(count)\n",
    "    print(data_dictionary[manualColums[count]].value_counts())\n",
    "    data_dictionary[manualColums[count]].value_counts(normalize=True)\n",
    "    print('---------------------------------')"
   ]
  },
  {
   "cell_type": "code",
   "execution_count": null,
   "id": "2ad3889c-6d1d-474f-87c3-bcb6029a2d3d",
   "metadata": {},
   "outputs": [],
   "source": [
    "data_dictionary.to_csv('Attributes_' + str(startRange) + '_' + str(stopRange-1) + '.csv')"
   ]
  },
  {
   "cell_type": "code",
   "execution_count": null,
   "id": "585a8ac0-2d4f-4ac0-8c89-eb98d1c74508",
   "metadata": {},
   "outputs": [],
   "source": [
    "print('done')"
   ]
  },
  {
   "cell_type": "code",
   "execution_count": null,
   "id": "2e368b57-506d-4f1a-bd0f-148395be104b",
   "metadata": {},
   "outputs": [],
   "source": []
  }
 ],
 "metadata": {
  "kernelspec": {
   "display_name": "Python 3 (ipykernel)",
   "language": "python",
   "name": "python3"
  },
  "language_info": {
   "codemirror_mode": {
    "name": "ipython",
    "version": 3
   },
   "file_extension": ".py",
   "mimetype": "text/x-python",
   "name": "python",
   "nbconvert_exporter": "python",
   "pygments_lexer": "ipython3",
   "version": "3.9.6"
  }
 },
 "nbformat": 4,
 "nbformat_minor": 5
}
