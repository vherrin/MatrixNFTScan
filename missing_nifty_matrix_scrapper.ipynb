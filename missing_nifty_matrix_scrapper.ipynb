{
 "cells": [
  {
   "cell_type": "code",
   "execution_count": 1,
   "id": "b6d35774-0e02-4371-a4e2-412b0fda8472",
   "metadata": {},
   "outputs": [],
   "source": [
    "import pandas as pd\n",
    "import glob\n",
    "import numpy as np\n",
    "import cloudscraper\n",
    "from urllib.request import urlopen\n",
    "from bs4 import BeautifulSoup\n",
    "from IPython.display import clear_output\n",
    "\n",
    "manualColumns = ['Background', \n",
    "                'Hair Style', \n",
    "                'Hair Color', \n",
    "                'Facial Hair', \n",
    "                'Top', \n",
    "                'Bottom',\n",
    "                'Footwear',\n",
    "                'Ring',\n",
    "                'Headwear',\n",
    "                'Glasses',\n",
    "                'Piercings', \n",
    "                'Accessories']"
   ]
  },
  {
   "cell_type": "code",
   "execution_count": 9,
   "id": "f2da3590-28a4-4ab0-9ff7-c74230293a27",
   "metadata": {},
   "outputs": [],
   "source": [
    "projectFiles = ['./Attributes_1_5000.csv',\n",
    "'./Attributes_5001_10000.csv',\n",
    "'./Attributes_10001_15000.csv',\n",
    "'./Attributes_15001_20000.csv',\n",
    "'./Attributes_20001_25000.csv',\n",
    "'./Attributes_25001_30000.csv', \n",
    "'./Attributes_30001_35000.csv',\n",
    "'./Attributes_35001_40000.csv',\n",
    "'./Attributes_40001_45000.csv', \n",
    "'./Attributes_45001_50000.csv', \n",
    "'./Attributes_50001_55000.csv', \n",
    "'./Attributes_55001_60000.csv',\n",
    "'./Attributes_60001_65000.csv',\n",
    "'./Attributes_65001_70000.csv',\n",
    "'./Attributes_70001_75000.csv',\n",
    "'./Attributes_75001_80000.csv',\n",
    "'./Attributes_80001_85000.csv',\n",
    "'./Attributes_85001_90000.csv',\n",
    "'./Attributes_90001_95000.csv',]\n",
    "#'./Attributes_95000_99999.csv']\n",
    "\n",
    "#df = pd.concat(map(pd.read_csv, glob.glob('./Attributes_1*.csv')))\n",
    "df = pd.concat(map(pd.read_csv, projectFiles))"
   ]
  },
  {
   "cell_type": "code",
   "execution_count": 10,
   "id": "5dd9eb65-5e08-4880-b46f-b47b7862c06d",
   "metadata": {},
   "outputs": [],
   "source": [
    "mci = manualColumns.copy()\n",
    "mci.insert(0,'ID')\n",
    "df.columns = mci"
   ]
  },
  {
   "cell_type": "code",
   "execution_count": 11,
   "id": "b7d8da5f-2263-4461-862e-778e2ab7090b",
   "metadata": {},
   "outputs": [
    {
     "name": "stdout",
     "output_type": "stream",
     "text": [
      "94860\n"
     ]
    }
   ],
   "source": [
    "validCount = len(df.index) - len(np.where(pd.isnull(df['Background']))[0])\n",
    "print(validCount)"
   ]
  },
  {
   "cell_type": "code",
   "execution_count": 12,
   "id": "24b419eb-7f4e-4311-882e-331a90e18dad",
   "metadata": {},
   "outputs": [
    {
     "name": "stdout",
     "output_type": "stream",
     "text": [
      "[28383 29784 33922 33923 34195 34449 34701 34702 34711 34775 34776 34779\n",
      " 34786 34793 34794 34854 34855 34885 34886 34887 34893 34894 34895 34896\n",
      " 35095 35096 35112 35113 35120 35121 35122 35123 35124 35125 35171 35172\n",
      " 35193 35202 35203 35204 35205 35211 35267 35268 35281 35282 35290 35291\n",
      " 35301 35302 35303 35504 35505 35527 35529 35561 35562 35563 35564 35648\n",
      " 35843 35844 35992 36000 36001 36067 36068 36069 36095 36480 36481 36486\n",
      " 36487 36630 36873 36950 36965 37200 37201 37472 37473 37476 37878 38031\n",
      " 38355 38357 38362 38430 38433 38632 38761 38762 38787 38851 38852 41477\n",
      " 42091 42092 43405 43406 43407 43408 43460 43637 43638 43639 44468 45171\n",
      " 45172 45173 45174 45175 45201 45276 45277 45278 45279 45462 45463 45464\n",
      " 45466 45473 45657 45658 45659 45660 45823 45830 46178 46659 46807 47279\n",
      " 47863 49067 51691 51855 51947 52204 52205 52206]\n"
     ]
    }
   ],
   "source": [
    "missingIDs = np.where(pd.isnull(df['Background']))[0]\n",
    "print(missingIDs)"
   ]
  },
  {
   "cell_type": "code",
   "execution_count": 13,
   "id": "1a9e2d21-3c17-41c8-ba6c-c32a933770ee",
   "metadata": {},
   "outputs": [],
   "source": [
    "listing = {}"
   ]
  },
  {
   "cell_type": "code",
   "execution_count": 14,
   "id": "b2c7f47a-d490-4a38-8bf2-27b002df7618",
   "metadata": {},
   "outputs": [
    {
     "name": "stdout",
     "output_type": "stream",
     "text": [
      "52207\n",
      "{'28384': [], '29785': [], '33923': [], '33924': [], '34196': [], '34450': [], '34702': [], '34703': [], '34712': [], '34776': [], '34777': [], '34780': [], '34787': [], '34794': [], '34795': [], '34855': [], '34856': [], '34886': [], '34887': [], '34888': [], '34894': [], '34895': [], '34896': [], '34897': [], '35096': [], '35097': [], '35113': [], '35114': [], '35121': [], '35122': [], '35123': [], '35124': [], '35125': [], '35126': [], '35172': [], '35173': [], '35194': [], '35203': [], '35204': [], '35205': [], '35206': [], '35212': [], '35268': [], '35269': [], '35282': [], '35283': [], '35291': [], '35292': [], '35302': [], '35303': [], '35304': [], '35505': [], '35506': [], '35528': [], '35530': [], '35562': [], '35563': [], '35564': [], '35565': [], '35649': [], '35844': [], '35845': [], '35993': [], '36001': [], '36002': [], '36068': [], '36069': [], '36070': [], '36096': [], '36481': [], '36482': [], '36487': [], '36488': [], '36631': [], '36874': [], '36951': [], '36966': [], '37201': [], '37202': [], '37473': [], '37474': [], '37477': [], '37879': [], '38032': [], '38356': [], '38358': [], '38363': [], '38431': [], '38434': [], '38633': [], '38762': [], '38763': [], '38788': [], '38852': [], '38853': [], '41478': [], '42092': [], '42093': [], '43406': [], '43407': [], '43408': [], '43409': [], '43461': [], '43638': [], '43639': [], '43640': [], '44469': [], '45172': [], '45173': [], '45174': [], '45175': [], '45176': [], '45202': [], '45277': [], '45278': [], '45279': [], '45280': [], '45463': [], '45464': [], '45465': [], '45467': [], '45474': [], '45658': [], '45659': [], '45660': [], '45661': [], '45824': [], '45831': [], '46179': [], '46660': [], '46808': [], '47280': [], '47864': [], '49068': [], '51692': [], '51856': [], '51948': [], '52205': [], '52206': [], '52207': []}\n"
     ]
    },
    {
     "ename": "ValueError",
     "evalue": "12 columns passed, passed data had 0 columns",
     "output_type": "error",
     "traceback": [
      "\u001b[0;31m---------------------------------------------------------------------------\u001b[0m",
      "\u001b[0;31mAssertionError\u001b[0m                            Traceback (most recent call last)",
      "\u001b[0;32m/usr/local/lib/python3.9/site-packages/pandas/core/internals/construction.py\u001b[0m in \u001b[0;36m_finalize_columns_and_data\u001b[0;34m(content, columns, dtype)\u001b[0m\n\u001b[1;32m    905\u001b[0m     \u001b[0;32mtry\u001b[0m\u001b[0;34m:\u001b[0m\u001b[0;34m\u001b[0m\u001b[0;34m\u001b[0m\u001b[0m\n\u001b[0;32m--> 906\u001b[0;31m         \u001b[0mcolumns\u001b[0m \u001b[0;34m=\u001b[0m \u001b[0m_validate_or_indexify_columns\u001b[0m\u001b[0;34m(\u001b[0m\u001b[0mcontents\u001b[0m\u001b[0;34m,\u001b[0m \u001b[0mcolumns\u001b[0m\u001b[0;34m)\u001b[0m\u001b[0;34m\u001b[0m\u001b[0;34m\u001b[0m\u001b[0m\n\u001b[0m\u001b[1;32m    907\u001b[0m     \u001b[0;32mexcept\u001b[0m \u001b[0mAssertionError\u001b[0m \u001b[0;32mas\u001b[0m \u001b[0merr\u001b[0m\u001b[0;34m:\u001b[0m\u001b[0;34m\u001b[0m\u001b[0;34m\u001b[0m\u001b[0m\n",
      "\u001b[0;32m/usr/local/lib/python3.9/site-packages/pandas/core/internals/construction.py\u001b[0m in \u001b[0;36m_validate_or_indexify_columns\u001b[0;34m(content, columns)\u001b[0m\n\u001b[1;32m    953\u001b[0m             \u001b[0;31m# caller's responsibility to check for this...\u001b[0m\u001b[0;34m\u001b[0m\u001b[0;34m\u001b[0m\u001b[0;34m\u001b[0m\u001b[0m\n\u001b[0;32m--> 954\u001b[0;31m             raise AssertionError(\n\u001b[0m\u001b[1;32m    955\u001b[0m                 \u001b[0;34mf\"{len(columns)} columns passed, passed data had \"\u001b[0m\u001b[0;34m\u001b[0m\u001b[0;34m\u001b[0m\u001b[0m\n",
      "\u001b[0;31mAssertionError\u001b[0m: 12 columns passed, passed data had 0 columns",
      "\nThe above exception was the direct cause of the following exception:\n",
      "\u001b[0;31mValueError\u001b[0m                                Traceback (most recent call last)",
      "\u001b[0;32m<timed exec>\u001b[0m in \u001b[0;36m<module>\u001b[0;34m\u001b[0m\n",
      "\u001b[0;32m/usr/local/lib/python3.9/site-packages/pandas/core/frame.py\u001b[0m in \u001b[0;36mfrom_dict\u001b[0;34m(cls, data, orient, dtype, columns)\u001b[0m\n\u001b[1;32m   1591\u001b[0m             \u001b[0;32mraise\u001b[0m \u001b[0mValueError\u001b[0m\u001b[0;34m(\u001b[0m\u001b[0;34m\"only recognize index or columns for orient\"\u001b[0m\u001b[0;34m)\u001b[0m\u001b[0;34m\u001b[0m\u001b[0;34m\u001b[0m\u001b[0m\n\u001b[1;32m   1592\u001b[0m \u001b[0;34m\u001b[0m\u001b[0m\n\u001b[0;32m-> 1593\u001b[0;31m         \u001b[0;32mreturn\u001b[0m \u001b[0mcls\u001b[0m\u001b[0;34m(\u001b[0m\u001b[0mdata\u001b[0m\u001b[0;34m,\u001b[0m \u001b[0mindex\u001b[0m\u001b[0;34m=\u001b[0m\u001b[0mindex\u001b[0m\u001b[0;34m,\u001b[0m \u001b[0mcolumns\u001b[0m\u001b[0;34m=\u001b[0m\u001b[0mcolumns\u001b[0m\u001b[0;34m,\u001b[0m \u001b[0mdtype\u001b[0m\u001b[0;34m=\u001b[0m\u001b[0mdtype\u001b[0m\u001b[0;34m)\u001b[0m\u001b[0;34m\u001b[0m\u001b[0;34m\u001b[0m\u001b[0m\n\u001b[0m\u001b[1;32m   1594\u001b[0m \u001b[0;34m\u001b[0m\u001b[0m\n\u001b[1;32m   1595\u001b[0m     def to_numpy(\n",
      "\u001b[0;32m/usr/local/lib/python3.9/site-packages/pandas/core/frame.py\u001b[0m in \u001b[0;36m__init__\u001b[0;34m(self, data, index, columns, dtype, copy)\u001b[0m\n\u001b[1;32m    692\u001b[0m                         \u001b[0;31m# ndarray], Index, Series], Sequence[Any]]\"\u001b[0m\u001b[0;34m\u001b[0m\u001b[0;34m\u001b[0m\u001b[0;34m\u001b[0m\u001b[0m\n\u001b[1;32m    693\u001b[0m                         \u001b[0mcolumns\u001b[0m \u001b[0;34m=\u001b[0m \u001b[0mensure_index\u001b[0m\u001b[0;34m(\u001b[0m\u001b[0mcolumns\u001b[0m\u001b[0;34m)\u001b[0m  \u001b[0;31m# type: ignore[arg-type]\u001b[0m\u001b[0;34m\u001b[0m\u001b[0;34m\u001b[0m\u001b[0m\n\u001b[0;32m--> 694\u001b[0;31m                     arrays, columns, index = nested_data_to_arrays(\n\u001b[0m\u001b[1;32m    695\u001b[0m                         \u001b[0;31m# error: Argument 3 to \"nested_data_to_arrays\" has incompatible\u001b[0m\u001b[0;34m\u001b[0m\u001b[0;34m\u001b[0m\u001b[0;34m\u001b[0m\u001b[0m\n\u001b[1;32m    696\u001b[0m                         \u001b[0;31m# type \"Optional[Collection[Any]]\"; expected \"Optional[Index]\"\u001b[0m\u001b[0;34m\u001b[0m\u001b[0;34m\u001b[0m\u001b[0;34m\u001b[0m\u001b[0m\n",
      "\u001b[0;32m/usr/local/lib/python3.9/site-packages/pandas/core/internals/construction.py\u001b[0m in \u001b[0;36mnested_data_to_arrays\u001b[0;34m(data, columns, index, dtype)\u001b[0m\n\u001b[1;32m    481\u001b[0m         \u001b[0mcolumns\u001b[0m \u001b[0;34m=\u001b[0m \u001b[0mensure_index\u001b[0m\u001b[0;34m(\u001b[0m\u001b[0mdata\u001b[0m\u001b[0;34m[\u001b[0m\u001b[0;36m0\u001b[0m\u001b[0;34m]\u001b[0m\u001b[0;34m.\u001b[0m\u001b[0m_fields\u001b[0m\u001b[0;34m)\u001b[0m\u001b[0;34m\u001b[0m\u001b[0;34m\u001b[0m\u001b[0m\n\u001b[1;32m    482\u001b[0m \u001b[0;34m\u001b[0m\u001b[0m\n\u001b[0;32m--> 483\u001b[0;31m     \u001b[0marrays\u001b[0m\u001b[0;34m,\u001b[0m \u001b[0mcolumns\u001b[0m \u001b[0;34m=\u001b[0m \u001b[0mto_arrays\u001b[0m\u001b[0;34m(\u001b[0m\u001b[0mdata\u001b[0m\u001b[0;34m,\u001b[0m \u001b[0mcolumns\u001b[0m\u001b[0;34m,\u001b[0m \u001b[0mdtype\u001b[0m\u001b[0;34m=\u001b[0m\u001b[0mdtype\u001b[0m\u001b[0;34m)\u001b[0m\u001b[0;34m\u001b[0m\u001b[0;34m\u001b[0m\u001b[0m\n\u001b[0m\u001b[1;32m    484\u001b[0m     \u001b[0mcolumns\u001b[0m \u001b[0;34m=\u001b[0m \u001b[0mensure_index\u001b[0m\u001b[0;34m(\u001b[0m\u001b[0mcolumns\u001b[0m\u001b[0;34m)\u001b[0m\u001b[0;34m\u001b[0m\u001b[0;34m\u001b[0m\u001b[0m\n\u001b[1;32m    485\u001b[0m \u001b[0;34m\u001b[0m\u001b[0m\n",
      "\u001b[0;32m/usr/local/lib/python3.9/site-packages/pandas/core/internals/construction.py\u001b[0m in \u001b[0;36mto_arrays\u001b[0;34m(data, columns, dtype)\u001b[0m\n\u001b[1;32m    805\u001b[0m         \u001b[0marr\u001b[0m \u001b[0;34m=\u001b[0m \u001b[0m_list_to_arrays\u001b[0m\u001b[0;34m(\u001b[0m\u001b[0mdata\u001b[0m\u001b[0;34m)\u001b[0m\u001b[0;34m\u001b[0m\u001b[0;34m\u001b[0m\u001b[0m\n\u001b[1;32m    806\u001b[0m \u001b[0;34m\u001b[0m\u001b[0m\n\u001b[0;32m--> 807\u001b[0;31m     \u001b[0mcontent\u001b[0m\u001b[0;34m,\u001b[0m \u001b[0mcolumns\u001b[0m \u001b[0;34m=\u001b[0m \u001b[0m_finalize_columns_and_data\u001b[0m\u001b[0;34m(\u001b[0m\u001b[0marr\u001b[0m\u001b[0;34m,\u001b[0m \u001b[0mcolumns\u001b[0m\u001b[0;34m,\u001b[0m \u001b[0mdtype\u001b[0m\u001b[0;34m)\u001b[0m\u001b[0;34m\u001b[0m\u001b[0;34m\u001b[0m\u001b[0m\n\u001b[0m\u001b[1;32m    808\u001b[0m     \u001b[0;32mreturn\u001b[0m \u001b[0mcontent\u001b[0m\u001b[0;34m,\u001b[0m \u001b[0mcolumns\u001b[0m\u001b[0;34m\u001b[0m\u001b[0;34m\u001b[0m\u001b[0m\n\u001b[1;32m    809\u001b[0m \u001b[0;34m\u001b[0m\u001b[0m\n",
      "\u001b[0;32m/usr/local/lib/python3.9/site-packages/pandas/core/internals/construction.py\u001b[0m in \u001b[0;36m_finalize_columns_and_data\u001b[0;34m(content, columns, dtype)\u001b[0m\n\u001b[1;32m    907\u001b[0m     \u001b[0;32mexcept\u001b[0m \u001b[0mAssertionError\u001b[0m \u001b[0;32mas\u001b[0m \u001b[0merr\u001b[0m\u001b[0;34m:\u001b[0m\u001b[0;34m\u001b[0m\u001b[0;34m\u001b[0m\u001b[0m\n\u001b[1;32m    908\u001b[0m         \u001b[0;31m# GH#26429 do not raise user-facing AssertionError\u001b[0m\u001b[0;34m\u001b[0m\u001b[0;34m\u001b[0m\u001b[0;34m\u001b[0m\u001b[0m\n\u001b[0;32m--> 909\u001b[0;31m         \u001b[0;32mraise\u001b[0m \u001b[0mValueError\u001b[0m\u001b[0;34m(\u001b[0m\u001b[0merr\u001b[0m\u001b[0;34m)\u001b[0m \u001b[0;32mfrom\u001b[0m \u001b[0merr\u001b[0m\u001b[0;34m\u001b[0m\u001b[0;34m\u001b[0m\u001b[0m\n\u001b[0m\u001b[1;32m    910\u001b[0m \u001b[0;34m\u001b[0m\u001b[0m\n\u001b[1;32m    911\u001b[0m     \u001b[0;32mif\u001b[0m \u001b[0mlen\u001b[0m\u001b[0;34m(\u001b[0m\u001b[0mcontents\u001b[0m\u001b[0;34m)\u001b[0m \u001b[0;32mand\u001b[0m \u001b[0mcontents\u001b[0m\u001b[0;34m[\u001b[0m\u001b[0;36m0\u001b[0m\u001b[0;34m]\u001b[0m\u001b[0;34m.\u001b[0m\u001b[0mdtype\u001b[0m \u001b[0;34m==\u001b[0m \u001b[0mnp\u001b[0m\u001b[0;34m.\u001b[0m\u001b[0mobject_\u001b[0m\u001b[0;34m:\u001b[0m\u001b[0;34m\u001b[0m\u001b[0;34m\u001b[0m\u001b[0m\n",
      "\u001b[0;31mValueError\u001b[0m: 12 columns passed, passed data had 0 columns"
     ]
    }
   ],
   "source": [
    "%%time\n",
    "startRange = 1\n",
    "stopRange = 100000\n",
    "\n",
    "manualColums = ['Background', \n",
    "                'Hair Style', \n",
    "                'Hair Color', \n",
    "                'Facial Hair', \n",
    "                'Top', \n",
    "                'Bottom',\n",
    "                'Footwear',\n",
    "                'Ring',\n",
    "                'Headwear',\n",
    "                'Glasses',\n",
    "                'Piercings', \n",
    "                'Accessories']\n",
    "\n",
    "refStartx = startRange\n",
    "\n",
    "#for x in range(startRange, stopRange):\n",
    "for x in (missingIDs):\n",
    "    scraper = cloudscraper.create_scraper(\n",
    "        delay=1,\n",
    "        browser={\n",
    "            'browser': 'firefox',\n",
    "            'platform': 'windows',\n",
    "            'mobile': False\n",
    "        })\n",
    "    html = scraper.get(\"https://niftys.com/nft/0x39ceaa47306381b6d79ad46af0f36bc5332386f2/\" + str(x + 1)).text\n",
    "\n",
    "    soup = BeautifulSoup(html, 'lxml')\n",
    "\n",
    "    rows = soup.find_all('div', 'label')\n",
    "\n",
    "    rowAttributes = {}\n",
    "    for row in rows:\n",
    "        cells = row\n",
    "        str_row = str(row)\n",
    "        value = str_row.split('!-- -->')\n",
    "        cleanTextAttribute = BeautifulSoup(value[0], \"lxml\").get_text()\n",
    "        if cleanTextAttribute == 'Available on PALM':\n",
    "            continue\n",
    "        if (len(value) > 1):\n",
    "            cleanTextValue = BeautifulSoup(value[1], \"lxml\").get_text().strip()\n",
    "        else:\n",
    "            cleanTextValue = \"None\"\n",
    "        \n",
    "        rowAttributes[cleanTextAttribute] = cleanTextValue\n",
    "    \n",
    "    output_list = [(rowAttributes[key]) for key in (manualColums) if key in rowAttributes]\n",
    "\n",
    "    \n",
    "    listing[str(x+1)] = output_list\n",
    "    clear_output(wait=True)\n",
    "    print(x+1)\n",
    "print(listing)\n",
    "data_dictionary =  pd.DataFrame.from_dict(listing, orient='index', columns=manualColums)  #pd.DataFrame(listing, orient='index')\n",
    "data_dictionary.to_csv('Attributes_' + str(missingIDs[0]) + '_' + str(missingIDs[len(missingIDs)-1]) + '.csv')\n",
    "refStartx = x+1\n",
    "listing.clear()"
   ]
  },
  {
   "cell_type": "code",
   "execution_count": 16,
   "id": "c035e1ae-55b9-4019-9f0a-4b5cb9bb9993",
   "metadata": {},
   "outputs": [],
   "source": [
    "data_dictionary =  pd.DataFrame.from_dict(listing, orient='index')  #pd.DataFrame(listing, orient='index')"
   ]
  },
  {
   "cell_type": "code",
   "execution_count": 17,
   "id": "b771a37e-5fca-4186-8eb1-9deee7834e0e",
   "metadata": {},
   "outputs": [
    {
     "data": {
      "text/html": [
       "<div>\n",
       "<style scoped>\n",
       "    .dataframe tbody tr th:only-of-type {\n",
       "        vertical-align: middle;\n",
       "    }\n",
       "\n",
       "    .dataframe tbody tr th {\n",
       "        vertical-align: top;\n",
       "    }\n",
       "\n",
       "    .dataframe thead th {\n",
       "        text-align: right;\n",
       "    }\n",
       "</style>\n",
       "<table border=\"1\" class=\"dataframe\">\n",
       "  <thead>\n",
       "    <tr style=\"text-align: right;\">\n",
       "      <th></th>\n",
       "    </tr>\n",
       "  </thead>\n",
       "  <tbody>\n",
       "    <tr>\n",
       "      <th>28384</th>\n",
       "    </tr>\n",
       "    <tr>\n",
       "      <th>29785</th>\n",
       "    </tr>\n",
       "    <tr>\n",
       "      <th>33923</th>\n",
       "    </tr>\n",
       "    <tr>\n",
       "      <th>33924</th>\n",
       "    </tr>\n",
       "    <tr>\n",
       "      <th>34196</th>\n",
       "    </tr>\n",
       "    <tr>\n",
       "      <th>...</th>\n",
       "    </tr>\n",
       "    <tr>\n",
       "      <th>51856</th>\n",
       "    </tr>\n",
       "    <tr>\n",
       "      <th>51948</th>\n",
       "    </tr>\n",
       "    <tr>\n",
       "      <th>52205</th>\n",
       "    </tr>\n",
       "    <tr>\n",
       "      <th>52206</th>\n",
       "    </tr>\n",
       "    <tr>\n",
       "      <th>52207</th>\n",
       "    </tr>\n",
       "  </tbody>\n",
       "</table>\n",
       "<p>140 rows × 0 columns</p>\n",
       "</div>"
      ],
      "text/plain": [
       "Empty DataFrame\n",
       "Columns: []\n",
       "Index: [28384, 29785, 33923, 33924, 34196, 34450, 34702, 34703, 34712, 34776, 34777, 34780, 34787, 34794, 34795, 34855, 34856, 34886, 34887, 34888, 34894, 34895, 34896, 34897, 35096, 35097, 35113, 35114, 35121, 35122, 35123, 35124, 35125, 35126, 35172, 35173, 35194, 35203, 35204, 35205, 35206, 35212, 35268, 35269, 35282, 35283, 35291, 35292, 35302, 35303, 35304, 35505, 35506, 35528, 35530, 35562, 35563, 35564, 35565, 35649, 35844, 35845, 35993, 36001, 36002, 36068, 36069, 36070, 36096, 36481, 36482, 36487, 36488, 36631, 36874, 36951, 36966, 37201, 37202, 37473, 37474, 37477, 37879, 38032, 38356, 38358, 38363, 38431, 38434, 38633, 38762, 38763, 38788, 38852, 38853, 41478, 42092, 42093, 43406, 43407, ...]\n",
       "\n",
       "[140 rows x 0 columns]"
      ]
     },
     "execution_count": 17,
     "metadata": {},
     "output_type": "execute_result"
    }
   ],
   "source": [
    "data_dictionary"
   ]
  },
  {
   "cell_type": "code",
   "execution_count": null,
   "id": "b0e5a3ad-0a1c-4c2c-b870-ab7f395663ca",
   "metadata": {},
   "outputs": [],
   "source": [
    "for count in range(0, len(manualColums)):\n",
    "    print(count)\n",
    "    print(data_dictionary[manualColums[count]].value_counts())\n",
    "    data_dictionary[manualColums[count]].value_counts(normalize=True)\n",
    "    print('---------------------------------')"
   ]
  },
  {
   "cell_type": "code",
   "execution_count": null,
   "id": "2ad3889c-6d1d-474f-87c3-bcb6029a2d3d",
   "metadata": {},
   "outputs": [],
   "source": [
    "data_dictionary.to_csv('Attributes_' + str(startRange) + '_' + str(stopRange-1) + '.csv')"
   ]
  },
  {
   "cell_type": "code",
   "execution_count": null,
   "id": "585a8ac0-2d4f-4ac0-8c89-eb98d1c74508",
   "metadata": {},
   "outputs": [],
   "source": [
    "print('done')"
   ]
  },
  {
   "cell_type": "code",
   "execution_count": null,
   "id": "2e368b57-506d-4f1a-bd0f-148395be104b",
   "metadata": {},
   "outputs": [],
   "source": []
  }
 ],
 "metadata": {
  "kernelspec": {
   "display_name": "Python 3 (ipykernel)",
   "language": "python",
   "name": "python3"
  },
  "language_info": {
   "codemirror_mode": {
    "name": "ipython",
    "version": 3
   },
   "file_extension": ".py",
   "mimetype": "text/x-python",
   "name": "python",
   "nbconvert_exporter": "python",
   "pygments_lexer": "ipython3",
   "version": "3.9.6"
  }
 },
 "nbformat": 4,
 "nbformat_minor": 5
}
