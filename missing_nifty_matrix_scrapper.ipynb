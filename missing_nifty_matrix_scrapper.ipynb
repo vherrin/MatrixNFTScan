{
 "cells": [
  {
   "cell_type": "code",
   "execution_count": 5,
   "id": "b7d8da5f-2263-4461-862e-778e2ab7090b",
   "metadata": {},
   "outputs": [
    {
     "name": "stdout",
     "output_type": "stream",
     "text": [
      "Length of attributes added  100000\n",
      "Number of valid rows with attributes  97040\n"
     ]
    }
   ],
   "source": [
    "%run ./init.ipynb"
   ]
  },
  {
   "cell_type": "code",
   "execution_count": 6,
   "id": "24b419eb-7f4e-4311-882e-331a90e18dad",
   "metadata": {},
   "outputs": [
    {
     "name": "stdout",
     "output_type": "stream",
     "text": [
      "[97040 97041 97042 ... 99997 99998 99999]\n"
     ]
    }
   ],
   "source": [
    "missingIDs = np.where(pd.isnull(df['Background']))[0]\n",
    "print(missingIDs)"
   ]
  },
  {
   "cell_type": "code",
   "execution_count": 7,
   "id": "1a9e2d21-3c17-41c8-ba6c-c32a933770ee",
   "metadata": {},
   "outputs": [],
   "source": [
    "listing = {}"
   ]
  },
  {
   "cell_type": "code",
   "execution_count": null,
   "id": "b2c7f47a-d490-4a38-8bf2-27b002df7618",
   "metadata": {},
   "outputs": [
    {
     "name": "stderr",
     "output_type": "stream",
     "text": [
      "ERROR:root:\"https://niftys.com/thematrix\" returned an error. Could not collect tokens.\n",
      "ERROR:root:Internal Python error in the inspect module.\n",
      "Below is the traceback from this internal error.\n",
      "\n",
      "ERROR:root:Internal Python error in the inspect module.\n",
      "Below is the traceback from this internal error.\n",
      "\n",
      "ERROR:root:Internal Python error in the inspect module.\n",
      "Below is the traceback from this internal error.\n",
      "\n",
      "ERROR:root:Internal Python error in the inspect module.\n",
      "Below is the traceback from this internal error.\n",
      "\n"
     ]
    },
    {
     "name": "stdout",
     "output_type": "stream",
     "text": [
      "requests.exceptions.HTTPError: 403 Client Error: Forbidden for url: https://niftys.com/thematrix\n",
      "\n",
      "During handling of the above exception, another exception occurred:\n",
      "\n",
      "AttributeError: 'HTTPError' object has no attribute '_render_traceback_'\n",
      "\n",
      "During handling of the above exception, another exception occurred:\n",
      "\n",
      "AssertionError\n",
      "requests.exceptions.HTTPError: 403 Client Error: Forbidden for url: https://niftys.com/thematrix\n",
      "\n",
      "During handling of the above exception, another exception occurred:\n",
      "\n",
      "AttributeError: 'HTTPError' object has no attribute '_render_traceback_'\n",
      "\n",
      "During handling of the above exception, another exception occurred:\n",
      "\n",
      "TypeError: object of type 'NoneType' has no len()\n",
      "\n",
      "During handling of the above exception, another exception occurred:\n",
      "\n",
      "AttributeError: 'TypeError' object has no attribute '_render_traceback_'\n",
      "\n",
      "During handling of the above exception, another exception occurred:\n",
      "\n",
      "AssertionError\n",
      "requests.exceptions.HTTPError: 403 Client Error: Forbidden for url: https://niftys.com/thematrix\n",
      "\n",
      "During handling of the above exception, another exception occurred:\n",
      "\n",
      "AttributeError: 'HTTPError' object has no attribute '_render_traceback_'\n",
      "\n",
      "During handling of the above exception, another exception occurred:\n",
      "\n",
      "TypeError: object of type 'NoneType' has no len()\n",
      "\n",
      "During handling of the above exception, another exception occurred:\n",
      "\n",
      "AttributeError: 'TypeError' object has no attribute '_render_traceback_'\n",
      "\n",
      "During handling of the above exception, another exception occurred:\n",
      "\n",
      "TypeError: object of type 'NoneType' has no len()\n",
      "\n",
      "During handling of the above exception, another exception occurred:\n",
      "\n",
      "AttributeError: 'TypeError' object has no attribute '_render_traceback_'\n",
      "\n",
      "During handling of the above exception, another exception occurred:\n",
      "\n",
      "AssertionError\n",
      "requests.exceptions.HTTPError: 403 Client Error: Forbidden for url: https://niftys.com/thematrix\n",
      "\n",
      "During handling of the above exception, another exception occurred:\n",
      "\n",
      "AttributeError: 'HTTPError' object has no attribute '_render_traceback_'\n",
      "\n",
      "During handling of the above exception, another exception occurred:\n",
      "\n",
      "TypeError: object of type 'NoneType' has no len()\n",
      "\n",
      "During handling of the above exception, another exception occurred:\n",
      "\n",
      "AttributeError: 'TypeError' object has no attribute '_render_traceback_'\n",
      "\n",
      "During handling of the above exception, another exception occurred:\n",
      "\n",
      "TypeError: object of type 'NoneType' has no len()\n",
      "\n",
      "During handling of the above exception, another exception occurred:\n",
      "\n",
      "AttributeError: 'TypeError' object has no attribute '_render_traceback_'\n",
      "\n",
      "During handling of the above exception, another exception occurred:\n",
      "\n",
      "TypeError: object of type 'NoneType' has no len()\n",
      "\n",
      "During handling of the above exception, another exception occurred:\n",
      "\n",
      "AttributeError: 'TypeError' object has no attribute '_render_traceback_'\n",
      "\n",
      "During handling of the above exception, another exception occurred:\n",
      "\n",
      "AssertionError\n"
     ]
    }
   ],
   "source": [
    "%%time\n",
    "startRange = missingIDs[0]\n",
    "stopRange = 100001\n",
    "\n",
    "refStartx = startRange\n",
    "cookies = {}\n",
    "#for x in range(startRange, stopRange):\n",
    "for x in ([97040]):\n",
    "    scraper = cloudscraper.create_scraper(debug=True,\n",
    "        delay=1,\n",
    "        browser={\n",
    "            'browser': 'firefox',\n",
    "            'platform': 'windows',\n",
    "            'mobile': False\n",
    "        })\n",
    "    #time.sleep(10)\n",
    "    #print(scraper.get_cookie_string(\"https://niftys.com/nft/0x39ceaa47306381b6d79ad46af0f36bc5332386f2/1\"))\n",
    "    \n",
    "    user_agent = scraper.get_cookie_string('https://niftys.com/thematrix')\n",
    "    \n",
    "    #html = scraper.get(\"https://niftys.com/thematrix\").text\n",
    "    print(user_agent)\n",
    "    \n",
    "\n",
    "    break\n",
    "   # session = requests.Session()\n",
    "   # session.headers = {'cf_clearance': '079CebCgFDHqfxuqJB6fvbdWJlZlICQ.ihLNGddPbSI-1641486694-0-150'}\n",
    "\n",
    "    #html = scraper.get(\"https://niftys.com/nft/0x39ceaa47306381b6d79ad46af0f36bc5332386f2/\" + str(x + 1) + \"/\").text\n",
    "    html = scraper.get(\"https://niftys.com/nft/0x39ceaa47306381b6d79ad46af0f36bc5332386f2\").text\n",
    "   \n",
    "    print(html)\n",
    "\n",
    "    break\n",
    "    soup = BeautifulSoup(html, 'lxml')\n",
    "\n",
    "    rows = soup.find_all('div', 'label')\n",
    "\n",
    "    rowAttributes = {}\n",
    "    for row in rows:\n",
    "        cells = row\n",
    "        str_row = str(row)\n",
    "        value = str_row.split('!-- -->')\n",
    "        cleanTextAttribute = BeautifulSoup(value[0], \"lxml\").get_text()\n",
    "        if cleanTextAttribute == 'Available on PALM':\n",
    "            continue\n",
    "        if (len(value) > 1):\n",
    "            cleanTextValue = BeautifulSoup(value[1], \"lxml\").get_text().strip()\n",
    "        else:\n",
    "            cleanTextValue = \"\"\n",
    "        \n",
    "        rowAttributes[cleanTextAttribute] = cleanTextValue\n",
    "    \n",
    "    output_list = [(rowAttributes[key]) for key in (manualColumns) if key in rowAttributes]\n",
    "\n",
    "    print(output_list)\n",
    "    listing[str(x+1)] = output_list\n",
    "    #clear_output(wait=True)\n",
    "    print(x+1)\n",
    "# print(listing)\n",
    "# data_dictionary =  pd.DataFrame.from_dict(listing, orient='index', columns=manualColumns)  #pd.DataFrame(listing, orient='index')\n",
    "# data_dictionary.to_csv('MissingAttributes_' + str(missingIDs[0]) + '_' + str(missingIDs[len(missingIDs)-1]) + '.csv')\n",
    "# refStartx = x+1\n",
    "# listing.clear()"
   ]
  },
  {
   "cell_type": "code",
   "execution_count": null,
   "id": "1391eadd-55d1-4776-8f20-3823f4d8a4b7",
   "metadata": {},
   "outputs": [],
   "source": [
    "data_dictionary =  pd.DataFrame.from_dict(listing, orient='index', columns=manualColumns)  #pd.DataFrame(listing, orient='index')\n",
    "data_dictionary.to_csv('MissingAttributes_' + str(missingIDs[0]) + '_' + str(missingIDs[len(missingIDs)-1]) + '.csv')"
   ]
  },
  {
   "cell_type": "code",
   "execution_count": null,
   "id": "c035e1ae-55b9-4019-9f0a-4b5cb9bb9993",
   "metadata": {},
   "outputs": [],
   "source": [
    "data_dictionary =  pd.DataFrame.from_dict(listing, orient='index')  #pd.DataFrame(listing, orient='index')"
   ]
  },
  {
   "cell_type": "code",
   "execution_count": null,
   "id": "b0e5a3ad-0a1c-4c2c-b870-ab7f395663ca",
   "metadata": {},
   "outputs": [],
   "source": [
    "for count in range(0, len(manualColumns)):\n",
    "    print(count)\n",
    "    print(data_dictionary[manualColumns[count]].value_counts())\n",
    "    data_dictionary[manualColumns[count]].value_counts(normalize=True)\n",
    "    print('---------------------------------')"
   ]
  },
  {
   "cell_type": "code",
   "execution_count": null,
   "id": "585a8ac0-2d4f-4ac0-8c89-eb98d1c74508",
   "metadata": {},
   "outputs": [],
   "source": [
    "print('done')"
   ]
  }
 ],
 "metadata": {
  "kernelspec": {
   "display_name": "Python 3 (ipykernel)",
   "language": "python",
   "name": "python3"
  },
  "language_info": {
   "codemirror_mode": {
    "name": "ipython",
    "version": 3
   },
   "file_extension": ".py",
   "mimetype": "text/x-python",
   "name": "python",
   "nbconvert_exporter": "python",
   "pygments_lexer": "ipython3",
   "version": "3.9.6"
  }
 },
 "nbformat": 4,
 "nbformat_minor": 5
}
