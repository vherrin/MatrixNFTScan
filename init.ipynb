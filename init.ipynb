{
 "cells": [
  {
   "cell_type": "code",
   "execution_count": 3,
   "id": "ae1cdf0d-961a-47ae-83cf-1e0aa9381443",
   "metadata": {},
   "outputs": [],
   "source": [
    "import pandas as pd\n",
    "import glob\n",
    "import numpy as np\n",
    "import cloudscraper\n",
    "import re\n",
    "import math\n",
    "import shutil\n",
    "import os\n",
    "\n",
    "from IPython.display import HTML\n",
    "from IPython.display import display\n",
    "from IPython.display import clear_output\n",
    "from urllib.request import urlopen\n",
    "from bs4 import BeautifulSoup\n",
    "\n",
    "pd.set_option(\"display.max_rows\", None)\n",
    "\n",
    "manualColumns = ['Background', \n",
    "                'Hair Style', \n",
    "                'Hair Color', \n",
    "                'Facial Hair', \n",
    "                'Top', \n",
    "                'Bottom',\n",
    "                'Footwear',\n",
    "                'Ring',\n",
    "                'Headwear',\n",
    "                'Glasses',\n",
    "                'Piercings', \n",
    "                'Accessories']"
   ]
  },
  {
   "cell_type": "code",
   "execution_count": 4,
   "id": "d5d514f7-ab79-4b89-9c2d-ec5091ad8cc3",
   "metadata": {},
   "outputs": [],
   "source": [
    "if 'readFiles' not in locals() or 'readFiles'in locals() == True :\n",
    "    # need to load these in order so manually adding them instead of using glob\n",
    "    projectFiles = ['./Attributes_1_5000.csv',\n",
    "    './Attributes_5001_10000.csv',\n",
    "    './Attributes_10001_15000.csv',\n",
    "    './Attributes_15001_20000.csv',\n",
    "    './Attributes_20001_25000.csv',\n",
    "    './Attributes_25001_30000.csv', \n",
    "    './Attributes_30001_35000.csv',\n",
    "    './Attributes_35001_40000.csv',\n",
    "    './Attributes_40001_45000.csv', \n",
    "    './Attributes_45001_50000.csv', \n",
    "    './Attributes_50001_55000.csv', \n",
    "    './Attributes_55001_60000.csv',\n",
    "    './Attributes_60001_65000.csv',\n",
    "    './Attributes_65001_70000.csv',\n",
    "    './Attributes_70001_75000.csv',\n",
    "    './Attributes_75001_80000.csv',\n",
    "    './Attributes_80001_85000.csv',\n",
    "    './Attributes_85001_90000.csv',\n",
    "    './Attributes_90001_95000.csv',\n",
    "    './Attributes_95000_100000.csv']\n",
    "\n",
    "    #df = pd.concat(map(pd.read_csv, glob.glob('./Attributes_1*.csv')))\n",
    "    df = pd.concat(map(pd.read_csv, projectFiles))\n",
    "\n",
    "    print('Length of attributes added ', len(df.index))\n",
    "    mci = manualColumns.copy()\n",
    "    mci.insert(0,'ID')\n",
    "    df.columns = mci\n",
    "    # number of valid rows so still over 5000 not visible, minted or available \n",
    "    validCount = len(df.index) - len(np.where(pd.isnull(df['Background']))[0])\n",
    "    print('Number of valid rows with attributes ', validCount)"
   ]
  },
  {
   "cell_type": "code",
   "execution_count": null,
   "id": "6454ae59-58fa-4d98-b043-c0307a17d6ba",
   "metadata": {},
   "outputs": [],
   "source": []
  }
 ],
 "metadata": {
  "kernelspec": {
   "display_name": "Python 3 (ipykernel)",
   "language": "python",
   "name": "python3"
  },
  "language_info": {
   "codemirror_mode": {
    "name": "ipython",
    "version": 3
   },
   "file_extension": ".py",
   "mimetype": "text/x-python",
   "name": "python",
   "nbconvert_exporter": "python",
   "pygments_lexer": "ipython3",
   "version": "3.9.6"
  }
 },
 "nbformat": 4,
 "nbformat_minor": 5
}
