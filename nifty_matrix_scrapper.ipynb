{
 "cells": [
  {
   "cell_type": "code",
   "execution_count": 1,
   "id": "28dd1a5c-dc16-44a3-98cc-ccfbe3010a5d",
   "metadata": {},
   "outputs": [],
   "source": [
    "readFiles = False\n",
    "%run ./init.ipynb"
   ]
  },
  {
   "cell_type": "code",
   "execution_count": 2,
   "id": "ea072d92-ba9e-440d-a542-2dc1dfccb05c",
   "metadata": {},
   "outputs": [],
   "source": [
    "def renameFileIfExist(fileName):\n",
    "    if os.path.exists(fileName):\n",
    "        os.rename(fileName,'old_' + fileName)"
   ]
  },
  {
   "cell_type": "code",
   "execution_count": 3,
   "id": "1a9e2d21-3c17-41c8-ba6c-c32a933770ee",
   "metadata": {},
   "outputs": [],
   "source": [
    "listing = {}"
   ]
  },
  {
   "cell_type": "code",
   "execution_count": 5,
   "id": "b2c7f47a-d490-4a38-8bf2-27b002df7618",
   "metadata": {},
   "outputs": [
    {
     "name": "stdout",
     "output_type": "stream",
     "text": [
      "50\n",
      "CPU times: user 3.28 s, sys: 259 ms, total: 3.54 s\n",
      "Wall time: 30.9 s\n"
     ]
    }
   ],
   "source": [
    "%%time\n",
    "startRange = 1\n",
    "stopRange = 51\n",
    "\n",
    "rowAttributes = {}\n",
    "refStartx = startRange\n",
    "\n",
    "for x in range(startRange, stopRange):\n",
    "    scraper = cloudscraper.create_scraper(\n",
    "        delay=.1,\n",
    "        browser={\n",
    "            'browser': 'firefox',\n",
    "            'platform': 'windows',\n",
    "            'mobile': False\n",
    "        })\n",
    "    \n",
    "    html = scraper.get(\"https://niftys.com/nft/0x39ceaa47306381b6d79ad46af0f36bc5332386f2/\" + str(x)).text\n",
    "    soup = BeautifulSoup(html, 'lxml')\n",
    "    rows = soup.find_all('div', 'label')\n",
    "\n",
    "    for row in rows:\n",
    "        cells = row\n",
    "        str_row = str(row)\n",
    "        value = str_row.split('!-- -->')\n",
    "        cleanTextAttribute = BeautifulSoup(value[0], \"lxml\").get_text()\n",
    "        if cleanTextAttribute == 'Available on PALM':\n",
    "            continue\n",
    "            \n",
    "        if (len(value) > 1):\n",
    "            cleanTextValue = BeautifulSoup(value[1], \"lxml\").get_text().strip()\n",
    "        else:\n",
    "            cleanTextValue = \"\"\n",
    "        \n",
    "        rowAttributes[cleanTextAttribute] = cleanTextValue\n",
    "    \n",
    "    #output_list = [(rowAttributes[key]) for key in (manualColumns) if key in rowAttributes]\n",
    "    output_list = [(rowAttributes[key]) for key in (manualColumns)]\n",
    "    listing[str(x)] = output_list\n",
    "    clear_output(wait=True)\n",
    "    #print(output_list)\n",
    "    print(x)\n",
    "    if(x % 10 == 0):\n",
    "        if refStartx == 1:\n",
    "            refStartx = 0\n",
    "        data_dictionary =  pd.DataFrame.from_dict(listing, orient='index', columns=manualColumns)  #pd.DataFrame(listing, orient='index')\n",
    "        fileName = 'Attributes_' + str(refStartx + 1) + '_' + str(x) + '.csv'\n",
    "        renameFileIfExist(fileName)\n",
    "        data_dictionary.to_csv(fileName)\n",
    "        refStartx = x\n",
    "        listing.clear()"
   ]
  },
  {
   "cell_type": "code",
   "execution_count": 11,
   "id": "5a8c977e-c609-4c3a-8431-bb5a6000e70c",
   "metadata": {},
   "outputs": [],
   "source": [
    "fileName = 'Attributes_' + str(refStartx + 1) + '_' + str(x) + '.csv'\n",
    "renameFileIfExist(fileName)\n",
    "data_dictionary =  pd.DataFrame.from_dict(listing, orient='index', columns=manualColumns)  #pd.DataFrame(listing, orient='index')\n",
    "data_dictionary.to_csv(fileName)"
   ]
  },
  {
   "cell_type": "code",
   "execution_count": 9,
   "id": "b0e5a3ad-0a1c-4c2c-b870-ab7f395663ca",
   "metadata": {},
   "outputs": [
    {
     "name": "stdout",
     "output_type": "stream",
     "text": [
      "0\n",
      "White    5\n",
      "Name: Background, dtype: int64\n",
      "---------------------------------\n",
      "1\n",
      "Short Afro Fade    3\n",
      "Short Updo         1\n",
      "Low Ponytail       1\n",
      "Name: Hair Style, dtype: int64\n",
      "---------------------------------\n",
      "2\n",
      "Dark Brown    3\n",
      "Black         2\n",
      "Name: Hair Color, dtype: int64\n",
      "---------------------------------\n",
      "3\n",
      "           3\n",
      "Stubble    2\n",
      "Name: Facial Hair, dtype: int64\n",
      "---------------------------------\n",
      "4\n",
      "Gray Oxford with Buttons    1\n",
      "Olive Oxford with Tie       1\n",
      "Blue Longsleeve             1\n",
      "Red Longsleeve              1\n",
      "Gray Oxford with Tie        1\n",
      "Name: Top, dtype: int64\n",
      "---------------------------------\n",
      "5\n",
      "Navy Slacks         2\n",
      "Light-Wash Denim    2\n",
      "Gray Slacks         1\n",
      "Name: Bottom, dtype: int64\n",
      "---------------------------------\n",
      "6\n",
      "White Canvas Sneaker with White Sole    3\n",
      "Tan Suede Workboot with Tan Sole        1\n",
      "Brown Leather Shoes with Laces          1\n",
      "Name: Footwear, dtype: int64\n",
      "---------------------------------\n",
      "7\n",
      "             4\n",
      "Two Rings    1\n",
      "Name: Ring, dtype: int64\n",
      "---------------------------------\n",
      "8\n",
      "    5\n",
      "Name: Headwear, dtype: int64\n",
      "---------------------------------\n",
      "9\n",
      "               3\n",
      "Black Books    2\n",
      "Name: Glasses, dtype: int64\n",
      "---------------------------------\n",
      "10\n",
      "                4\n",
      "Stud Earring    1\n",
      "Name: Piercings, dtype: int64\n",
      "---------------------------------\n",
      "11\n",
      "                           2\n",
      "Brown Leather Briefcase    1\n",
      "Lunchbox                   1\n",
      "Black Smartphone           1\n",
      "Name: Accessories, dtype: int64\n",
      "---------------------------------\n"
     ]
    }
   ],
   "source": [
    "for count in range(0, len(manualColumns)):\n",
    "    print(count)\n",
    "    print(data_dictionary[manualColumns[count]].value_counts())\n",
    "    data_dictionary[manualColumns[count]].value_counts(normalize=True)\n",
    "    print('---------------------------------')"
   ]
  },
  {
   "cell_type": "code",
   "execution_count": 11,
   "id": "585a8ac0-2d4f-4ac0-8c89-eb98d1c74508",
   "metadata": {},
   "outputs": [
    {
     "name": "stdout",
     "output_type": "stream",
     "text": [
      "done\n"
     ]
    }
   ],
   "source": [
    "print('done')"
   ]
  },
  {
   "cell_type": "code",
   "execution_count": null,
   "id": "2e368b57-506d-4f1a-bd0f-148395be104b",
   "metadata": {},
   "outputs": [],
   "source": []
  }
 ],
 "metadata": {
  "kernelspec": {
   "display_name": "Python 3 (ipykernel)",
   "language": "python",
   "name": "python3"
  },
  "language_info": {
   "codemirror_mode": {
    "name": "ipython",
    "version": 3
   },
   "file_extension": ".py",
   "mimetype": "text/x-python",
   "name": "python",
   "nbconvert_exporter": "python",
   "pygments_lexer": "ipython3",
   "version": "3.9.6"
  }
 },
 "nbformat": 4,
 "nbformat_minor": 5
}
