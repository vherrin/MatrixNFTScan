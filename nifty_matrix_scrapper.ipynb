{
 "cells": [
  {
   "cell_type": "code",
   "execution_count": 7,
   "id": "b6d35774-0e02-4371-a4e2-412b0fda8472",
   "metadata": {},
   "outputs": [],
   "source": [
    "import pandas as pd\n",
    "import cloudscraper\n",
    "from urllib.request import urlopen\n",
    "from bs4 import BeautifulSoup\n",
    "from IPython.display import clear_output\n"
   ]
  },
  {
   "cell_type": "code",
   "execution_count": 8,
   "id": "28dd1a5c-dc16-44a3-98cc-ccfbe3010a5d",
   "metadata": {},
   "outputs": [
    {
     "name": "stdout",
     "output_type": "stream",
     "text": [
      "Length of attributes added  100000\n",
      "Number of valid rows with attributes  96406\n"
     ]
    }
   ],
   "source": [
    "%run ./init.ipynb"
   ]
  },
  {
   "cell_type": "code",
   "execution_count": 9,
   "id": "1a9e2d21-3c17-41c8-ba6c-c32a933770ee",
   "metadata": {},
   "outputs": [],
   "source": [
    "listing = {}"
   ]
  },
  {
   "cell_type": "code",
   "execution_count": 10,
   "id": "b2c7f47a-d490-4a38-8bf2-27b002df7618",
   "metadata": {},
   "outputs": [
    {
     "name": "stdout",
     "output_type": "stream",
     "text": [
      "96999\n",
      "CPU times: user 54.1 s, sys: 3.25 s, total: 57.4 s\n",
      "Wall time: 20min 2s\n"
     ]
    }
   ],
   "source": [
    "%%time\n",
    "startRange = 96405\n",
    "stopRange = 97000\n",
    "\n",
    "refStartx = startRange\n",
    "for x in range(startRange, stopRange):\n",
    "    scraper = cloudscraper.create_scraper(\n",
    "        delay=1,\n",
    "        browser={\n",
    "            'browser': 'firefox',\n",
    "            'platform': 'windows',\n",
    "            'mobile': False\n",
    "        })\n",
    "    html = scraper.get(\"https://niftys.com/nft/0x39ceaa47306381b6d79ad46af0f36bc5332386f2/\" + str(x)).text\n",
    "\n",
    "    soup = BeautifulSoup(html, 'lxml')\n",
    "\n",
    "    rows = soup.find_all('div', 'label')\n",
    "\n",
    "    rowAttributes = {}\n",
    "    for row in rows:\n",
    "        cells = row\n",
    "        str_row = str(row)\n",
    "        value = str_row.split('!-- -->')\n",
    "        cleanTextAttribute = BeautifulSoup(value[0], \"lxml\").get_text()\n",
    "        if cleanTextAttribute == 'Available on PALM':\n",
    "            continue\n",
    "        if (len(value) > 1):\n",
    "            cleanTextValue = BeautifulSoup(value[1], \"lxml\").get_text().strip()\n",
    "        else:\n",
    "            cleanTextValue = \"None\"\n",
    "        \n",
    "        rowAttributes[cleanTextAttribute] = cleanTextValue\n",
    "    \n",
    "    output_list = [(rowAttributes[key]) for key in (manualColumns) if key in rowAttributes]\n",
    "\n",
    "    \n",
    "    listing[str(x)] = output_list\n",
    "    clear_output(wait=True)\n",
    "    print(x)\n",
    "    if(x % 5000 == 0):\n",
    "        if refStartx == 1:\n",
    "            refStartx = 0\n",
    "        data_dictionary =  pd.DataFrame.from_dict(listing, orient='index', columns=manualColums)  #pd.DataFrame(listing, orient='index')\n",
    "        data_dictionary.to_csv('Attributes_' + str(refStartx + 1) + '_' + str(x) + '.csv')\n",
    "        refStartx = x\n",
    "        listing.clear()"
   ]
  },
  {
   "cell_type": "code",
   "execution_count": 13,
   "id": "5a8c977e-c609-4c3a-8431-bb5a6000e70c",
   "metadata": {},
   "outputs": [],
   "source": [
    "data_dictionary =  pd.DataFrame.from_dict(listing, orient='index', columns=manualColumns)  #pd.DataFrame(listing, orient='index')\n",
    "data_dictionary.to_csv('Attributes_' + str(refStartx + 1) + '_' + str(x) + '.csv')"
   ]
  },
  {
   "cell_type": "code",
   "execution_count": 11,
   "id": "c035e1ae-55b9-4019-9f0a-4b5cb9bb9993",
   "metadata": {},
   "outputs": [
    {
     "ename": "NameError",
     "evalue": "name 'manualColums' is not defined",
     "output_type": "error",
     "traceback": [
      "\u001b[0;31m---------------------------------------------------------------------------\u001b[0m",
      "\u001b[0;31mNameError\u001b[0m                                 Traceback (most recent call last)",
      "\u001b[0;32m/var/folders/42/p406j8k97nndnq50j_k1yw700000gp/T/ipykernel_37826/2903008586.py\u001b[0m in \u001b[0;36m<module>\u001b[0;34m\u001b[0m\n\u001b[0;32m----> 1\u001b[0;31m \u001b[0mdata_dictionary\u001b[0m \u001b[0;34m=\u001b[0m  \u001b[0mpd\u001b[0m\u001b[0;34m.\u001b[0m\u001b[0mDataFrame\u001b[0m\u001b[0;34m.\u001b[0m\u001b[0mfrom_dict\u001b[0m\u001b[0;34m(\u001b[0m\u001b[0mlisting\u001b[0m\u001b[0;34m,\u001b[0m \u001b[0morient\u001b[0m\u001b[0;34m=\u001b[0m\u001b[0;34m'index'\u001b[0m\u001b[0;34m,\u001b[0m \u001b[0mcolumns\u001b[0m\u001b[0;34m=\u001b[0m\u001b[0mmanualColums\u001b[0m\u001b[0;34m)\u001b[0m  \u001b[0;31m#pd.DataFrame(listing, orient='index')\u001b[0m\u001b[0;34m\u001b[0m\u001b[0;34m\u001b[0m\u001b[0m\n\u001b[0m",
      "\u001b[0;31mNameError\u001b[0m: name 'manualColums' is not defined"
     ]
    }
   ],
   "source": [
    "data_dictionary =  pd.DataFrame.from_dict(listing, orient='index', columns=manualColums)  #pd.DataFrame(listing, orient='index')"
   ]
  },
  {
   "cell_type": "code",
   "execution_count": null,
   "id": "b771a37e-5fca-4186-8eb1-9deee7834e0e",
   "metadata": {},
   "outputs": [],
   "source": [
    "data_dictionary"
   ]
  },
  {
   "cell_type": "code",
   "execution_count": null,
   "id": "b0e5a3ad-0a1c-4c2c-b870-ab7f395663ca",
   "metadata": {},
   "outputs": [],
   "source": [
    "for count in range(0, len(manualColums)):\n",
    "    print(count)\n",
    "    print(data_dictionary[manualColums[count]].value_counts())\n",
    "    data_dictionary[manualColums[count]].value_counts(normalize=True)\n",
    "    print('---------------------------------')"
   ]
  },
  {
   "cell_type": "code",
   "execution_count": null,
   "id": "2ad3889c-6d1d-474f-87c3-bcb6029a2d3d",
   "metadata": {},
   "outputs": [],
   "source": [
    "data_dictionary.to_csv('Attributes_' + str(startRange) + '_' + str(stopRange-1) + '.csv')"
   ]
  },
  {
   "cell_type": "code",
   "execution_count": null,
   "id": "585a8ac0-2d4f-4ac0-8c89-eb98d1c74508",
   "metadata": {},
   "outputs": [],
   "source": [
    "print('done')"
   ]
  },
  {
   "cell_type": "code",
   "execution_count": null,
   "id": "2e368b57-506d-4f1a-bd0f-148395be104b",
   "metadata": {},
   "outputs": [],
   "source": []
  }
 ],
 "metadata": {
  "kernelspec": {
   "display_name": "Python 3 (ipykernel)",
   "language": "python",
   "name": "python3"
  },
  "language_info": {
   "codemirror_mode": {
    "name": "ipython",
    "version": 3
   },
   "file_extension": ".py",
   "mimetype": "text/x-python",
   "name": "python",
   "nbconvert_exporter": "python",
   "pygments_lexer": "ipython3",
   "version": "3.9.6"
  }
 },
 "nbformat": 4,
 "nbformat_minor": 5
}
