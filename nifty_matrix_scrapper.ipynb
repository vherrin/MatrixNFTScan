{
 "cells": [
  {
   "cell_type": "code",
   "execution_count": null,
   "id": "28dd1a5c-dc16-44a3-98cc-ccfbe3010a5d",
   "metadata": {},
   "outputs": [],
   "source": [
    "readFiles = False\n",
    "%run ./init.ipynb"
   ]
  },
  {
   "cell_type": "code",
   "execution_count": null,
   "id": "082763e0-1b43-41b4-8e1f-3bea9bbba47e",
   "metadata": {},
   "outputs": [],
   "source": [
    "def in_notebook():\n",
    "    \"\"\"\n",
    "    Returns ``True`` if the module is running in IPython kernel,\n",
    "    ``False`` if in IPython shell or other Python shell.\n",
    "    \"\"\"\n",
    "    return 'ipykernel' in sys.modules\n",
    "\n",
    "def ipython_info():\n",
    "    ip = False\n",
    "    if 'ipykernel' in sys.modules:\n",
    "        ip = 'notebook'\n",
    "    elif 'IPython' in sys.modules:\n",
    "        ip = 'terminal'\n",
    "    return ip"
   ]
  },
  {
   "cell_type": "code",
   "execution_count": null,
   "id": "ea072d92-ba9e-440d-a542-2dc1dfccb05c",
   "metadata": {},
   "outputs": [],
   "source": [
    "def renameFileIfExist(fileName):\n",
    "    if os.path.exists(fileName):\n",
    "        os.rename(fileName,'old_' + fileName)"
   ]
  },
  {
   "cell_type": "code",
   "execution_count": null,
   "id": "10d1ce89-160f-4154-ba2b-a033693c4bc4",
   "metadata": {},
   "outputs": [],
   "source": [
    "def saveDictionary(dataDictionary, filename, path):\n",
    "    if not os.path.exists(path):\n",
    "        os.makedirs(path)\n",
    "\n",
    "    renameFileIfExist(fileName)\n",
    "    fileAndPath = path + filename\n",
    "    print(fileAndPath)\n",
    "    dataDictionary.to_csv(fileAndPath)"
   ]
  },
  {
   "cell_type": "code",
   "execution_count": null,
   "id": "b2c7f47a-d490-4a38-8bf2-27b002df7618",
   "metadata": {
    "tags": []
   },
   "outputs": [],
   "source": [
    "%%time\n",
    "\n",
    "startRange = 1\n",
    "stopRange = 100001\n",
    "modulo = 5000\n",
    "\n",
    "print(ipython_info()) \n",
    "\n",
    "#logging.basicConfig(level=logging.DEBUG)\n",
    "\n",
    "if (ipython_info() == 'terminal'):\n",
    "    if len(sys.argv) > 0:\n",
    "        print('in sys if statement')\n",
    "        startRange = int(sys.argv[1])\n",
    "        stopRange = int(sys.argv[2])\n",
    "        modulo = int(sys.argv[3])\n",
    "        print('start range is ' + str(startRange))\n",
    "        print('stop range is ' + str(stopRange))\n",
    "        print('modulo is ' + str(modulo))\n",
    "\n",
    "\n",
    "baseURL='https://aggregator.api.niftys.com/v1/metadata/contracts/'\n",
    "#contractURL='ckw5j7pqf0011g4731pvaj6gm/'\n",
    "#contractURL='matrix-red-contract/'\n",
    "\n",
    "retrievedColumns=[]\n",
    "\n",
    "for contractURL in contractURLs:\n",
    "    rowAttributes = {}\n",
    "    listing = {}\n",
    "    blankOutputList = []\n",
    "    retrievedColumns.clear()\n",
    "    refStartx = startRange\n",
    "\n",
    "    print('startRange = ' + str(startRange) + ' and stopRange = ' + str(stopRange))\n",
    "\n",
    "    for avatarNumber in range(startRange, stopRange):\n",
    "\n",
    "        s = requests.Session()\n",
    "        retries = Retry(total=5, backoff_factor=1, status_forcelist=[ 502, 503, 504 ])\n",
    "        s.mount('https://', HTTPAdapter(max_retries=retries))\n",
    "\n",
    "        lineItemJson = s.get(baseURL + contractURL + str(avatarNumber)).text\n",
    "        \n",
    "        #lineItemJson = requests.get(baseURL + contractURL + str(avatarNumber)).text\n",
    "        \n",
    "        metadata = json.loads(lineItemJson)\n",
    "        output_list=[]\n",
    "        \n",
    "        for k,v in metadata.items():\n",
    "            if type(v) is list:\n",
    "                if (len(retrievedColumns) == 0):\n",
    "                    coulumnsNameAndLocation = './data/' + contractURL + 'retrievedColumnsList.txt'\n",
    "                    if os.path.exists(coulumnsNameAndLocation):\n",
    "                        #print('path exists')\n",
    "                        with open(coulumnsNameAndLocation, 'r') as filehandle:\n",
    "                            retrievedColumns = json.load(filehandle)\n",
    "                    else:\n",
    "                        #print('in else')\n",
    "                        for i in v:\n",
    "                            attributeNameList=list(i.values())\n",
    "                            retrievedColumns.append(attributeNameList[0]) # name or key of the attribute\n",
    "                            blankOutputList.append('')  # fill empty string to match the same size total\n",
    "                         # open output file for writing\n",
    "                        if (len(retrievedColumns) > 0):\n",
    "                            #print('length of retrievedColumns is ' + str(len(retrievedColumns)))\n",
    "                            \n",
    "                            try:\n",
    "                                with open(coulumnsNameAndLocation, 'w') as filehandle:\n",
    "                                    json.dump(retrievedColumns, filehandle)\n",
    "                            except:\n",
    "                                print('made it to except')\n",
    "                for attributes in v:\n",
    "                    valueList=list(attributes.values())\n",
    "                    cleanTextAttribute = valueList[0]\n",
    "                    if (len(valueList[1]) > 0):\n",
    "                        cleanTextValue = valueList[1]\n",
    "                    else:\n",
    "                        cleanTextValue = ''\n",
    "                    rowAttributes[cleanTextAttribute] = cleanTextValue\n",
    "                output_list = [(rowAttributes[key]) for key in (retrievedColumns) if key in rowAttributes]\n",
    "        if len(output_list) == 0:\n",
    "            listing[str(avatarNumber)] = blankOutputList.copy()\n",
    "        else:\n",
    "            listing[str(avatarNumber)] = output_list.copy()\n",
    "\n",
    "        output_list.clear()\n",
    "        clear_output(wait=True)\n",
    "        print(contractURL, avatarNumber)\n",
    "        if(avatarNumber % modulo == 0):\n",
    "            if refStartx == 1:\n",
    "                refStartx = 0\n",
    "            data_dictionary =  pd.DataFrame.from_dict(listing, orient='index', columns=retrievedColumns)  #pd.DataFrame(listing, orient='index')\n",
    "            fileName = 'Attributes_' + str(refStartx + 1) + '_' + str(avatarNumber) + '.csv'\n",
    "            saveDictionary(data_dictionary, fileName, './data/' + contractURL )\n",
    "            refStartx = avatarNumber\n",
    "            listing.clear()"
   ]
  },
  {
   "cell_type": "code",
   "execution_count": null,
   "id": "5a8c977e-c609-4c3a-8431-bb5a6000e70c",
   "metadata": {},
   "outputs": [],
   "source": [
    "#fileName = 'Attributes_' + str(refStartx + 1) + '_' + str(x) + '.csv'\n",
    "#renameFileIfExist(fileName)\n",
    "#data_dictionary =  pd.DataFrame.from_dict(listing, orient='index', columns=manualColumns)  #pd.DataFrame(listing, orient='index')\n",
    "#data_dictionary.to_csv(fileName)"
   ]
  },
  {
   "cell_type": "code",
   "execution_count": null,
   "id": "b0e5a3ad-0a1c-4c2c-b870-ab7f395663ca",
   "metadata": {},
   "outputs": [],
   "source": [
    "#for count in range(0, len(manualColumns)):\n",
    "#    print(count)\n",
    "#    print(data_dictionary[manualColumns[count]].value_counts())\n",
    "#    data_dictionary[manualColumns[count]].value_counts(normalize=True)\n",
    "#    print('---------------------------------')"
   ]
  },
  {
   "cell_type": "code",
   "execution_count": null,
   "id": "585a8ac0-2d4f-4ac0-8c89-eb98d1c74508",
   "metadata": {},
   "outputs": [],
   "source": [
    "print('done')"
   ]
  },
  {
   "cell_type": "code",
   "execution_count": null,
   "id": "2e368b57-506d-4f1a-bd0f-148395be104b",
   "metadata": {},
   "outputs": [],
   "source": []
  }
 ],
 "metadata": {
  "kernelspec": {
   "display_name": "Python 3 (ipykernel)",
   "language": "python",
   "name": "python3"
  },
  "language_info": {
   "codemirror_mode": {
    "name": "ipython",
    "version": 3
   },
   "file_extension": ".py",
   "mimetype": "text/x-python",
   "name": "python",
   "nbconvert_exporter": "python",
   "pygments_lexer": "ipython3",
   "version": "3.9.6"
  }
 },
 "nbformat": 4,
 "nbformat_minor": 5
}
