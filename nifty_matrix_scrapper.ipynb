{
 "cells": [
  {
   "cell_type": "code",
   "execution_count": 1,
   "id": "28dd1a5c-dc16-44a3-98cc-ccfbe3010a5d",
   "metadata": {},
   "outputs": [],
   "source": [
    "readFiles = False\n",
    "%run ./init.ipynb"
   ]
  },
  {
   "cell_type": "code",
   "execution_count": 2,
   "id": "082763e0-1b43-41b4-8e1f-3bea9bbba47e",
   "metadata": {},
   "outputs": [],
   "source": [
    "def in_notebook():\n",
    "    \"\"\"\n",
    "    Returns ``True`` if the module is running in IPython kernel,\n",
    "    ``False`` if in IPython shell or other Python shell.\n",
    "    \"\"\"\n",
    "    return 'ipykernel' in sys.modules\n",
    "\n",
    "def ipython_info():\n",
    "    ip = False\n",
    "    if 'ipykernel' in sys.modules:\n",
    "        ip = 'notebook'\n",
    "    elif 'IPython' in sys.modules:\n",
    "        ip = 'terminal'\n",
    "    return ip"
   ]
  },
  {
   "cell_type": "code",
   "execution_count": 3,
   "id": "ea072d92-ba9e-440d-a542-2dc1dfccb05c",
   "metadata": {},
   "outputs": [],
   "source": [
    "def renameFileIfExist(fileName):\n",
    "    if os.path.exists(fileName):\n",
    "        os.rename(fileName,'old_' + fileName)"
   ]
  },
  {
   "cell_type": "code",
   "execution_count": 4,
   "id": "10d1ce89-160f-4154-ba2b-a033693c4bc4",
   "metadata": {},
   "outputs": [],
   "source": [
    "def saveDictionary(dataDictionary, filename, path):\n",
    "    if not os.path.exists(path):\n",
    "        os.makedirs(path)\n",
    "\n",
    "    renameFileIfExist(fileName)\n",
    "    fileAndPath = path + filename\n",
    "    print(fileAndPath)\n",
    "    dataDictionary.to_csv(fileAndPath)"
   ]
  },
  {
   "cell_type": "code",
   "execution_count": 6,
   "id": "b2c7f47a-d490-4a38-8bf2-27b002df7618",
   "metadata": {
    "tags": []
   },
   "outputs": [
    {
     "name": "stderr",
     "output_type": "stream",
     "text": [
      "DEBUG:urllib3.connectionpool:Starting new HTTPS connection (1): aggregator.api.niftys.com:443\n"
     ]
    },
    {
     "name": "stdout",
     "output_type": "stream",
     "text": [
      "notebook\n",
      "startRange = 1 and stopRange = 26\n"
     ]
    },
    {
     "name": "stderr",
     "output_type": "stream",
     "text": [
      "DEBUG:urllib3.connectionpool:https://aggregator.api.niftys.com:443 \"GET /v1/metadata/contracts/matrix-red-contract/1 HTTP/1.1\" 200 1925\n",
      "DEBUG:urllib3.connectionpool:Starting new HTTPS connection (1): aggregator.api.niftys.com:443\n"
     ]
    },
    {
     "name": "stdout",
     "output_type": "stream",
     "text": [
      "in else\n",
      "length of retrievedColumns is 35\n",
      "1\n"
     ]
    },
    {
     "name": "stderr",
     "output_type": "stream",
     "text": [
      "DEBUG:urllib3.connectionpool:https://aggregator.api.niftys.com:443 \"GET /v1/metadata/contracts/matrix-red-contract/2 HTTP/1.1\" 404 50\n",
      "DEBUG:urllib3.connectionpool:Starting new HTTPS connection (1): aggregator.api.niftys.com:443\n"
     ]
    },
    {
     "name": "stdout",
     "output_type": "stream",
     "text": [
      "2\n"
     ]
    },
    {
     "name": "stderr",
     "output_type": "stream",
     "text": [
      "DEBUG:urllib3.connectionpool:https://aggregator.api.niftys.com:443 \"GET /v1/metadata/contracts/matrix-red-contract/3 HTTP/1.1\" 404 50\n",
      "DEBUG:urllib3.connectionpool:Starting new HTTPS connection (1): aggregator.api.niftys.com:443\n"
     ]
    },
    {
     "name": "stdout",
     "output_type": "stream",
     "text": [
      "3\n"
     ]
    },
    {
     "name": "stderr",
     "output_type": "stream",
     "text": [
      "DEBUG:urllib3.connectionpool:https://aggregator.api.niftys.com:443 \"GET /v1/metadata/contracts/matrix-red-contract/4 HTTP/1.1\" 404 50\n",
      "DEBUG:urllib3.connectionpool:Starting new HTTPS connection (1): aggregator.api.niftys.com:443\n"
     ]
    },
    {
     "name": "stdout",
     "output_type": "stream",
     "text": [
      "4\n"
     ]
    },
    {
     "name": "stderr",
     "output_type": "stream",
     "text": [
      "DEBUG:urllib3.connectionpool:https://aggregator.api.niftys.com:443 \"GET /v1/metadata/contracts/matrix-red-contract/5 HTTP/1.1\" 404 50\n",
      "DEBUG:urllib3.connectionpool:Starting new HTTPS connection (1): aggregator.api.niftys.com:443\n"
     ]
    },
    {
     "name": "stdout",
     "output_type": "stream",
     "text": [
      "5\n"
     ]
    },
    {
     "name": "stderr",
     "output_type": "stream",
     "text": [
      "DEBUG:urllib3.connectionpool:https://aggregator.api.niftys.com:443 \"GET /v1/metadata/contracts/matrix-red-contract/6 HTTP/1.1\" 404 50\n",
      "DEBUG:urllib3.connectionpool:Starting new HTTPS connection (1): aggregator.api.niftys.com:443\n"
     ]
    },
    {
     "name": "stdout",
     "output_type": "stream",
     "text": [
      "6\n"
     ]
    },
    {
     "name": "stderr",
     "output_type": "stream",
     "text": [
      "DEBUG:urllib3.connectionpool:https://aggregator.api.niftys.com:443 \"GET /v1/metadata/contracts/matrix-red-contract/7 HTTP/1.1\" 404 50\n",
      "DEBUG:urllib3.connectionpool:Starting new HTTPS connection (1): aggregator.api.niftys.com:443\n"
     ]
    },
    {
     "name": "stdout",
     "output_type": "stream",
     "text": [
      "7\n"
     ]
    },
    {
     "name": "stderr",
     "output_type": "stream",
     "text": [
      "DEBUG:urllib3.connectionpool:https://aggregator.api.niftys.com:443 \"GET /v1/metadata/contracts/matrix-red-contract/8 HTTP/1.1\" 404 50\n",
      "DEBUG:urllib3.connectionpool:Starting new HTTPS connection (1): aggregator.api.niftys.com:443\n"
     ]
    },
    {
     "name": "stdout",
     "output_type": "stream",
     "text": [
      "8\n"
     ]
    },
    {
     "name": "stderr",
     "output_type": "stream",
     "text": [
      "DEBUG:urllib3.connectionpool:https://aggregator.api.niftys.com:443 \"GET /v1/metadata/contracts/matrix-red-contract/9 HTTP/1.1\" 404 50\n",
      "DEBUG:urllib3.connectionpool:Starting new HTTPS connection (1): aggregator.api.niftys.com:443\n"
     ]
    },
    {
     "name": "stdout",
     "output_type": "stream",
     "text": [
      "9\n"
     ]
    },
    {
     "name": "stderr",
     "output_type": "stream",
     "text": [
      "DEBUG:urllib3.connectionpool:https://aggregator.api.niftys.com:443 \"GET /v1/metadata/contracts/matrix-red-contract/10 HTTP/1.1\" 404 50\n",
      "DEBUG:urllib3.connectionpool:Starting new HTTPS connection (1): aggregator.api.niftys.com:443\n"
     ]
    },
    {
     "name": "stdout",
     "output_type": "stream",
     "text": [
      "10\n"
     ]
    },
    {
     "name": "stderr",
     "output_type": "stream",
     "text": [
      "DEBUG:urllib3.connectionpool:https://aggregator.api.niftys.com:443 \"GET /v1/metadata/contracts/matrix-red-contract/11 HTTP/1.1\" 404 50\n",
      "DEBUG:urllib3.connectionpool:Starting new HTTPS connection (1): aggregator.api.niftys.com:443\n"
     ]
    },
    {
     "name": "stdout",
     "output_type": "stream",
     "text": [
      "11\n"
     ]
    },
    {
     "name": "stderr",
     "output_type": "stream",
     "text": [
      "DEBUG:urllib3.connectionpool:https://aggregator.api.niftys.com:443 \"GET /v1/metadata/contracts/matrix-red-contract/12 HTTP/1.1\" 404 50\n",
      "DEBUG:urllib3.connectionpool:Starting new HTTPS connection (1): aggregator.api.niftys.com:443\n"
     ]
    },
    {
     "name": "stdout",
     "output_type": "stream",
     "text": [
      "12\n"
     ]
    },
    {
     "name": "stderr",
     "output_type": "stream",
     "text": [
      "DEBUG:urllib3.connectionpool:https://aggregator.api.niftys.com:443 \"GET /v1/metadata/contracts/matrix-red-contract/13 HTTP/1.1\" 404 50\n",
      "DEBUG:urllib3.connectionpool:Starting new HTTPS connection (1): aggregator.api.niftys.com:443\n"
     ]
    },
    {
     "name": "stdout",
     "output_type": "stream",
     "text": [
      "13\n"
     ]
    },
    {
     "name": "stderr",
     "output_type": "stream",
     "text": [
      "DEBUG:urllib3.connectionpool:https://aggregator.api.niftys.com:443 \"GET /v1/metadata/contracts/matrix-red-contract/14 HTTP/1.1\" 404 50\n",
      "DEBUG:urllib3.connectionpool:Starting new HTTPS connection (1): aggregator.api.niftys.com:443\n"
     ]
    },
    {
     "name": "stdout",
     "output_type": "stream",
     "text": [
      "14\n"
     ]
    },
    {
     "name": "stderr",
     "output_type": "stream",
     "text": [
      "DEBUG:urllib3.connectionpool:https://aggregator.api.niftys.com:443 \"GET /v1/metadata/contracts/matrix-red-contract/15 HTTP/1.1\" 200 1941\n",
      "DEBUG:urllib3.connectionpool:Starting new HTTPS connection (1): aggregator.api.niftys.com:443\n"
     ]
    },
    {
     "name": "stdout",
     "output_type": "stream",
     "text": [
      "15\n"
     ]
    },
    {
     "name": "stderr",
     "output_type": "stream",
     "text": [
      "DEBUG:urllib3.connectionpool:https://aggregator.api.niftys.com:443 \"GET /v1/metadata/contracts/matrix-red-contract/16 HTTP/1.1\" 200 1972\n",
      "DEBUG:urllib3.connectionpool:Starting new HTTPS connection (1): aggregator.api.niftys.com:443\n"
     ]
    },
    {
     "name": "stdout",
     "output_type": "stream",
     "text": [
      "16\n"
     ]
    },
    {
     "name": "stderr",
     "output_type": "stream",
     "text": [
      "DEBUG:urllib3.connectionpool:https://aggregator.api.niftys.com:443 \"GET /v1/metadata/contracts/matrix-red-contract/17 HTTP/1.1\" 200 1927\n",
      "DEBUG:urllib3.connectionpool:Starting new HTTPS connection (1): aggregator.api.niftys.com:443\n"
     ]
    },
    {
     "name": "stdout",
     "output_type": "stream",
     "text": [
      "17\n"
     ]
    },
    {
     "name": "stderr",
     "output_type": "stream",
     "text": [
      "DEBUG:urllib3.connectionpool:https://aggregator.api.niftys.com:443 \"GET /v1/metadata/contracts/matrix-red-contract/18 HTTP/1.1\" 404 50\n",
      "DEBUG:urllib3.connectionpool:Starting new HTTPS connection (1): aggregator.api.niftys.com:443\n"
     ]
    },
    {
     "name": "stdout",
     "output_type": "stream",
     "text": [
      "18\n"
     ]
    },
    {
     "name": "stderr",
     "output_type": "stream",
     "text": [
      "DEBUG:urllib3.connectionpool:https://aggregator.api.niftys.com:443 \"GET /v1/metadata/contracts/matrix-red-contract/19 HTTP/1.1\" 404 50\n",
      "DEBUG:urllib3.connectionpool:Starting new HTTPS connection (1): aggregator.api.niftys.com:443\n"
     ]
    },
    {
     "name": "stdout",
     "output_type": "stream",
     "text": [
      "19\n"
     ]
    },
    {
     "name": "stderr",
     "output_type": "stream",
     "text": [
      "DEBUG:urllib3.connectionpool:https://aggregator.api.niftys.com:443 \"GET /v1/metadata/contracts/matrix-red-contract/20 HTTP/1.1\" 200 1945\n",
      "DEBUG:urllib3.connectionpool:Starting new HTTPS connection (1): aggregator.api.niftys.com:443\n"
     ]
    },
    {
     "name": "stdout",
     "output_type": "stream",
     "text": [
      "20\n"
     ]
    },
    {
     "name": "stderr",
     "output_type": "stream",
     "text": [
      "DEBUG:urllib3.connectionpool:https://aggregator.api.niftys.com:443 \"GET /v1/metadata/contracts/matrix-red-contract/21 HTTP/1.1\" 404 50\n",
      "DEBUG:urllib3.connectionpool:Starting new HTTPS connection (1): aggregator.api.niftys.com:443\n"
     ]
    },
    {
     "name": "stdout",
     "output_type": "stream",
     "text": [
      "21\n"
     ]
    },
    {
     "name": "stderr",
     "output_type": "stream",
     "text": [
      "DEBUG:urllib3.connectionpool:https://aggregator.api.niftys.com:443 \"GET /v1/metadata/contracts/matrix-red-contract/22 HTTP/1.1\" 404 50\n",
      "DEBUG:urllib3.connectionpool:Starting new HTTPS connection (1): aggregator.api.niftys.com:443\n"
     ]
    },
    {
     "name": "stdout",
     "output_type": "stream",
     "text": [
      "22\n"
     ]
    },
    {
     "name": "stderr",
     "output_type": "stream",
     "text": [
      "DEBUG:urllib3.connectionpool:https://aggregator.api.niftys.com:443 \"GET /v1/metadata/contracts/matrix-red-contract/23 HTTP/1.1\" 404 50\n",
      "DEBUG:urllib3.connectionpool:Starting new HTTPS connection (1): aggregator.api.niftys.com:443\n"
     ]
    },
    {
     "name": "stdout",
     "output_type": "stream",
     "text": [
      "23\n"
     ]
    },
    {
     "name": "stderr",
     "output_type": "stream",
     "text": [
      "DEBUG:urllib3.connectionpool:https://aggregator.api.niftys.com:443 \"GET /v1/metadata/contracts/matrix-red-contract/24 HTTP/1.1\" 404 50\n",
      "DEBUG:urllib3.connectionpool:Starting new HTTPS connection (1): aggregator.api.niftys.com:443\n"
     ]
    },
    {
     "name": "stdout",
     "output_type": "stream",
     "text": [
      "24\n"
     ]
    },
    {
     "name": "stderr",
     "output_type": "stream",
     "text": [
      "DEBUG:urllib3.connectionpool:https://aggregator.api.niftys.com:443 \"GET /v1/metadata/contracts/matrix-red-contract/25 HTTP/1.1\" 404 50\n",
      "DEBUG:urllib3.connectionpool:Starting new HTTPS connection (1): aggregator.api.niftys.com:443\n"
     ]
    },
    {
     "name": "stdout",
     "output_type": "stream",
     "text": [
      "25\n",
      "./data/matrix-red-contract/Attributes_1_25.csv\n",
      "startRange = 1 and stopRange = 26\n"
     ]
    },
    {
     "name": "stderr",
     "output_type": "stream",
     "text": [
      "DEBUG:urllib3.connectionpool:https://aggregator.api.niftys.com:443 \"GET /v1/metadata/contracts/matrix-blue-contract/1 HTTP/1.1\" 404 50\n",
      "DEBUG:urllib3.connectionpool:Starting new HTTPS connection (1): aggregator.api.niftys.com:443\n"
     ]
    },
    {
     "name": "stdout",
     "output_type": "stream",
     "text": [
      "1\n"
     ]
    },
    {
     "name": "stderr",
     "output_type": "stream",
     "text": [
      "DEBUG:urllib3.connectionpool:https://aggregator.api.niftys.com:443 \"GET /v1/metadata/contracts/matrix-blue-contract/2 HTTP/1.1\" 200 1509\n",
      "DEBUG:urllib3.connectionpool:Starting new HTTPS connection (1): aggregator.api.niftys.com:443\n"
     ]
    },
    {
     "name": "stdout",
     "output_type": "stream",
     "text": [
      "in else\n",
      "length of retrievedColumns is 28\n",
      "2\n"
     ]
    },
    {
     "name": "stderr",
     "output_type": "stream",
     "text": [
      "DEBUG:urllib3.connectionpool:https://aggregator.api.niftys.com:443 \"GET /v1/metadata/contracts/matrix-blue-contract/3 HTTP/1.1\" 404 50\n",
      "DEBUG:urllib3.connectionpool:Starting new HTTPS connection (1): aggregator.api.niftys.com:443\n"
     ]
    },
    {
     "name": "stdout",
     "output_type": "stream",
     "text": [
      "3\n"
     ]
    },
    {
     "name": "stderr",
     "output_type": "stream",
     "text": [
      "DEBUG:urllib3.connectionpool:https://aggregator.api.niftys.com:443 \"GET /v1/metadata/contracts/matrix-blue-contract/4 HTTP/1.1\" 404 50\n",
      "DEBUG:urllib3.connectionpool:Starting new HTTPS connection (1): aggregator.api.niftys.com:443\n"
     ]
    },
    {
     "name": "stdout",
     "output_type": "stream",
     "text": [
      "4\n"
     ]
    },
    {
     "name": "stderr",
     "output_type": "stream",
     "text": [
      "DEBUG:urllib3.connectionpool:https://aggregator.api.niftys.com:443 \"GET /v1/metadata/contracts/matrix-blue-contract/5 HTTP/1.1\" 404 50\n",
      "DEBUG:urllib3.connectionpool:Starting new HTTPS connection (1): aggregator.api.niftys.com:443\n"
     ]
    },
    {
     "name": "stdout",
     "output_type": "stream",
     "text": [
      "5\n"
     ]
    },
    {
     "name": "stderr",
     "output_type": "stream",
     "text": [
      "DEBUG:urllib3.connectionpool:https://aggregator.api.niftys.com:443 \"GET /v1/metadata/contracts/matrix-blue-contract/6 HTTP/1.1\" 200 1502\n",
      "DEBUG:urllib3.connectionpool:Starting new HTTPS connection (1): aggregator.api.niftys.com:443\n"
     ]
    },
    {
     "name": "stdout",
     "output_type": "stream",
     "text": [
      "6\n"
     ]
    },
    {
     "name": "stderr",
     "output_type": "stream",
     "text": [
      "DEBUG:urllib3.connectionpool:https://aggregator.api.niftys.com:443 \"GET /v1/metadata/contracts/matrix-blue-contract/7 HTTP/1.1\" 404 50\n",
      "DEBUG:urllib3.connectionpool:Starting new HTTPS connection (1): aggregator.api.niftys.com:443\n"
     ]
    },
    {
     "name": "stdout",
     "output_type": "stream",
     "text": [
      "7\n"
     ]
    },
    {
     "name": "stderr",
     "output_type": "stream",
     "text": [
      "DEBUG:urllib3.connectionpool:https://aggregator.api.niftys.com:443 \"GET /v1/metadata/contracts/matrix-blue-contract/8 HTTP/1.1\" 404 50\n",
      "DEBUG:urllib3.connectionpool:Starting new HTTPS connection (1): aggregator.api.niftys.com:443\n"
     ]
    },
    {
     "name": "stdout",
     "output_type": "stream",
     "text": [
      "8\n"
     ]
    },
    {
     "name": "stderr",
     "output_type": "stream",
     "text": [
      "DEBUG:urllib3.connectionpool:https://aggregator.api.niftys.com:443 \"GET /v1/metadata/contracts/matrix-blue-contract/9 HTTP/1.1\" 404 50\n",
      "DEBUG:urllib3.connectionpool:Starting new HTTPS connection (1): aggregator.api.niftys.com:443\n"
     ]
    },
    {
     "name": "stdout",
     "output_type": "stream",
     "text": [
      "9\n"
     ]
    },
    {
     "name": "stderr",
     "output_type": "stream",
     "text": [
      "DEBUG:urllib3.connectionpool:https://aggregator.api.niftys.com:443 \"GET /v1/metadata/contracts/matrix-blue-contract/10 HTTP/1.1\" 404 50\n",
      "DEBUG:urllib3.connectionpool:Starting new HTTPS connection (1): aggregator.api.niftys.com:443\n"
     ]
    },
    {
     "name": "stdout",
     "output_type": "stream",
     "text": [
      "10\n"
     ]
    },
    {
     "name": "stderr",
     "output_type": "stream",
     "text": [
      "DEBUG:urllib3.connectionpool:https://aggregator.api.niftys.com:443 \"GET /v1/metadata/contracts/matrix-blue-contract/11 HTTP/1.1\" 404 50\n",
      "DEBUG:urllib3.connectionpool:Starting new HTTPS connection (1): aggregator.api.niftys.com:443\n"
     ]
    },
    {
     "name": "stdout",
     "output_type": "stream",
     "text": [
      "11\n"
     ]
    },
    {
     "name": "stderr",
     "output_type": "stream",
     "text": [
      "DEBUG:urllib3.connectionpool:https://aggregator.api.niftys.com:443 \"GET /v1/metadata/contracts/matrix-blue-contract/12 HTTP/1.1\" 404 50\n",
      "DEBUG:urllib3.connectionpool:Starting new HTTPS connection (1): aggregator.api.niftys.com:443\n"
     ]
    },
    {
     "name": "stdout",
     "output_type": "stream",
     "text": [
      "12\n"
     ]
    },
    {
     "name": "stderr",
     "output_type": "stream",
     "text": [
      "DEBUG:urllib3.connectionpool:https://aggregator.api.niftys.com:443 \"GET /v1/metadata/contracts/matrix-blue-contract/13 HTTP/1.1\" 404 50\n",
      "DEBUG:urllib3.connectionpool:Starting new HTTPS connection (1): aggregator.api.niftys.com:443\n"
     ]
    },
    {
     "name": "stdout",
     "output_type": "stream",
     "text": [
      "13\n"
     ]
    },
    {
     "name": "stderr",
     "output_type": "stream",
     "text": [
      "DEBUG:urllib3.connectionpool:https://aggregator.api.niftys.com:443 \"GET /v1/metadata/contracts/matrix-blue-contract/14 HTTP/1.1\" 404 50\n",
      "DEBUG:urllib3.connectionpool:Starting new HTTPS connection (1): aggregator.api.niftys.com:443\n"
     ]
    },
    {
     "name": "stdout",
     "output_type": "stream",
     "text": [
      "14\n"
     ]
    },
    {
     "name": "stderr",
     "output_type": "stream",
     "text": [
      "DEBUG:urllib3.connectionpool:https://aggregator.api.niftys.com:443 \"GET /v1/metadata/contracts/matrix-blue-contract/15 HTTP/1.1\" 404 50\n",
      "DEBUG:urllib3.connectionpool:Starting new HTTPS connection (1): aggregator.api.niftys.com:443\n"
     ]
    },
    {
     "name": "stdout",
     "output_type": "stream",
     "text": [
      "15\n"
     ]
    },
    {
     "name": "stderr",
     "output_type": "stream",
     "text": [
      "DEBUG:urllib3.connectionpool:https://aggregator.api.niftys.com:443 \"GET /v1/metadata/contracts/matrix-blue-contract/16 HTTP/1.1\" 404 50\n",
      "DEBUG:urllib3.connectionpool:Starting new HTTPS connection (1): aggregator.api.niftys.com:443\n"
     ]
    },
    {
     "name": "stdout",
     "output_type": "stream",
     "text": [
      "16\n"
     ]
    },
    {
     "name": "stderr",
     "output_type": "stream",
     "text": [
      "DEBUG:urllib3.connectionpool:https://aggregator.api.niftys.com:443 \"GET /v1/metadata/contracts/matrix-blue-contract/17 HTTP/1.1\" 404 50\n",
      "DEBUG:urllib3.connectionpool:Starting new HTTPS connection (1): aggregator.api.niftys.com:443\n"
     ]
    },
    {
     "name": "stdout",
     "output_type": "stream",
     "text": [
      "17\n"
     ]
    },
    {
     "name": "stderr",
     "output_type": "stream",
     "text": [
      "DEBUG:urllib3.connectionpool:https://aggregator.api.niftys.com:443 \"GET /v1/metadata/contracts/matrix-blue-contract/18 HTTP/1.1\" 404 50\n",
      "DEBUG:urllib3.connectionpool:Starting new HTTPS connection (1): aggregator.api.niftys.com:443\n"
     ]
    },
    {
     "name": "stdout",
     "output_type": "stream",
     "text": [
      "18\n"
     ]
    },
    {
     "name": "stderr",
     "output_type": "stream",
     "text": [
      "DEBUG:urllib3.connectionpool:https://aggregator.api.niftys.com:443 \"GET /v1/metadata/contracts/matrix-blue-contract/19 HTTP/1.1\" 404 50\n",
      "DEBUG:urllib3.connectionpool:Starting new HTTPS connection (1): aggregator.api.niftys.com:443\n"
     ]
    },
    {
     "name": "stdout",
     "output_type": "stream",
     "text": [
      "19\n"
     ]
    },
    {
     "name": "stderr",
     "output_type": "stream",
     "text": [
      "DEBUG:urllib3.connectionpool:https://aggregator.api.niftys.com:443 \"GET /v1/metadata/contracts/matrix-blue-contract/20 HTTP/1.1\" 404 50\n",
      "DEBUG:urllib3.connectionpool:Starting new HTTPS connection (1): aggregator.api.niftys.com:443\n"
     ]
    },
    {
     "name": "stdout",
     "output_type": "stream",
     "text": [
      "20\n"
     ]
    },
    {
     "name": "stderr",
     "output_type": "stream",
     "text": [
      "DEBUG:urllib3.connectionpool:https://aggregator.api.niftys.com:443 \"GET /v1/metadata/contracts/matrix-blue-contract/21 HTTP/1.1\" 404 50\n",
      "DEBUG:urllib3.connectionpool:Starting new HTTPS connection (1): aggregator.api.niftys.com:443\n"
     ]
    },
    {
     "name": "stdout",
     "output_type": "stream",
     "text": [
      "21\n"
     ]
    },
    {
     "name": "stderr",
     "output_type": "stream",
     "text": [
      "DEBUG:urllib3.connectionpool:https://aggregator.api.niftys.com:443 \"GET /v1/metadata/contracts/matrix-blue-contract/22 HTTP/1.1\" 200 1543\n",
      "DEBUG:urllib3.connectionpool:Starting new HTTPS connection (1): aggregator.api.niftys.com:443\n"
     ]
    },
    {
     "name": "stdout",
     "output_type": "stream",
     "text": [
      "22\n"
     ]
    },
    {
     "name": "stderr",
     "output_type": "stream",
     "text": [
      "DEBUG:urllib3.connectionpool:https://aggregator.api.niftys.com:443 \"GET /v1/metadata/contracts/matrix-blue-contract/23 HTTP/1.1\" 404 50\n",
      "DEBUG:urllib3.connectionpool:Starting new HTTPS connection (1): aggregator.api.niftys.com:443\n"
     ]
    },
    {
     "name": "stdout",
     "output_type": "stream",
     "text": [
      "23\n"
     ]
    },
    {
     "name": "stderr",
     "output_type": "stream",
     "text": [
      "DEBUG:urllib3.connectionpool:https://aggregator.api.niftys.com:443 \"GET /v1/metadata/contracts/matrix-blue-contract/24 HTTP/1.1\" 404 50\n",
      "DEBUG:urllib3.connectionpool:Starting new HTTPS connection (1): aggregator.api.niftys.com:443\n"
     ]
    },
    {
     "name": "stdout",
     "output_type": "stream",
     "text": [
      "24\n"
     ]
    },
    {
     "name": "stderr",
     "output_type": "stream",
     "text": [
      "DEBUG:urllib3.connectionpool:https://aggregator.api.niftys.com:443 \"GET /v1/metadata/contracts/matrix-blue-contract/25 HTTP/1.1\" 404 50\n",
      "DEBUG:urllib3.connectionpool:Starting new HTTPS connection (1): aggregator.api.niftys.com:443\n"
     ]
    },
    {
     "name": "stdout",
     "output_type": "stream",
     "text": [
      "25\n",
      "./data/matrix-blue-contract/Attributes_1_25.csv\n",
      "startRange = 1 and stopRange = 26\n"
     ]
    },
    {
     "name": "stderr",
     "output_type": "stream",
     "text": [
      "DEBUG:urllib3.connectionpool:https://aggregator.api.niftys.com:443 \"GET /v1/metadata/contracts/ckw5j7pqf0011g4731pvaj6gm/1 HTTP/1.1\" 200 769\n",
      "DEBUG:urllib3.connectionpool:Starting new HTTPS connection (1): aggregator.api.niftys.com:443\n"
     ]
    },
    {
     "name": "stdout",
     "output_type": "stream",
     "text": [
      "in else\n",
      "length of retrievedColumns is 12\n",
      "1\n"
     ]
    },
    {
     "name": "stderr",
     "output_type": "stream",
     "text": [
      "DEBUG:urllib3.connectionpool:https://aggregator.api.niftys.com:443 \"GET /v1/metadata/contracts/ckw5j7pqf0011g4731pvaj6gm/2 HTTP/1.1\" 200 789\n",
      "DEBUG:urllib3.connectionpool:Starting new HTTPS connection (1): aggregator.api.niftys.com:443\n"
     ]
    },
    {
     "name": "stdout",
     "output_type": "stream",
     "text": [
      "2\n"
     ]
    },
    {
     "name": "stderr",
     "output_type": "stream",
     "text": [
      "DEBUG:urllib3.connectionpool:https://aggregator.api.niftys.com:443 \"GET /v1/metadata/contracts/ckw5j7pqf0011g4731pvaj6gm/3 HTTP/1.1\" 200 774\n",
      "DEBUG:urllib3.connectionpool:Starting new HTTPS connection (1): aggregator.api.niftys.com:443\n"
     ]
    },
    {
     "name": "stdout",
     "output_type": "stream",
     "text": [
      "3\n"
     ]
    },
    {
     "name": "stderr",
     "output_type": "stream",
     "text": [
      "DEBUG:urllib3.connectionpool:https://aggregator.api.niftys.com:443 \"GET /v1/metadata/contracts/ckw5j7pqf0011g4731pvaj6gm/4 HTTP/1.1\" 200 807\n",
      "DEBUG:urllib3.connectionpool:Starting new HTTPS connection (1): aggregator.api.niftys.com:443\n"
     ]
    },
    {
     "name": "stdout",
     "output_type": "stream",
     "text": [
      "4\n"
     ]
    },
    {
     "name": "stderr",
     "output_type": "stream",
     "text": [
      "DEBUG:urllib3.connectionpool:https://aggregator.api.niftys.com:443 \"GET /v1/metadata/contracts/ckw5j7pqf0011g4731pvaj6gm/5 HTTP/1.1\" 200 841\n",
      "DEBUG:urllib3.connectionpool:Starting new HTTPS connection (1): aggregator.api.niftys.com:443\n"
     ]
    },
    {
     "name": "stdout",
     "output_type": "stream",
     "text": [
      "5\n"
     ]
    },
    {
     "name": "stderr",
     "output_type": "stream",
     "text": [
      "DEBUG:urllib3.connectionpool:https://aggregator.api.niftys.com:443 \"GET /v1/metadata/contracts/ckw5j7pqf0011g4731pvaj6gm/6 HTTP/1.1\" 200 764\n",
      "DEBUG:urllib3.connectionpool:Starting new HTTPS connection (1): aggregator.api.niftys.com:443\n"
     ]
    },
    {
     "name": "stdout",
     "output_type": "stream",
     "text": [
      "6\n"
     ]
    },
    {
     "name": "stderr",
     "output_type": "stream",
     "text": [
      "DEBUG:urllib3.connectionpool:https://aggregator.api.niftys.com:443 \"GET /v1/metadata/contracts/ckw5j7pqf0011g4731pvaj6gm/7 HTTP/1.1\" 200 798\n",
      "DEBUG:urllib3.connectionpool:Starting new HTTPS connection (1): aggregator.api.niftys.com:443\n"
     ]
    },
    {
     "name": "stdout",
     "output_type": "stream",
     "text": [
      "7\n"
     ]
    },
    {
     "name": "stderr",
     "output_type": "stream",
     "text": [
      "DEBUG:urllib3.connectionpool:https://aggregator.api.niftys.com:443 \"GET /v1/metadata/contracts/ckw5j7pqf0011g4731pvaj6gm/8 HTTP/1.1\" 200 813\n",
      "DEBUG:urllib3.connectionpool:Starting new HTTPS connection (1): aggregator.api.niftys.com:443\n"
     ]
    },
    {
     "name": "stdout",
     "output_type": "stream",
     "text": [
      "8\n"
     ]
    },
    {
     "name": "stderr",
     "output_type": "stream",
     "text": [
      "DEBUG:urllib3.connectionpool:https://aggregator.api.niftys.com:443 \"GET /v1/metadata/contracts/ckw5j7pqf0011g4731pvaj6gm/9 HTTP/1.1\" 200 796\n",
      "DEBUG:urllib3.connectionpool:Starting new HTTPS connection (1): aggregator.api.niftys.com:443\n"
     ]
    },
    {
     "name": "stdout",
     "output_type": "stream",
     "text": [
      "9\n"
     ]
    },
    {
     "name": "stderr",
     "output_type": "stream",
     "text": [
      "DEBUG:urllib3.connectionpool:https://aggregator.api.niftys.com:443 \"GET /v1/metadata/contracts/ckw5j7pqf0011g4731pvaj6gm/10 HTTP/1.1\" 200 821\n",
      "DEBUG:urllib3.connectionpool:Starting new HTTPS connection (1): aggregator.api.niftys.com:443\n"
     ]
    },
    {
     "name": "stdout",
     "output_type": "stream",
     "text": [
      "10\n"
     ]
    },
    {
     "name": "stderr",
     "output_type": "stream",
     "text": [
      "DEBUG:urllib3.connectionpool:https://aggregator.api.niftys.com:443 \"GET /v1/metadata/contracts/ckw5j7pqf0011g4731pvaj6gm/11 HTTP/1.1\" 200 807\n",
      "DEBUG:urllib3.connectionpool:Starting new HTTPS connection (1): aggregator.api.niftys.com:443\n"
     ]
    },
    {
     "name": "stdout",
     "output_type": "stream",
     "text": [
      "11\n"
     ]
    },
    {
     "name": "stderr",
     "output_type": "stream",
     "text": [
      "DEBUG:urllib3.connectionpool:https://aggregator.api.niftys.com:443 \"GET /v1/metadata/contracts/ckw5j7pqf0011g4731pvaj6gm/12 HTTP/1.1\" 200 785\n",
      "DEBUG:urllib3.connectionpool:Starting new HTTPS connection (1): aggregator.api.niftys.com:443\n"
     ]
    },
    {
     "name": "stdout",
     "output_type": "stream",
     "text": [
      "12\n"
     ]
    },
    {
     "name": "stderr",
     "output_type": "stream",
     "text": [
      "DEBUG:urllib3.connectionpool:https://aggregator.api.niftys.com:443 \"GET /v1/metadata/contracts/ckw5j7pqf0011g4731pvaj6gm/13 HTTP/1.1\" 200 778\n",
      "DEBUG:urllib3.connectionpool:Starting new HTTPS connection (1): aggregator.api.niftys.com:443\n"
     ]
    },
    {
     "name": "stdout",
     "output_type": "stream",
     "text": [
      "13\n"
     ]
    },
    {
     "name": "stderr",
     "output_type": "stream",
     "text": [
      "DEBUG:urllib3.connectionpool:https://aggregator.api.niftys.com:443 \"GET /v1/metadata/contracts/ckw5j7pqf0011g4731pvaj6gm/14 HTTP/1.1\" 200 796\n",
      "DEBUG:urllib3.connectionpool:Starting new HTTPS connection (1): aggregator.api.niftys.com:443\n"
     ]
    },
    {
     "name": "stdout",
     "output_type": "stream",
     "text": [
      "14\n"
     ]
    },
    {
     "name": "stderr",
     "output_type": "stream",
     "text": [
      "DEBUG:urllib3.connectionpool:https://aggregator.api.niftys.com:443 \"GET /v1/metadata/contracts/ckw5j7pqf0011g4731pvaj6gm/15 HTTP/1.1\" 200 779\n",
      "DEBUG:urllib3.connectionpool:Starting new HTTPS connection (1): aggregator.api.niftys.com:443\n"
     ]
    },
    {
     "name": "stdout",
     "output_type": "stream",
     "text": [
      "15\n"
     ]
    },
    {
     "name": "stderr",
     "output_type": "stream",
     "text": [
      "DEBUG:urllib3.connectionpool:https://aggregator.api.niftys.com:443 \"GET /v1/metadata/contracts/ckw5j7pqf0011g4731pvaj6gm/16 HTTP/1.1\" 200 769\n",
      "DEBUG:urllib3.connectionpool:Starting new HTTPS connection (1): aggregator.api.niftys.com:443\n"
     ]
    },
    {
     "name": "stdout",
     "output_type": "stream",
     "text": [
      "16\n"
     ]
    },
    {
     "name": "stderr",
     "output_type": "stream",
     "text": [
      "DEBUG:urllib3.connectionpool:https://aggregator.api.niftys.com:443 \"GET /v1/metadata/contracts/ckw5j7pqf0011g4731pvaj6gm/17 HTTP/1.1\" 200 805\n",
      "DEBUG:urllib3.connectionpool:Starting new HTTPS connection (1): aggregator.api.niftys.com:443\n"
     ]
    },
    {
     "name": "stdout",
     "output_type": "stream",
     "text": [
      "17\n"
     ]
    },
    {
     "name": "stderr",
     "output_type": "stream",
     "text": [
      "DEBUG:urllib3.connectionpool:https://aggregator.api.niftys.com:443 \"GET /v1/metadata/contracts/ckw5j7pqf0011g4731pvaj6gm/18 HTTP/1.1\" 200 803\n",
      "DEBUG:urllib3.connectionpool:Starting new HTTPS connection (1): aggregator.api.niftys.com:443\n"
     ]
    },
    {
     "name": "stdout",
     "output_type": "stream",
     "text": [
      "18\n"
     ]
    },
    {
     "name": "stderr",
     "output_type": "stream",
     "text": [
      "DEBUG:urllib3.connectionpool:https://aggregator.api.niftys.com:443 \"GET /v1/metadata/contracts/ckw5j7pqf0011g4731pvaj6gm/19 HTTP/1.1\" 200 796\n",
      "DEBUG:urllib3.connectionpool:Starting new HTTPS connection (1): aggregator.api.niftys.com:443\n"
     ]
    },
    {
     "name": "stdout",
     "output_type": "stream",
     "text": [
      "19\n"
     ]
    },
    {
     "name": "stderr",
     "output_type": "stream",
     "text": [
      "DEBUG:urllib3.connectionpool:https://aggregator.api.niftys.com:443 \"GET /v1/metadata/contracts/ckw5j7pqf0011g4731pvaj6gm/20 HTTP/1.1\" 200 853\n",
      "DEBUG:urllib3.connectionpool:Starting new HTTPS connection (1): aggregator.api.niftys.com:443\n"
     ]
    },
    {
     "name": "stdout",
     "output_type": "stream",
     "text": [
      "20\n"
     ]
    },
    {
     "name": "stderr",
     "output_type": "stream",
     "text": [
      "DEBUG:urllib3.connectionpool:https://aggregator.api.niftys.com:443 \"GET /v1/metadata/contracts/ckw5j7pqf0011g4731pvaj6gm/21 HTTP/1.1\" 200 817\n",
      "DEBUG:urllib3.connectionpool:Starting new HTTPS connection (1): aggregator.api.niftys.com:443\n"
     ]
    },
    {
     "name": "stdout",
     "output_type": "stream",
     "text": [
      "21\n"
     ]
    },
    {
     "name": "stderr",
     "output_type": "stream",
     "text": [
      "DEBUG:urllib3.connectionpool:https://aggregator.api.niftys.com:443 \"GET /v1/metadata/contracts/ckw5j7pqf0011g4731pvaj6gm/22 HTTP/1.1\" 200 788\n",
      "DEBUG:urllib3.connectionpool:Starting new HTTPS connection (1): aggregator.api.niftys.com:443\n"
     ]
    },
    {
     "name": "stdout",
     "output_type": "stream",
     "text": [
      "22\n"
     ]
    },
    {
     "name": "stderr",
     "output_type": "stream",
     "text": [
      "DEBUG:urllib3.connectionpool:https://aggregator.api.niftys.com:443 \"GET /v1/metadata/contracts/ckw5j7pqf0011g4731pvaj6gm/23 HTTP/1.1\" 200 830\n",
      "DEBUG:urllib3.connectionpool:Starting new HTTPS connection (1): aggregator.api.niftys.com:443\n"
     ]
    },
    {
     "name": "stdout",
     "output_type": "stream",
     "text": [
      "23\n"
     ]
    },
    {
     "name": "stderr",
     "output_type": "stream",
     "text": [
      "DEBUG:urllib3.connectionpool:https://aggregator.api.niftys.com:443 \"GET /v1/metadata/contracts/ckw5j7pqf0011g4731pvaj6gm/24 HTTP/1.1\" 200 821\n",
      "DEBUG:urllib3.connectionpool:Starting new HTTPS connection (1): aggregator.api.niftys.com:443\n"
     ]
    },
    {
     "name": "stdout",
     "output_type": "stream",
     "text": [
      "24\n"
     ]
    },
    {
     "name": "stderr",
     "output_type": "stream",
     "text": [
      "DEBUG:urllib3.connectionpool:https://aggregator.api.niftys.com:443 \"GET /v1/metadata/contracts/ckw5j7pqf0011g4731pvaj6gm/25 HTTP/1.1\" 200 819\n"
     ]
    },
    {
     "name": "stdout",
     "output_type": "stream",
     "text": [
      "25\n",
      "./data/ckw5j7pqf0011g4731pvaj6gm/Attributes_1_25.csv\n",
      "CPU times: user 2.87 s, sys: 335 ms, total: 3.2 s\n",
      "Wall time: 22.7 s\n"
     ]
    }
   ],
   "source": [
    "%%time\n",
    "\n",
    "startRange = 1\n",
    "stopRange = 26\n",
    "modulo = 25\n",
    "\n",
    "print(ipython_info()) \n",
    "\n",
    "logging.basicConfig(level=logging.DEBUG)\n",
    "\n",
    "if (ipython_info() == 'terminal'):\n",
    "    if len(sys.argv) > 0:\n",
    "        print('in sys if statement')\n",
    "        startRange = int(sys.argv[1])\n",
    "        stopRange = int(sys.argv[2])\n",
    "        modulo = int(sys.argv[3])\n",
    "        print('start range is ' + str(startRange))\n",
    "        print('stop range is ' + str(stopRange))\n",
    "        print('modulo is ' + str(modulo))\n",
    "\n",
    "\n",
    "baseURL='https://aggregator.api.niftys.com/v1/metadata/contracts/'\n",
    "#contractURL='ckw5j7pqf0011g4731pvaj6gm/'\n",
    "#contractURL='matrix-red-contract/'\n",
    "\n",
    "retrievedColumns=[]\n",
    "\n",
    "for contractURL in contractURLs:\n",
    "    rowAttributes = {}\n",
    "    listing = {}\n",
    "    blankOutputList = []\n",
    "    retrievedColumns.clear()\n",
    "    refStartx = startRange\n",
    "\n",
    "    print('startRange = ' + str(startRange) + ' and stopRange = ' + str(stopRange))\n",
    "\n",
    "    for avatarNumber in range(startRange, stopRange):\n",
    "\n",
    "        s = requests.Session()\n",
    "        retries = Retry(total=5, backoff_factor=1, status_forcelist=[ 502, 503, 504 ])\n",
    "        s.mount('https://', HTTPAdapter(max_retries=retries))\n",
    "\n",
    "        lineItemJson = s.get(baseURL + contractURL + str(avatarNumber)).text\n",
    "        \n",
    "        #lineItemJson = requests.get(baseURL + contractURL + str(avatarNumber)).text\n",
    "        \n",
    "        metadata = json.loads(lineItemJson)\n",
    "        output_list=[]\n",
    "        \n",
    "        for k,v in metadata.items():\n",
    "            if type(v) is list:\n",
    "                if (len(retrievedColumns) == 0):\n",
    "                    coulumnsNameAndLocation = './data/' + contractURL + 'retrievedColumnsList.txt'\n",
    "                    if os.path.exists(coulumnsNameAndLocation):\n",
    "                        print('path exists')\n",
    "                        with open(coulumnsNameAndLocation, 'r') as filehandle:\n",
    "                            retrievedColumns = json.load(filehandle)\n",
    "                    else:\n",
    "                        print('in else')\n",
    "                        for i in v:\n",
    "                            attributeNameList=list(i.values())\n",
    "                            retrievedColumns.append(attributeNameList[0]) # name or key of the attribute\n",
    "                            blankOutputList.append('')  # fill empty string to match the same size total\n",
    "                         # open output file for writing\n",
    "                        if (len(retrievedColumns) > 0):\n",
    "                            print('length of retrievedColumns is ' + str(len(retrievedColumns)))\n",
    "                            \n",
    "                            try:\n",
    "                                with open(coulumnsNameAndLocation, 'w') as filehandle:\n",
    "                                    json.dump(retrievedColumns, filehandle)\n",
    "                            except:\n",
    "                                print('made it to except')\n",
    "                for attributes in v:\n",
    "                    valueList=list(attributes.values())\n",
    "                    cleanTextAttribute = valueList[0]\n",
    "                    if (len(valueList[1]) > 0):\n",
    "                        cleanTextValue = valueList[1]\n",
    "                    else:\n",
    "                        cleanTextValue = ''\n",
    "                    rowAttributes[cleanTextAttribute] = cleanTextValue\n",
    "                output_list = [(rowAttributes[key]) for key in (retrievedColumns) if key in rowAttributes]\n",
    "        if len(output_list) == 0:\n",
    "            listing[str(avatarNumber)] = blankOutputList.copy()\n",
    "        else:\n",
    "            listing[str(avatarNumber)] = output_list.copy()\n",
    "\n",
    "        output_list.clear()\n",
    "        #clear_output(wait=True)\n",
    "        print(avatarNumber)\n",
    "        if(avatarNumber % modulo == 0):\n",
    "            if refStartx == 1:\n",
    "                refStartx = 0\n",
    "            data_dictionary =  pd.DataFrame.from_dict(listing, orient='index', columns=retrievedColumns)  #pd.DataFrame(listing, orient='index')\n",
    "            fileName = 'Attributes_' + str(refStartx + 1) + '_' + str(avatarNumber) + '.csv'\n",
    "            saveDictionary(data_dictionary, fileName, './data/' + contractURL )\n",
    "            refStartx = avatarNumber\n",
    "            listing.clear()"
   ]
  },
  {
   "cell_type": "code",
   "execution_count": null,
   "id": "5a8c977e-c609-4c3a-8431-bb5a6000e70c",
   "metadata": {},
   "outputs": [],
   "source": [
    "#fileName = 'Attributes_' + str(refStartx + 1) + '_' + str(x) + '.csv'\n",
    "#renameFileIfExist(fileName)\n",
    "#data_dictionary =  pd.DataFrame.from_dict(listing, orient='index', columns=manualColumns)  #pd.DataFrame(listing, orient='index')\n",
    "#data_dictionary.to_csv(fileName)"
   ]
  },
  {
   "cell_type": "code",
   "execution_count": null,
   "id": "b0e5a3ad-0a1c-4c2c-b870-ab7f395663ca",
   "metadata": {},
   "outputs": [],
   "source": [
    "#for count in range(0, len(manualColumns)):\n",
    "#    print(count)\n",
    "#    print(data_dictionary[manualColumns[count]].value_counts())\n",
    "#    data_dictionary[manualColumns[count]].value_counts(normalize=True)\n",
    "#    print('---------------------------------')"
   ]
  },
  {
   "cell_type": "code",
   "execution_count": null,
   "id": "585a8ac0-2d4f-4ac0-8c89-eb98d1c74508",
   "metadata": {},
   "outputs": [],
   "source": [
    "print('done')"
   ]
  },
  {
   "cell_type": "code",
   "execution_count": null,
   "id": "2e368b57-506d-4f1a-bd0f-148395be104b",
   "metadata": {},
   "outputs": [],
   "source": []
  }
 ],
 "metadata": {
  "kernelspec": {
   "display_name": "Python 3 (ipykernel)",
   "language": "python",
   "name": "python3"
  },
  "language_info": {
   "codemirror_mode": {
    "name": "ipython",
    "version": 3
   },
   "file_extension": ".py",
   "mimetype": "text/x-python",
   "name": "python",
   "nbconvert_exporter": "python",
   "pygments_lexer": "ipython3",
   "version": "3.9.6"
  }
 },
 "nbformat": 4,
 "nbformat_minor": 5
}
