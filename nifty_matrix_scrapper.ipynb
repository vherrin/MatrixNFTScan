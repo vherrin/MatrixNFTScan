{
 "cells": [
  {
   "cell_type": "code",
   "execution_count": null,
   "id": "28dd1a5c-dc16-44a3-98cc-ccfbe3010a5d",
   "metadata": {},
   "outputs": [],
   "source": [
    "readFiles = False\n",
    "%run ./init.ipynb"
   ]
  },
  {
   "cell_type": "code",
   "execution_count": null,
   "id": "ea072d92-ba9e-440d-a542-2dc1dfccb05c",
   "metadata": {},
   "outputs": [],
   "source": [
    "def renameFileIfExist(fileName):\n",
    "    if os.path.exists(fileName):\n",
    "        os.rename(fileName,'old_' + fileName)"
   ]
  },
  {
   "cell_type": "code",
   "execution_count": null,
   "id": "1a9e2d21-3c17-41c8-ba6c-c32a933770ee",
   "metadata": {},
   "outputs": [],
   "source": [
    "listing = {}"
   ]
  },
  {
   "cell_type": "code",
   "execution_count": null,
   "id": "b2c7f47a-d490-4a38-8bf2-27b002df7618",
   "metadata": {},
   "outputs": [],
   "source": [
    "%%time\n",
    "startRange = 1\n",
    "stopRange = 100001\n",
    "\n",
    "rowAttributes = {}\n",
    "refStartx = startRange\n",
    "\n",
    "for x in range(startRange, stopRange):\n",
    "    scraper = cloudscraper.create_scraper(\n",
    "        delay=.1,\n",
    "        browser={\n",
    "            'browser': 'firefox',\n",
    "            'platform': 'windows',\n",
    "            'mobile': False\n",
    "        })\n",
    "    \n",
    "    html = scraper.get(\"https://niftys.com/nft/0x39ceaa47306381b6d79ad46af0f36bc5332386f2/\" + str(x)).text\n",
    "    soup = BeautifulSoup(html, 'lxml')\n",
    "    rows = soup.find_all('div', 'label')\n",
    "\n",
    "    for row in rows:\n",
    "        cells = row\n",
    "        str_row = str(row)\n",
    "        value = str_row.split('!-- -->')\n",
    "        cleanTextAttribute = BeautifulSoup(value[0], \"lxml\").get_text()\n",
    "        if cleanTextAttribute == 'Available on PALM':\n",
    "            continue\n",
    "            \n",
    "        if (len(value) > 1):\n",
    "            cleanTextValue = BeautifulSoup(value[1], \"lxml\").get_text().strip()\n",
    "        else:\n",
    "            cleanTextValue = \"\"\n",
    "        \n",
    "        rowAttributes[cleanTextAttribute] = cleanTextValue\n",
    "    \n",
    "    #output_list = [(rowAttributes[key]) for key in (manualColumns) if key in rowAttributes]\n",
    "    output_list = [(rowAttributes[key]) for key in (manualColumns)]\n",
    "    listing[str(x)] = output_list\n",
    "    clear_output(wait=True)\n",
    "    #print(output_list)\n",
    "    print(x)\n",
    "    if(x % 5000 == 0):\n",
    "        if refStartx == 1:\n",
    "            refStartx = 0\n",
    "        data_dictionary =  pd.DataFrame.from_dict(listing, orient='index', columns=manualColumns)  #pd.DataFrame(listing, orient='index')\n",
    "        fileName = 'Attributes_' + str(refStartx + 1) + '_' + str(x) + '.csv'\n",
    "        renameFileIfExist(fileName)\n",
    "        data_dictionary.to_csv(fileName)\n",
    "        refStartx = x\n",
    "        listing.clear()"
   ]
  },
  {
   "cell_type": "code",
   "execution_count": null,
   "id": "5a8c977e-c609-4c3a-8431-bb5a6000e70c",
   "metadata": {},
   "outputs": [],
   "source": [
    "fileName = 'Attributes_' + str(refStartx + 1) + '_' + str(x) + '.csv'\n",
    "renameFileIfExist(fileName)\n",
    "data_dictionary =  pd.DataFrame.from_dict(listing, orient='index', columns=manualColumns)  #pd.DataFrame(listing, orient='index')\n",
    "data_dictionary.to_csv(fileName)"
   ]
  },
  {
   "cell_type": "code",
   "execution_count": null,
   "id": "b0e5a3ad-0a1c-4c2c-b870-ab7f395663ca",
   "metadata": {},
   "outputs": [],
   "source": [
    "for count in range(0, len(manualColumns)):\n",
    "    print(count)\n",
    "    print(data_dictionary[manualColumns[count]].value_counts())\n",
    "    data_dictionary[manualColumns[count]].value_counts(normalize=True)\n",
    "    print('---------------------------------')"
   ]
  },
  {
   "cell_type": "code",
   "execution_count": null,
   "id": "585a8ac0-2d4f-4ac0-8c89-eb98d1c74508",
   "metadata": {},
   "outputs": [],
   "source": [
    "print('done')"
   ]
  },
  {
   "cell_type": "code",
   "execution_count": null,
   "id": "2e368b57-506d-4f1a-bd0f-148395be104b",
   "metadata": {},
   "outputs": [],
   "source": []
  }
 ],
 "metadata": {
  "kernelspec": {
   "display_name": "Python 3 (ipykernel)",
   "language": "python",
   "name": "python3"
  },
  "language_info": {
   "codemirror_mode": {
    "name": "ipython",
    "version": 3
   },
   "file_extension": ".py",
   "mimetype": "text/x-python",
   "name": "python",
   "nbconvert_exporter": "python",
   "pygments_lexer": "ipython3",
   "version": "3.9.6"
  }
 },
 "nbformat": 4,
 "nbformat_minor": 5
}
