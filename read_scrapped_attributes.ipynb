{
 "cells": [
  {
   "cell_type": "code",
   "execution_count": null,
   "id": "829d7d92-908a-4162-8150-9adfc8f8d990",
   "metadata": {},
   "outputs": [],
   "source": [
    "import pandas as pd\n",
    "import glob\n",
    "import numpy as np\n",
    "\n",
    "pd.set_option(\"display.max_rows\", None)\n",
    "\n",
    "\n",
    "manualColumns = ['Background', \n",
    "                'Hair Style', \n",
    "                'Hair Color', \n",
    "                'Facial Hair', \n",
    "                'Top', \n",
    "                'Bottom',\n",
    "                'Footwear',\n",
    "                'Ring',\n",
    "                'Headwear',\n",
    "                'Glasses',\n",
    "                'Piercings', \n",
    "                'Accessories']"
   ]
  },
  {
   "cell_type": "code",
   "execution_count": null,
   "id": "89f8a2e0-a2b1-470a-88d4-00e019e96190",
   "metadata": {},
   "outputs": [],
   "source": [
    "#data_dictionary = pd.read_csv('Attributes_1_10000.csv',encoding = \"utf-8\")\n",
    "\n",
    "# need to load these in order so manually adding them instead of using glob\n",
    "projectFiles = ['./Attributes_1_5000.csv',\n",
    "'./Attributes_5001_10000.csv',\n",
    "'./Attributes_10001_15000.csv',\n",
    "'./Attributes_15001_20000.csv',\n",
    "'./Attributes_20001_25000.csv',\n",
    "'./Attributes_25001_30000.csv', \n",
    "'./Attributes_30001_35000.csv', \n",
    "'./Attributes_35001_40000.csv', \n",
    "'./Attributes_40001_45000.csv', \n",
    "'./Attributes_45001_50000.csv', \n",
    "'./Attributes_50001_55000.csv', \n",
    "'./Attributes_55001_60000.csv',\n",
    "'./Attributes_60001_65000.csv']\n",
    "\n",
    "#df = pd.concat(map(pd.read_csv, glob.glob('./Attributes_1*.csv')))\n",
    "df = pd.concat(map(pd.read_csv, projectFiles))\n",
    "\n",
    "print(len(df.index))"
   ]
  },
  {
   "cell_type": "code",
   "execution_count": null,
   "id": "2ea2b744-8db7-402c-9c65-21f8917a77dd",
   "metadata": {},
   "outputs": [],
   "source": [
    "mci = manualColumns.copy()\n",
    "mci.insert(0,'id')\n",
    "df.columns = mci"
   ]
  },
  {
   "cell_type": "code",
   "execution_count": null,
   "id": "35813a85-78ed-40d5-97c3-96232ad9baf3",
   "metadata": {},
   "outputs": [],
   "source": [
    "# count of id's with no data\n",
    "len(np.where(pd.isnull(df['Background']))[0])"
   ]
  },
  {
   "cell_type": "code",
   "execution_count": null,
   "id": "eecfb83b-f519-46f7-9e85-f1903b9bf0cc",
   "metadata": {},
   "outputs": [],
   "source": [
    "# id's that have no data so reserved for Nifty events and giveaways\n",
    "np.where(pd.isnull(df['Background']))[0]"
   ]
  },
  {
   "cell_type": "code",
   "execution_count": null,
   "id": "e205907d-0dba-47ab-9bba-155bf6dad35f",
   "metadata": {},
   "outputs": [],
   "source": [
    "df[manualColumns[0]].value_counts().to_frame()"
   ]
  },
  {
   "cell_type": "code",
   "execution_count": null,
   "id": "03f3ef71-91ba-4228-9050-6e0841222746",
   "metadata": {},
   "outputs": [],
   "source": [
    "df[manualColumns[1]].value_counts().to_frame()"
   ]
  },
  {
   "cell_type": "code",
   "execution_count": null,
   "id": "909c5f1e-2b87-4eef-b300-0946df04ab23",
   "metadata": {},
   "outputs": [],
   "source": [
    "df[manualColumns[2]].value_counts().to_frame()"
   ]
  },
  {
   "cell_type": "code",
   "execution_count": null,
   "id": "998eeb1a-b154-4aeb-8f7d-75c0418e80e4",
   "metadata": {},
   "outputs": [],
   "source": [
    "df[manualColumns[3]].value_counts().to_frame()"
   ]
  },
  {
   "cell_type": "code",
   "execution_count": null,
   "id": "26d67385-5f44-4ad8-991a-2391c76d264e",
   "metadata": {},
   "outputs": [],
   "source": [
    "df[manualColumns[4]].value_counts().to_frame()"
   ]
  },
  {
   "cell_type": "code",
   "execution_count": null,
   "id": "1ee62a8e-07dc-4cdf-9849-8a5386ee86b2",
   "metadata": {},
   "outputs": [],
   "source": [
    "df[manualColumns[5]].value_counts().to_frame()"
   ]
  },
  {
   "cell_type": "code",
   "execution_count": null,
   "id": "ac6a56dd-02ab-42db-b418-ee2b00f57ad0",
   "metadata": {},
   "outputs": [],
   "source": [
    "df[manualColumns[6]].value_counts().to_frame()"
   ]
  },
  {
   "cell_type": "code",
   "execution_count": null,
   "id": "e9571bf7-a782-44bc-b796-6dc6cf3d1041",
   "metadata": {},
   "outputs": [],
   "source": [
    "df[manualColumns[7]].value_counts().to_frame()"
   ]
  },
  {
   "cell_type": "code",
   "execution_count": null,
   "id": "ed5e207d-5e56-4c78-b3d6-d9d1cc492e60",
   "metadata": {},
   "outputs": [],
   "source": [
    "df[manualColumns[8]].value_counts().to_frame()"
   ]
  },
  {
   "cell_type": "code",
   "execution_count": null,
   "id": "5cb9136b-369f-459e-a7ab-beb9f469c865",
   "metadata": {},
   "outputs": [],
   "source": [
    "df[manualColumns[9]].value_counts().to_frame()"
   ]
  },
  {
   "cell_type": "code",
   "execution_count": null,
   "id": "4dd1b154-7826-43b2-82d7-3fcbc748b9e1",
   "metadata": {},
   "outputs": [],
   "source": [
    "df[manualColumns[10]].value_counts().to_frame()"
   ]
  },
  {
   "cell_type": "code",
   "execution_count": null,
   "id": "5491dfb0-c55a-4e43-86d5-652ee6158a70",
   "metadata": {},
   "outputs": [],
   "source": [
    "df[manualColumns[11]].value_counts().to_frame()"
   ]
  },
  {
   "cell_type": "code",
   "execution_count": null,
   "id": "6235834d-4ce0-44c9-8446-a1ca89bae4a3",
   "metadata": {},
   "outputs": [],
   "source": [
    "for count in range(0, len(manualColumns)):\n",
    "    print(count)\n",
    "    print(df[manualColumns[count]].value_counts().to_frame())\n",
    "    print(' ~ ~ ~ ~ ~ ~ ~ ~ ~ ~ ~ ~ ~ ~ ~ ~ ~ ~ ~ ~ ~ ~ ~ ~ ~ ~ ')\n",
    "    print(df[manualColumns[count]].value_counts(normalize=True).to_frame())\n",
    "    print('=====================================================')\n",
    "    print('=====================================================')\n",
    "    #numpy_array = df[manualColums[count]].value_counts().to_numpy()\n",
    "    #np.savetxt(\"test_file.txt\", np_array_rows_append, numpy_array, fmt = \"%d\")"
   ]
  }
 ],
 "metadata": {
  "kernelspec": {
   "display_name": "Python 3 (ipykernel)",
   "language": "python",
   "name": "python3"
  },
  "language_info": {
   "codemirror_mode": {
    "name": "ipython",
    "version": 3
   },
   "file_extension": ".py",
   "mimetype": "text/x-python",
   "name": "python",
   "nbconvert_exporter": "python",
   "pygments_lexer": "ipython3",
   "version": "3.9.6"
  }
 },
 "nbformat": 4,
 "nbformat_minor": 5
}
